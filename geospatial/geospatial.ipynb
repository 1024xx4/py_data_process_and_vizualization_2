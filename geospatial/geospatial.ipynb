{
 "cells": [
  {
   "metadata": {},
   "cell_type": "markdown",
   "source": [
    "# 地理空間データの加工・可視化\n",
    "- 地理空間データは、多くの市場で使用可能なデータとなっている。\n",
    "    - 公的機関が一般公開していてとても有用\n",
    "    - 様々なデータを組み合わせることが可能な応用力の高いデータ\n",
    "## データ分析においては\n",
    "- 商圏分析\n",
    "- 適地選定\n",
    "- 顧客分析\n",
    "- BCP（事業継続計画: 防災・災害対策）\n",
    "- 掃除ロボットの制御、紛失防止タグのような屋内測位技術\n",
    "\n",
    "に用いられる。\n",
    "\n",
    "## AI 予測であれば\n",
    "- 感染症の感染予測マップ\n",
    "- 不動産売買の適正価格予測\n",
    "\n",
    "などに活用。"
   ],
   "id": "cbaa567706da0b7b"
  },
  {
   "metadata": {},
   "cell_type": "code",
   "outputs": [],
   "execution_count": null,
   "source": "",
   "id": "eaf7259714de4938"
  }
 ],
 "metadata": {
  "kernelspec": {
   "display_name": "Python 3",
   "language": "python",
   "name": "python3"
  },
  "language_info": {
   "codemirror_mode": {
    "name": "ipython",
    "version": 2
   },
   "file_extension": ".py",
   "mimetype": "text/x-python",
   "name": "python",
   "nbconvert_exporter": "python",
   "pygments_lexer": "ipython2",
   "version": "2.7.6"
  }
 },
 "nbformat": 4,
 "nbformat_minor": 5
}
