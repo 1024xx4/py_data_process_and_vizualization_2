{
 "cells": [
  {
   "cell_type": "code",
   "execution_count": null,
   "metadata": {
    "colab": {
     "base_uri": "https://localhost:8080/"
    },
    "executionInfo": {
     "elapsed": 2126,
     "status": "ok",
     "timestamp": 1709042055408,
     "user": {
      "displayName": "伊藤淳二",
      "userId": "06108280857351659017"
     },
     "user_tz": -540
    },
    "id": "GWGqPwoi_j-W",
    "outputId": "389c1056-a1ea-449b-b006-eeabf9364149"
   },
   "outputs": [],
   "source": [
    "# 下記セルを実行すると、authorization codeの入力を求められます。\n",
    "# 出力されたリンク先をクリックし、Googleアカウントにログインし、\n",
    "# authorization codeをコピーし、貼り付けをおこなってください。\n",
    "from google.colab import drive\n",
    "drive.mount('/content/drive')"
   ]
  },
  {
   "cell_type": "code",
   "execution_count": null,
   "metadata": {
    "executionInfo": {
     "elapsed": 4,
     "status": "ok",
     "timestamp": 1709042055408,
     "user": {
      "displayName": "伊藤淳二",
      "userId": "06108280857351659017"
     },
     "user_tz": -540
    },
    "id": "HrlLUr2Q_kWL"
   },
   "outputs": [],
   "source": [
    "import os\n",
    "project = 'sample_data'\n",
    "chapter = 8\n",
    "os.chdir(f'/content/drive/MyDrive/{project}/chapter-{chapter}/')"
   ]
  },
  {
   "cell_type": "markdown",
   "metadata": {
    "id": "T-BX9hFf_zFy"
   },
   "source": [
    "# chapter 8 特殊なデータ加工・可視化10ノック\n"
   ]
  },
  {
   "cell_type": "markdown",
   "metadata": {
    "id": "DKGiRw4B0cuR"
   },
   "source": [
    "## ノック91: 大容量CSVデータを扱ってみよう"
   ]
  },
  {
   "cell_type": "code",
   "execution_count": null,
   "metadata": {
    "colab": {
     "base_uri": "https://localhost:8080/",
     "height": 423
    },
    "executionInfo": {
     "elapsed": 813,
     "status": "ok",
     "timestamp": 1709042082164,
     "user": {
      "displayName": "伊藤淳二",
      "userId": "06108280857351659017"
     },
     "user_tz": -540
    },
    "id": "K0Bqkb0S02l2",
    "outputId": "b21a702d-2071-4198-8bbf-d60e823921e3"
   },
   "outputs": [],
   "source": [
    "import pandas as pd\n",
    "df = pd.read_csv('data/person_count_out_0001_2021011509.csv')\n",
    "df"
   ]
  },
  {
   "cell_type": "code",
   "execution_count": null,
   "metadata": {
    "colab": {
     "base_uri": "https://localhost:8080/"
    },
    "executionInfo": {
     "elapsed": 2,
     "status": "ok",
     "timestamp": 1709042083381,
     "user": {
      "displayName": "伊藤淳二",
      "userId": "06108280857351659017"
     },
     "user_tz": -540
    },
    "id": "SJstiALV1CM8",
    "outputId": "14ff9b49-7eb5-4b47-aadb-cd0b8358ab81"
   },
   "outputs": [],
   "source": [
    "for df in pd.read_csv('data/person_count_out_0001_2021011509.csv', chunksize=512):\n",
    "  print(df.shape)"
   ]
  },
  {
   "cell_type": "code",
   "execution_count": null,
   "metadata": {
    "executionInfo": {
     "elapsed": 1005,
     "status": "ok",
     "timestamp": 1709042085401,
     "user": {
      "displayName": "伊藤淳二",
      "userId": "06108280857351659017"
     },
     "user_tz": -540
    },
    "id": "uuetyAgO1CQf"
   },
   "outputs": [],
   "source": [
    "i = 0\n",
    "for df in pd.read_csv('data/person_count_out_0001_2021011509.csv', chunksize=64):\n",
    "  df['processd_per_chunk'] = True\n",
    "  df.to_csv('data/processed_big_data.csv', mode='a', index=False, header=i == 0)\n",
    "  i += 1"
   ]
  },
  {
   "cell_type": "code",
   "execution_count": null,
   "metadata": {
    "colab": {
     "base_uri": "https://localhost:8080/",
     "height": 423
    },
    "executionInfo": {
     "elapsed": 454,
     "status": "ok",
     "timestamp": 1709042087064,
     "user": {
      "displayName": "伊藤淳二",
      "userId": "06108280857351659017"
     },
     "user_tz": -540
    },
    "id": "3pd2V3SZ27_Y",
    "outputId": "b88dd6de-1c99-4807-fc74-a1553f6f054c"
   },
   "outputs": [],
   "source": [
    "df = pd.read_csv('data/processed_big_data.csv')\n",
    "df"
   ]
  },
  {
   "cell_type": "markdown",
   "metadata": {
    "id": "idWPtCboD_Nf"
   },
   "source": [
    "## ノック92: Json形式のファイルを扱ってみよう"
   ]
  },
  {
   "cell_type": "code",
   "execution_count": null,
   "metadata": {
    "colab": {
     "base_uri": "https://localhost:8080/",
     "height": 143
    },
    "executionInfo": {
     "elapsed": 310,
     "status": "ok",
     "timestamp": 1709042089955,
     "user": {
      "displayName": "伊藤淳二",
      "userId": "06108280857351659017"
     },
     "user_tz": -540
    },
    "id": "Bt-D9KK5h7Zt",
    "outputId": "a0733b7b-a100-4deb-b785-f4299942dffc"
   },
   "outputs": [],
   "source": [
    "pd.read_json('data/column_oriented.json')"
   ]
  },
  {
   "cell_type": "code",
   "execution_count": null,
   "metadata": {
    "colab": {
     "base_uri": "https://localhost:8080/"
    },
    "executionInfo": {
     "elapsed": 275,
     "status": "ok",
     "timestamp": 1709042092052,
     "user": {
      "displayName": "伊藤淳二",
      "userId": "06108280857351659017"
     },
     "user_tz": -540
    },
    "id": "MSZdO49HIA39",
    "outputId": "d59a85fd-4a2d-40ea-91b2-9e3b20f1755b"
   },
   "outputs": [],
   "source": [
    "!cat data/column_oriented.json"
   ]
  },
  {
   "cell_type": "code",
   "execution_count": null,
   "metadata": {
    "colab": {
     "base_uri": "https://localhost:8080/"
    },
    "executionInfo": {
     "elapsed": 284,
     "status": "ok",
     "timestamp": 1709042095790,
     "user": {
      "displayName": "伊藤淳二",
      "userId": "06108280857351659017"
     },
     "user_tz": -540
    },
    "id": "Djta2UbqjZa5",
    "outputId": "29e3b487-8822-4b5e-f65c-32fda0a6adc5"
   },
   "outputs": [],
   "source": [
    "!cat data/index_oriented.json"
   ]
  },
  {
   "cell_type": "code",
   "execution_count": null,
   "metadata": {
    "colab": {
     "base_uri": "https://localhost:8080/",
     "height": 112
    },
    "executionInfo": {
     "elapsed": 262,
     "status": "ok",
     "timestamp": 1709042098602,
     "user": {
      "displayName": "伊藤淳二",
      "userId": "06108280857351659017"
     },
     "user_tz": -540
    },
    "id": "kxw3OK3sIHDW",
    "outputId": "a0c11adf-22ca-47ad-d61d-a4cbd2103cd8"
   },
   "outputs": [],
   "source": [
    "pd.read_json('data/index_oriented.json')"
   ]
  },
  {
   "cell_type": "code",
   "execution_count": null,
   "metadata": {
    "colab": {
     "base_uri": "https://localhost:8080/",
     "height": 143
    },
    "executionInfo": {
     "elapsed": 370,
     "status": "ok",
     "timestamp": 1709042101546,
     "user": {
      "displayName": "伊藤淳二",
      "userId": "06108280857351659017"
     },
     "user_tz": -540
    },
    "id": "BQUBXBaCIsWK",
    "outputId": "07c04484-f5c3-4c3d-9479-bc74dfd588b8"
   },
   "outputs": [],
   "source": [
    "pd.read_json('data/index_oriented.json', orient='index')"
   ]
  },
  {
   "cell_type": "code",
   "execution_count": null,
   "metadata": {
    "colab": {
     "base_uri": "https://localhost:8080/"
    },
    "executionInfo": {
     "elapsed": 513,
     "status": "ok",
     "timestamp": 1709042105885,
     "user": {
      "displayName": "伊藤淳二",
      "userId": "06108280857351659017"
     },
     "user_tz": -540
    },
    "id": "Xj1lVAAiiLER",
    "outputId": "85f225e0-0eb6-4664-8497-01f755ff2b6f"
   },
   "outputs": [],
   "source": [
    "!cat data/table_oriented.json"
   ]
  },
  {
   "cell_type": "code",
   "execution_count": null,
   "metadata": {
    "colab": {
     "base_uri": "https://localhost:8080/",
     "height": 301
    },
    "executionInfo": {
     "elapsed": 410,
     "status": "error",
     "timestamp": 1709042108952,
     "user": {
      "displayName": "伊藤淳二",
      "userId": "06108280857351659017"
     },
     "user_tz": -540
    },
    "id": "OSrKr7VKfbl3",
    "outputId": "cf979060-dc52-48f8-de16-b1f3faba8b44"
   },
   "outputs": [],
   "source": [
    "pd.read_json('data/table_oriented.json')"
   ]
  },
  {
   "cell_type": "code",
   "execution_count": null,
   "metadata": {
    "colab": {
     "base_uri": "https://localhost:8080/",
     "height": 143
    },
    "executionInfo": {
     "elapsed": 420,
     "status": "ok",
     "timestamp": 1709042216559,
     "user": {
      "displayName": "伊藤淳二",
      "userId": "06108280857351659017"
     },
     "user_tz": -540
    },
    "id": "ufVrieCJk4lT",
    "outputId": "4324ef52-eba4-4f99-afcc-de1c99009604"
   },
   "outputs": [],
   "source": [
    "pd.read_json('data/table_oriented.json', orient='table')"
   ]
  },
  {
   "cell_type": "markdown",
   "metadata": {
    "id": "m42FQngblPsr"
   },
   "source": [
    "## ノック93: *Webからデータを取得してみよう*"
   ]
  },
  {
   "cell_type": "code",
   "execution_count": null,
   "metadata": {
    "colab": {
     "base_uri": "https://localhost:8080/"
    },
    "executionInfo": {
     "elapsed": 667,
     "status": "ok",
     "timestamp": 1709042286844,
     "user": {
      "displayName": "伊藤淳二",
      "userId": "06108280857351659017"
     },
     "user_tz": -540
    },
    "id": "Zbht7TVflh5u",
    "outputId": "30aae353-13c2-4002-f257-14a853ca8886"
   },
   "outputs": [],
   "source": [
    "import requests\n",
    "response = requests.get('https://worldtimeapi.org/api/timezone/Asia/Tokyo')\n",
    "response.content"
   ]
  },
  {
   "cell_type": "code",
   "execution_count": null,
   "metadata": {
    "colab": {
     "base_uri": "https://localhost:8080/"
    },
    "executionInfo": {
     "elapsed": 313,
     "status": "ok",
     "timestamp": 1709042288300,
     "user": {
      "displayName": "伊藤淳二",
      "userId": "06108280857351659017"
     },
     "user_tz": -540
    },
    "id": "D0mCffAyljDn",
    "outputId": "c0073576-29b5-4235-bed5-9c03caf9d4ba"
   },
   "outputs": [],
   "source": [
    "result = response.json()\n",
    "result"
   ]
  },
  {
   "cell_type": "code",
   "execution_count": null,
   "metadata": {
    "colab": {
     "base_uri": "https://localhost:8080/"
    },
    "executionInfo": {
     "elapsed": 3,
     "status": "ok",
     "timestamp": 1709042289152,
     "user": {
      "displayName": "伊藤淳二",
      "userId": "06108280857351659017"
     },
     "user_tz": -540
    },
    "id": "N8LLDikIljH6",
    "outputId": "cdbc5f90-d96d-46e2-ed60-d9d829517156"
   },
   "outputs": [],
   "source": [
    "pd.Series(result)"
   ]
  },
  {
   "cell_type": "code",
   "execution_count": null,
   "metadata": {
    "executionInfo": {
     "elapsed": 392,
     "status": "ok",
     "timestamp": 1709042290844,
     "user": {
      "displayName": "伊藤淳二",
      "userId": "06108280857351659017"
     },
     "user_tz": -540
    },
    "id": "6ogasK2PmDlG"
   },
   "outputs": [],
   "source": [
    "import json\n",
    "\n",
    "with open('data/response.json', mode='w') as f:\n",
    "  json.dump(result, f)"
   ]
  },
  {
   "cell_type": "code",
   "execution_count": null,
   "metadata": {
    "executionInfo": {
     "elapsed": 4954,
     "status": "ok",
     "timestamp": 1709042296617,
     "user": {
      "displayName": "伊藤淳二",
      "userId": "06108280857351659017"
     },
     "user_tz": -540
    },
    "id": "TVKygaWdmDni"
   },
   "outputs": [],
   "source": [
    "import time\n",
    "\n",
    "for _ in range(4):\n",
    "  response = requests.get('https://worldtimeapi.org/api/timezone/Asia/Tokyo')\n",
    "  with open('data/responses.txt', mode='a') as f:\n",
    "    res = response.json()\n",
    "    f.write(f'{json.dumps(res)}\\n')\n",
    "  time.sleep(1)"
   ]
  },
  {
   "cell_type": "code",
   "execution_count": null,
   "metadata": {
    "colab": {
     "base_uri": "https://localhost:8080/"
    },
    "executionInfo": {
     "elapsed": 7,
     "status": "ok",
     "timestamp": 1709042296618,
     "user": {
      "displayName": "伊藤淳二",
      "userId": "06108280857351659017"
     },
     "user_tz": -540
    },
    "id": "pp7Cezt-oYNI",
    "outputId": "ee84329b-aa25-437c-8551-98de69953327"
   },
   "outputs": [],
   "source": [
    "!cat data/responses.txt"
   ]
  },
  {
   "cell_type": "markdown",
   "metadata": {
    "id": "W8eX27Yco0kL"
   },
   "source": [
    "## ノック94: configファイルを扱ってみよう"
   ]
  },
  {
   "cell_type": "code",
   "execution_count": null,
   "metadata": {
    "colab": {
     "base_uri": "https://localhost:8080/"
    },
    "executionInfo": {
     "elapsed": 710,
     "status": "ok",
     "timestamp": 1709042304993,
     "user": {
      "displayName": "伊藤淳二",
      "userId": "06108280857351659017"
     },
     "user_tz": -540
    },
    "id": "XhyzoZRHp1xH",
    "outputId": "c20e3e2b-2bf4-455d-a9de-878075f73f7f"
   },
   "outputs": [],
   "source": [
    "!cat config.yml"
   ]
  },
  {
   "cell_type": "code",
   "execution_count": null,
   "metadata": {
    "colab": {
     "base_uri": "https://localhost:8080/"
    },
    "executionInfo": {
     "elapsed": 4,
     "status": "ok",
     "timestamp": 1709042304994,
     "user": {
      "displayName": "伊藤淳二",
      "userId": "06108280857351659017"
     },
     "user_tz": -540
    },
    "id": "1ZOf2jNPqDPr",
    "outputId": "c2a4f3b4-03a1-43f6-99e4-9c937f1034c2"
   },
   "outputs": [],
   "source": [
    "import yaml\n",
    "with open('config.yml', mode='r') as f:\n",
    "  config = yaml.safe_load(f)\n",
    "config"
   ]
  },
  {
   "cell_type": "code",
   "execution_count": null,
   "metadata": {
    "colab": {
     "base_uri": "https://localhost:8080/"
    },
    "executionInfo": {
     "elapsed": 399,
     "status": "ok",
     "timestamp": 1709042305743,
     "user": {
      "displayName": "伊藤淳二",
      "userId": "06108280857351659017"
     },
     "user_tz": -540
    },
    "id": "iGr3UTawqGyG",
    "outputId": "f533665d-1ae1-4ad9-e558-be1f4e9c65c4"
   },
   "outputs": [],
   "source": [
    "!cat config.toml"
   ]
  },
  {
   "cell_type": "code",
   "execution_count": null,
   "metadata": {
    "colab": {
     "base_uri": "https://localhost:8080/"
    },
    "executionInfo": {
     "elapsed": 2,
     "status": "ok",
     "timestamp": 1709042305743,
     "user": {
      "displayName": "伊藤淳二",
      "userId": "06108280857351659017"
     },
     "user_tz": -540
    },
    "id": "kOxXxIG7qIzV",
    "outputId": "53c46674-9205-49c9-8f2b-1dfec5163bf2"
   },
   "outputs": [],
   "source": [
    "import toml\n",
    "with open('config.toml', mode='r') as f:\n",
    "  config = toml.load(f)\n",
    "config"
   ]
  },
  {
   "cell_type": "markdown",
   "metadata": {
    "id": "UkZ3RGvyyEZg"
   },
   "source": [
    "## ノック95 : 動画ファイルを音声ファイルへ変換してみよう"
   ]
  },
  {
   "cell_type": "code",
   "execution_count": null,
   "metadata": {
    "colab": {
     "base_uri": "https://localhost:8080/"
    },
    "executionInfo": {
     "elapsed": 1208,
     "status": "ok",
     "timestamp": 1709042310922,
     "user": {
      "displayName": "伊藤淳二",
      "userId": "06108280857351659017"
     },
     "user_tz": -540
    },
    "id": "rdoCfQNCyJeB",
    "outputId": "870d8b02-60ec-4813-fa01-e479a4db7ae7"
   },
   "outputs": [],
   "source": [
    "from moviepy.editor import VideoFileClip\n",
    "\n",
    "video_clip = VideoFileClip('data/sample_video.mp4')\n",
    "video_clip.audio.write_audiofile('data/audio_by_py.mp3')"
   ]
  },
  {
   "cell_type": "code",
   "execution_count": null,
   "metadata": {
    "executionInfo": {
     "elapsed": 608,
     "status": "ok",
     "timestamp": 1709042311529,
     "user": {
      "displayName": "伊藤淳二",
      "userId": "06108280857351659017"
     },
     "user_tz": -540
    },
    "id": "026HT78043O5"
   },
   "outputs": [],
   "source": [
    "!ffmpeg -i data/sample_video.mp4 -y -hide_banner -loglevel error data/audio_by_ffmpeg.mp3"
   ]
  },
  {
   "cell_type": "code",
   "execution_count": null,
   "metadata": {
    "colab": {
     "base_uri": "https://localhost:8080/"
    },
    "executionInfo": {
     "elapsed": 4,
     "status": "ok",
     "timestamp": 1709042311529,
     "user": {
      "displayName": "伊藤淳二",
      "userId": "06108280857351659017"
     },
     "user_tz": -540
    },
    "id": "PzeBI_fQ5lEu",
    "outputId": "6f703044-d935-482d-d6ae-c63f2f1702a6"
   },
   "outputs": [],
   "source": [
    "!ls data/*.mp3"
   ]
  },
  {
   "cell_type": "markdown",
   "metadata": {
    "id": "ZfRfFicIyKHa"
   },
   "source": [
    "##ノック96 : 動画ファイルを画像ファイルへ分割してみよう"
   ]
  },
  {
   "cell_type": "code",
   "execution_count": null,
   "metadata": {
    "colab": {
     "base_uri": "https://localhost:8080/"
    },
    "executionInfo": {
     "elapsed": 12304,
     "status": "ok",
     "timestamp": 1709042326656,
     "user": {
      "displayName": "伊藤淳二",
      "userId": "06108280857351659017"
     },
     "user_tz": -540
    },
    "id": "gi7-cAtw1GDx",
    "outputId": "2dbce184-34ce-4bb7-9202-2148011f7e56"
   },
   "outputs": [],
   "source": [
    "import cv2\n",
    "from tqdm import trange\n",
    "import os\n",
    "\n",
    "cap = cv2.VideoCapture('data/sample_video.mp4')\n",
    "img_dir = 'data/images_by_py/'\n",
    "os.makedirs(img_dir, exist_ok=1)\n",
    "n = int(cap.get(cv2.CAP_PROP_FRAME_COUNT))\n",
    "\n",
    "for i in trange(n):\n",
    "  success, img = cap.read()\n",
    "  if not success:\n",
    "    continue\n",
    "  cv2.imwrite(f'{img_dir}/{i:04}.png', img)"
   ]
  },
  {
   "cell_type": "code",
   "execution_count": null,
   "metadata": {
    "colab": {
     "base_uri": "https://localhost:8080/"
    },
    "executionInfo": {
     "elapsed": 469,
     "status": "ok",
     "timestamp": 1709042327123,
     "user": {
      "displayName": "伊藤淳二",
      "userId": "06108280857351659017"
     },
     "user_tz": -540
    },
    "id": "8nwXpX087YHG",
    "outputId": "87ec4be4-c75d-4adf-ed84-df6f6fd2c3ef"
   },
   "outputs": [],
   "source": [
    "ls data/images_by_py"
   ]
  },
  {
   "cell_type": "code",
   "execution_count": null,
   "metadata": {
    "colab": {
     "base_uri": "https://localhost:8080/"
    },
    "executionInfo": {
     "elapsed": 137667,
     "status": "ok",
     "timestamp": 1709042464785,
     "user": {
      "displayName": "伊藤淳二",
      "userId": "06108280857351659017"
     },
     "user_tz": -540
    },
    "id": "W1V_jdiJ7lPR",
    "outputId": "0dc6f903-6495-42d9-90e9-e80252758b63"
   },
   "outputs": [],
   "source": [
    "!mkdir data/images_by_ffmpeg\n",
    "!ffmpeg -i data/sample_video.mp4 -y -hide_banner -loglevel error data/images_by_ffmpeg/%04d.png"
   ]
  },
  {
   "cell_type": "code",
   "execution_count": null,
   "metadata": {
    "colab": {
     "base_uri": "https://localhost:8080/"
    },
    "executionInfo": {
     "elapsed": 12,
     "status": "ok",
     "timestamp": 1709042464785,
     "user": {
      "displayName": "伊藤淳二",
      "userId": "06108280857351659017"
     },
     "user_tz": -540
    },
    "id": "wb3uBrVP8Kjh",
    "outputId": "d2bbce29-bece-4fd7-f2c5-fc96ea05ad2f"
   },
   "outputs": [],
   "source": [
    "!ls data/images_by_ffmpeg/"
   ]
  },
  {
   "cell_type": "markdown",
   "metadata": {
    "id": "WJ9oPvyoqkKu"
   },
   "source": [
    "##ノック97 : PowerPointやWordファイルを読み込んでみよう"
   ]
  },
  {
   "cell_type": "code",
   "execution_count": null,
   "metadata": {
    "colab": {
     "base_uri": "https://localhost:8080/"
    },
    "executionInfo": {
     "elapsed": 16612,
     "status": "ok",
     "timestamp": 1709042481393,
     "user": {
      "displayName": "伊藤淳二",
      "userId": "06108280857351659017"
     },
     "user_tz": -540
    },
    "id": "42pfkaDsr6zX",
    "outputId": "fe22fb2d-c6a5-4a17-c761-9a82d662bcca"
   },
   "outputs": [],
   "source": [
    "!pip install python-pptx\n",
    "!pip install python-docx"
   ]
  },
  {
   "cell_type": "code",
   "execution_count": null,
   "metadata": {
    "colab": {
     "base_uri": "https://localhost:8080/"
    },
    "executionInfo": {
     "elapsed": 900,
     "status": "ok",
     "timestamp": 1709042482288,
     "user": {
      "displayName": "伊藤淳二",
      "userId": "06108280857351659017"
     },
     "user_tz": -540
    },
    "id": "N8oloDu_sERQ",
    "outputId": "54cef2bc-c929-4998-ab74-dd853c1fd531"
   },
   "outputs": [],
   "source": [
    "import pptx\n",
    "pptx_data = pptx.Presentation('data/サンプル_PowerPoint.pptx')\n",
    "len(pptx_data.slides)"
   ]
  },
  {
   "cell_type": "code",
   "execution_count": null,
   "metadata": {
    "colab": {
     "base_uri": "https://localhost:8080/"
    },
    "executionInfo": {
     "elapsed": 5,
     "status": "ok",
     "timestamp": 1709042482288,
     "user": {
      "displayName": "伊藤淳二",
      "userId": "06108280857351659017"
     },
     "user_tz": -540
    },
    "id": "qwV83rdy0Ie1",
    "outputId": "240c9d96-102c-4013-b8a2-94e1210bfa35"
   },
   "outputs": [],
   "source": [
    "sld_0 = pptx_data.slides[0]\n",
    "shp_sld_0 = sld_0.shapes\n",
    "len(shp_sld_0)"
   ]
  },
  {
   "cell_type": "code",
   "execution_count": null,
   "metadata": {
    "colab": {
     "base_uri": "https://localhost:8080/"
    },
    "executionInfo": {
     "elapsed": 3,
     "status": "ok",
     "timestamp": 1709042482288,
     "user": {
      "displayName": "伊藤淳二",
      "userId": "06108280857351659017"
     },
     "user_tz": -540
    },
    "id": "XdW5h_3V10ll",
    "outputId": "a82ee9e2-7d42-4579-db1d-32a72b387d26"
   },
   "outputs": [],
   "source": [
    "print(shp_sld_0[0].text)\n",
    "print(shp_sld_0[0].has_text_frame)"
   ]
  },
  {
   "cell_type": "code",
   "execution_count": null,
   "metadata": {
    "colab": {
     "base_uri": "https://localhost:8080/"
    },
    "executionInfo": {
     "elapsed": 424,
     "status": "ok",
     "timestamp": 1709042482710,
     "user": {
      "displayName": "伊藤淳二",
      "userId": "06108280857351659017"
     },
     "user_tz": -540
    },
    "id": "jTHPZg0RzI7d",
    "outputId": "f6e08cdc-9e08-4d6e-860b-eac7663d1185"
   },
   "outputs": [],
   "source": [
    "pptx_data = pptx.Presentation('data/サンプル_PowerPoint.pptx')\n",
    "texts = []\n",
    "for slide in pptx_data.slides:\n",
    "    for shape in slide.shapes:\n",
    "        if shape.has_text_frame:\n",
    "          texts.append(shape.text)\n",
    "print(texts)"
   ]
  },
  {
   "cell_type": "code",
   "execution_count": null,
   "metadata": {
    "colab": {
     "base_uri": "https://localhost:8080/"
    },
    "executionInfo": {
     "elapsed": 808,
     "status": "ok",
     "timestamp": 1709042483516,
     "user": {
      "displayName": "伊藤淳二",
      "userId": "06108280857351659017"
     },
     "user_tz": -540
    },
    "id": "Lmpgo-t-sEUf",
    "outputId": "c0e9b1e3-1df5-430f-9ecd-81286f4d97bf"
   },
   "outputs": [],
   "source": [
    "import docx\n",
    "docx_data = docx.Document('data/サンプル_Word.docx')\n",
    "len(docx_data.paragraphs)"
   ]
  },
  {
   "cell_type": "code",
   "execution_count": null,
   "metadata": {
    "colab": {
     "base_uri": "https://localhost:8080/",
     "height": 36
    },
    "executionInfo": {
     "elapsed": 11,
     "status": "ok",
     "timestamp": 1709042483516,
     "user": {
      "displayName": "伊藤淳二",
      "userId": "06108280857351659017"
     },
     "user_tz": -540
    },
    "id": "dJ6hjjHVT7Iu",
    "outputId": "470000a4-3447-4d79-dd63-e5dea4f53101"
   },
   "outputs": [],
   "source": [
    "docx_data.paragraphs[0].text"
   ]
  },
  {
   "cell_type": "code",
   "execution_count": null,
   "metadata": {
    "colab": {
     "base_uri": "https://localhost:8080/"
    },
    "executionInfo": {
     "elapsed": 10,
     "status": "ok",
     "timestamp": 1709042483517,
     "user": {
      "displayName": "伊藤淳二",
      "userId": "06108280857351659017"
     },
     "user_tz": -540
    },
    "id": "puvbOk75T7Lm",
    "outputId": "6c931a8b-0750-41c2-8761-4c922e255ef9"
   },
   "outputs": [],
   "source": [
    "texts = []\n",
    "for paragraph in docx_data.paragraphs:\n",
    "  texts.append(paragraph.text)\n",
    "print(texts)"
   ]
  },
  {
   "cell_type": "markdown",
   "metadata": {
    "id": "ePgCK2gmqI6t"
   },
   "source": [
    "##ノック98 : PDFデータを読み込んでみよう"
   ]
  },
  {
   "cell_type": "code",
   "execution_count": null,
   "metadata": {
    "colab": {
     "base_uri": "https://localhost:8080/"
    },
    "executionInfo": {
     "elapsed": 14425,
     "status": "ok",
     "timestamp": 1709042497935,
     "user": {
      "displayName": "伊藤淳二",
      "userId": "06108280857351659017"
     },
     "user_tz": -540
    },
    "id": "KfJEpmO9qmGe",
    "outputId": "083b2607-b882-4274-9e50-3389177fd5f5"
   },
   "outputs": [],
   "source": [
    "!pip install pdfminer.six"
   ]
  },
  {
   "cell_type": "code",
   "execution_count": null,
   "metadata": {
    "executionInfo": {
     "elapsed": 3,
     "status": "ok",
     "timestamp": 1709042497935,
     "user": {
      "displayName": "伊藤淳二",
      "userId": "06108280857351659017"
     },
     "user_tz": -540
    },
    "id": "iPD_bYLLcuub"
   },
   "outputs": [],
   "source": [
    "from pdfminer.pdfinterp import PDFResourceManager, PDFPageInterpreter\n",
    "from pdfminer.converter import TextConverter\n",
    "from pdfminer.pdfpage import PDFPage\n",
    "from pdfminer.layout import LAParams"
   ]
  },
  {
   "cell_type": "code",
   "execution_count": null,
   "metadata": {
    "executionInfo": {
     "elapsed": 963,
     "status": "ok",
     "timestamp": 1709042498895,
     "user": {
      "displayName": "伊藤淳二",
      "userId": "06108280857351659017"
     },
     "user_tz": -540
    },
    "id": "aYvucWJbCYNm"
   },
   "outputs": [],
   "source": [
    "pdf_data = open('data/サンプル_PDF.pdf', 'rb')\n",
    "txt_file = 'data/サンプル_PDF.txt'\n",
    "out_data = open(txt_file, mode='w')\n",
    "\n",
    "rscmgr = PDFResourceManager()\n",
    "laprms = LAParams()\n",
    "device = TextConverter(rscmgr, out_data, laparams=laprms)\n",
    "itprtr = PDFPageInterpreter(rscmgr, device)\n",
    "\n",
    "for page in PDFPage.get_pages(pdf_data):\n",
    "    itprtr.process_page(page)\n",
    "\n",
    "out_data.close()\n",
    "device.close()\n",
    "pdf_data.close()"
   ]
  },
  {
   "cell_type": "code",
   "execution_count": null,
   "metadata": {
    "colab": {
     "base_uri": "https://localhost:8080/"
    },
    "executionInfo": {
     "elapsed": 11,
     "status": "ok",
     "timestamp": 1709042498896,
     "user": {
      "displayName": "伊藤淳二",
      "userId": "06108280857351659017"
     },
     "user_tz": -540
    },
    "id": "tNP-TrURCYTs",
    "outputId": "abb39b5d-d34d-4190-9aab-3d8a2c821038"
   },
   "outputs": [],
   "source": [
    "with open('data/サンプル_PDF.txt', mode='r') as f:\n",
    "  content = f.read()\n",
    "print(content)"
   ]
  },
  {
   "cell_type": "markdown",
   "metadata": {
    "id": "e-Oiig461JFF"
   },
   "source": [
    "## ノック99 : インタラクティブなグラフを作成してみよう"
   ]
  },
  {
   "cell_type": "code",
   "execution_count": null,
   "metadata": {
    "colab": {
     "base_uri": "https://localhost:8080/",
     "height": 0
    },
    "executionInfo": {
     "elapsed": 7,
     "status": "ok",
     "timestamp": 1709042498896,
     "user": {
      "displayName": "伊藤淳二",
      "userId": "06108280857351659017"
     },
     "user_tz": -540
    },
    "id": "D30qqoFaEAxl",
    "outputId": "580b6808-6718-47b4-e968-783cc72d8ef5"
   },
   "outputs": [],
   "source": [
    "import pandas as pd\n",
    "df = pd.read_csv('data/person_count_out_0001_2021011509.csv')\n",
    "df.head()"
   ]
  },
  {
   "cell_type": "code",
   "execution_count": null,
   "metadata": {
    "colab": {
     "base_uri": "https://localhost:8080/",
     "height": 542
    },
    "executionInfo": {
     "elapsed": 2579,
     "status": "ok",
     "timestamp": 1709042501471,
     "user": {
      "displayName": "伊藤淳二",
      "userId": "06108280857351659017"
     },
     "user_tz": -540
    },
    "id": "BrJc8lHfDzd6",
    "outputId": "be2255e1-750a-4ba4-d591-aaf3417f1a1e"
   },
   "outputs": [],
   "source": [
    "import plotly.express as px\n",
    "fig = px.line(x=df['receive_time'], y=df['in1'])\n",
    "fig.show()"
   ]
  },
  {
   "cell_type": "code",
   "execution_count": null,
   "metadata": {
    "colab": {
     "base_uri": "https://localhost:8080/",
     "height": 0
    },
    "executionInfo": {
     "elapsed": 11,
     "status": "ok",
     "timestamp": 1709042501471,
     "user": {
      "displayName": "伊藤淳二",
      "userId": "06108280857351659017"
     },
     "user_tz": -540
    },
    "id": "4ZdDAmY_DzhQ",
    "outputId": "25dc16c9-8d29-4920-dbdf-c400a6f1deb9"
   },
   "outputs": [],
   "source": [
    "df_v = pd.melt(df[['receive_time','in1','out1']], id_vars=['receive_time'], var_name=\"変数名\",value_name=\"値\")\n",
    "df_v.head()"
   ]
  },
  {
   "cell_type": "code",
   "execution_count": null,
   "metadata": {
    "colab": {
     "base_uri": "https://localhost:8080/",
     "height": 542
    },
    "executionInfo": {
     "elapsed": 492,
     "status": "ok",
     "timestamp": 1709042501954,
     "user": {
      "displayName": "伊藤淳二",
      "userId": "06108280857351659017"
     },
     "user_tz": -540
    },
    "id": "S1cxu7MIEpeB",
    "outputId": "0bb2a18e-8bd4-4f8e-e590-8332d6e9b2bd"
   },
   "outputs": [],
   "source": [
    "fig = px.line(df_v, x='receive_time', y='値', color='変数名')\n",
    "fig.show()"
   ]
  },
  {
   "cell_type": "markdown",
   "metadata": {
    "id": "H2tpAQ9DFweR"
   },
   "source": [
    "## ノック100: 3次元グラフを作成してみよう"
   ]
  },
  {
   "cell_type": "code",
   "execution_count": null,
   "metadata": {
    "colab": {
     "base_uri": "https://localhost:8080/",
     "height": 206
    },
    "executionInfo": {
     "elapsed": 1638,
     "status": "ok",
     "timestamp": 1709042503587,
     "user": {
      "displayName": "伊藤淳二",
      "userId": "06108280857351659017"
     },
     "user_tz": -540
    },
    "id": "Gkr6Dpb8G4ke",
    "outputId": "46cf129e-1f5e-46fc-9d25-ea6217e73a13"
   },
   "outputs": [],
   "source": [
    "import seaborn as sns\n",
    "df_iris = sns.load_dataset('iris')\n",
    "df_iris.head()"
   ]
  },
  {
   "cell_type": "code",
   "execution_count": null,
   "metadata": {
    "colab": {
     "base_uri": "https://localhost:8080/",
     "height": 542
    },
    "executionInfo": {
     "elapsed": 13,
     "status": "ok",
     "timestamp": 1709042503588,
     "user": {
      "displayName": "伊藤淳二",
      "userId": "06108280857351659017"
     },
     "user_tz": -540
    },
    "id": "2V3Z4Pz-JsM5",
    "outputId": "29bfafb6-be3e-46b1-ec3a-5f9f2d1a19f1"
   },
   "outputs": [],
   "source": [
    "fig = px.scatter(df_iris, x='sepal_length', y='sepal_width', color='species')\n",
    "fig.show()"
   ]
  },
  {
   "cell_type": "code",
   "execution_count": null,
   "metadata": {
    "colab": {
     "base_uri": "https://localhost:8080/"
    },
    "executionInfo": {
     "elapsed": 10,
     "status": "ok",
     "timestamp": 1709042503588,
     "user": {
      "displayName": "伊藤淳二",
      "userId": "06108280857351659017"
     },
     "user_tz": -540
    },
    "id": "Ab61C_yEWw1T",
    "outputId": "6711a37e-bdab-412a-901d-caed6cfd96da"
   },
   "outputs": [],
   "source": [
    "fig = px.scatter_3d(df_iris, x='sepal_length', y='sepal_width', z='petal_width',color='species')\n",
    "fig.show()"
   ]
  }
 ],
 "metadata": {
  "colab": {
   "provenance": []
  },
  "kernelspec": {
   "display_name": "Python 3",
   "name": "python3"
  },
  "language_info": {
   "name": "python"
  }
 },
 "nbformat": 4,
 "nbformat_minor": 0
}
