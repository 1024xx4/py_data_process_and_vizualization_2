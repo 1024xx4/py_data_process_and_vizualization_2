{
 "cells": [
  {
   "cell_type": "code",
   "execution_count": null,
   "metadata": {
    "colab": {
     "base_uri": "https://localhost:8080/"
    },
    "executionInfo": {
     "elapsed": 26523,
     "status": "ok",
     "timestamp": 1709041550250,
     "user": {
      "displayName": "伊藤淳二",
      "userId": "06108280857351659017"
     },
     "user_tz": -540
    },
    "id": "HB3mviwv25Jc",
    "outputId": "353d37df-9e81-4df1-fcf2-e5663d8d7a02"
   },
   "outputs": [],
   "source": [
    "# 下記セルを実行すると、authorization codeの入力を求められます。\n",
    "# 出力されたリンク先をクリックし、Googleアカウントにログインし、\n",
    "# authorization codeをコピーし、貼り付けをおこなってください。\n",
    "from google.colab import drive\n",
    "drive.mount('/content/drive')"
   ]
  },
  {
   "cell_type": "code",
   "execution_count": null,
   "metadata": {
    "executionInfo": {
     "elapsed": 604,
     "status": "ok",
     "timestamp": 1709041550851,
     "user": {
      "displayName": "伊藤淳二",
      "userId": "06108280857351659017"
     },
     "user_tz": -540
    },
    "id": "HcOU_u4l25Jd"
   },
   "outputs": [],
   "source": [
    "import os\n",
    "project = 'sample_data'\n",
    "chapter = 3\n",
    "os.chdir(f'/content/drive/MyDrive/{project}/chapter-{chapter}/')"
   ]
  },
  {
   "cell_type": "markdown",
   "metadata": {
    "id": "pCbOP-x725Jd"
   },
   "source": [
    "# ３章 時系列データの加工・可視化１０本ノック"
   ]
  },
  {
   "cell_type": "markdown",
   "metadata": {
    "id": "UMt-N3VMJQmJ"
   },
   "source": [
    "## ノック４１：時系列データを読み込んでみよう"
   ]
  },
  {
   "cell_type": "code",
   "execution_count": null,
   "metadata": {
    "colab": {
     "base_uri": "https://localhost:8080/"
    },
    "executionInfo": {
     "elapsed": 8639,
     "status": "ok",
     "timestamp": 1709041582810,
     "user": {
      "displayName": "伊藤淳二",
      "userId": "06108280857351659017"
     },
     "user_tz": -540
    },
    "id": "X0_qawUmRqa-",
    "outputId": "36abfe51-06f3-4586-ab6e-00b628cb6373"
   },
   "outputs": [],
   "source": [
    "from glob import glob\n",
    "files = glob('data/person_count_1sec/out_0001/*.csv')\n",
    "files.sort()\n",
    "files[:5]"
   ]
  },
  {
   "cell_type": "code",
   "execution_count": null,
   "metadata": {
    "colab": {
     "base_uri": "https://localhost:8080/",
     "height": 409
    },
    "executionInfo": {
     "elapsed": 1088,
     "status": "ok",
     "timestamp": 1709041583896,
     "user": {
      "displayName": "伊藤淳二",
      "userId": "06108280857351659017"
     },
     "user_tz": -540
    },
    "id": "RJfKBOCVQ9Sg",
    "outputId": "dd9a1962-b12b-40f9-f5f0-c91d5f3e939f"
   },
   "outputs": [],
   "source": [
    "import pandas as pd\n",
    "data = pd.read_csv(files[0])\n",
    "display(data.head(5))\n",
    "print(data.dtypes)"
   ]
  },
  {
   "cell_type": "code",
   "execution_count": null,
   "metadata": {
    "colab": {
     "base_uri": "https://localhost:8080/",
     "height": 409
    },
    "executionInfo": {
     "elapsed": 10,
     "status": "ok",
     "timestamp": 1709041583896,
     "user": {
      "displayName": "伊藤淳二",
      "userId": "06108280857351659017"
     },
     "user_tz": -540
    },
    "id": "MUZJdWFgG2dG",
    "outputId": "31712494-7d28-4f17-faef-ebde47127ebc"
   },
   "outputs": [],
   "source": [
    "data['receive_time'] = pd.to_datetime(data['receive_time'])\n",
    "display(data.head())\n",
    "print(data.dtypes)"
   ]
  },
  {
   "cell_type": "code",
   "execution_count": null,
   "metadata": {
    "colab": {
     "base_uri": "https://localhost:8080/",
     "height": 409
    },
    "executionInfo": {
     "elapsed": 8,
     "status": "ok",
     "timestamp": 1709041583896,
     "user": {
      "displayName": "伊藤淳二",
      "userId": "06108280857351659017"
     },
     "user_tz": -540
    },
    "id": "dPDO6hobG2dG",
    "outputId": "8b070844-22d0-4eec-a94f-a2f9c0190b3f"
   },
   "outputs": [],
   "source": [
    "data = pd.read_csv(files[0], parse_dates=[\"receive_time\"])\n",
    "display(data.head())\n",
    "print(data.dtypes)"
   ]
  },
  {
   "cell_type": "code",
   "execution_count": null,
   "metadata": {
    "colab": {
     "base_uri": "https://localhost:8080/",
     "height": 0
    },
    "executionInfo": {
     "elapsed": 28706,
     "status": "ok",
     "timestamp": 1709041612595,
     "user": {
      "displayName": "伊藤淳二",
      "userId": "06108280857351659017"
     },
     "user_tz": -540
    },
    "id": "u6YXQoGUNyG1",
    "outputId": "3675c32f-7193-43a3-b2bd-0276ce5ae82c"
   },
   "outputs": [],
   "source": [
    "data = []\n",
    "for f in files:\n",
    "  tmp = pd.read_csv(f, parse_dates=[\"receive_time\"])\n",
    "  data.append(tmp)\n",
    "data = pd.concat(data,ignore_index=True)\n",
    "display(data.head())\n",
    "len(data)"
   ]
  },
  {
   "cell_type": "markdown",
   "metadata": {
    "id": "yecwJpz1PWrQ"
   },
   "source": [
    "## ノック４２：日付の範囲を確認しよう"
   ]
  },
  {
   "cell_type": "code",
   "execution_count": null,
   "metadata": {
    "colab": {
     "base_uri": "https://localhost:8080/"
    },
    "executionInfo": {
     "elapsed": 17,
     "status": "ok",
     "timestamp": 1709041612596,
     "user": {
      "displayName": "伊藤淳二",
      "userId": "06108280857351659017"
     },
     "user_tz": -540
    },
    "id": "an1sjR1vQyUI",
    "outputId": "47b92600-47fa-434c-f325-fe5b25b19c82"
   },
   "outputs": [],
   "source": [
    "min_receive_time = data['receive_time'].min()\n",
    "max_receive_time = data['receive_time'].max()\n",
    "print(min_receive_time)\n",
    "print(max_receive_time)"
   ]
  },
  {
   "cell_type": "code",
   "execution_count": null,
   "metadata": {
    "colab": {
     "base_uri": "https://localhost:8080/"
    },
    "executionInfo": {
     "elapsed": 11,
     "status": "ok",
     "timestamp": 1709041612596,
     "user": {
      "displayName": "伊藤淳二",
      "userId": "06108280857351659017"
     },
     "user_tz": -540
    },
    "id": "POFL8sU0RHE0",
    "outputId": "8e05c852-15f2-4867-ca8b-c1ff16f197b7"
   },
   "outputs": [],
   "source": [
    "print(data['receive_time'].max()-data['receive_time'].min())"
   ]
  },
  {
   "cell_type": "markdown",
   "metadata": {
    "id": "5Y7f3a3BM-pm"
   },
   "source": [
    "## ノック４３：日毎のデータ件数を確認しよう"
   ]
  },
  {
   "cell_type": "code",
   "execution_count": null,
   "metadata": {
    "colab": {
     "base_uri": "https://localhost:8080/",
     "height": 0
    },
    "executionInfo": {
     "elapsed": 6,
     "status": "ok",
     "timestamp": 1709041613148,
     "user": {
      "displayName": "伊藤淳二",
      "userId": "06108280857351659017"
     },
     "user_tz": -540
    },
    "id": "Vnepx-lShiUG",
    "outputId": "c7e8c98b-01d5-4e50-880f-bb983a3e7ca4"
   },
   "outputs": [],
   "source": [
    "data['receive_date'] = data['receive_time'].dt.date\n",
    "data.head()"
   ]
  },
  {
   "cell_type": "code",
   "execution_count": null,
   "metadata": {
    "colab": {
     "base_uri": "https://localhost:8080/",
     "height": 0
    },
    "executionInfo": {
     "elapsed": 580,
     "status": "ok",
     "timestamp": 1709041613724,
     "user": {
      "displayName": "伊藤淳二",
      "userId": "06108280857351659017"
     },
     "user_tz": -540
    },
    "id": "MgqV8TIyhvBn",
    "outputId": "a6026d00-9c80-43a0-a53d-43551458d37e"
   },
   "outputs": [],
   "source": [
    "daily_count = data[['receive_date','id']].groupby('receive_date', as_index=False).count()\n",
    "daily_count.head()"
   ]
  },
  {
   "cell_type": "code",
   "execution_count": null,
   "metadata": {
    "colab": {
     "base_uri": "https://localhost:8080/",
     "height": 0
    },
    "executionInfo": {
     "elapsed": 1690,
     "status": "ok",
     "timestamp": 1709041615411,
     "user": {
      "displayName": "伊藤淳二",
      "userId": "06108280857351659017"
     },
     "user_tz": -540
    },
    "id": "VaG_EWlkiMup",
    "outputId": "e79f98a9-228a-4a46-e603-4d802443dc56"
   },
   "outputs": [],
   "source": [
    "import seaborn as sns\n",
    "import matplotlib.pyplot as plt\n",
    "plt.figure(figsize=(15, 5))\n",
    "plt.xticks(rotation=90)\n",
    "sns.barplot(x=daily_count['receive_date'], y=daily_count[\"id\"])"
   ]
  },
  {
   "cell_type": "markdown",
   "metadata": {
    "id": "ViRmiYPJnmus"
   },
   "source": [
    "## ノック４４：日付から曜日を算出しよう"
   ]
  },
  {
   "cell_type": "code",
   "execution_count": null,
   "metadata": {
    "colab": {
     "base_uri": "https://localhost:8080/",
     "height": 206
    },
    "executionInfo": {
     "elapsed": 1180,
     "status": "ok",
     "timestamp": 1709041616587,
     "user": {
      "displayName": "伊藤淳二",
      "userId": "06108280857351659017"
     },
     "user_tz": -540
    },
    "id": "5vpJDlsdnx3t",
    "outputId": "e9cbe780-cdab-4818-ebfb-5d810e1fb842"
   },
   "outputs": [],
   "source": [
    "data['dayofweek'] = data['receive_time'].dt.dayofweek\n",
    "data['day_name'] = data['receive_time'].dt.day_name()\n",
    "data.head()"
   ]
  },
  {
   "cell_type": "code",
   "execution_count": null,
   "metadata": {
    "colab": {
     "base_uri": "https://localhost:8080/",
     "height": 0
    },
    "executionInfo": {
     "elapsed": 608,
     "status": "ok",
     "timestamp": 1709041617191,
     "user": {
      "displayName": "伊藤淳二",
      "userId": "06108280857351659017"
     },
     "user_tz": -540
    },
    "id": "SWwV1gJkoERb",
    "outputId": "9162961f-948d-42e4-bd43-d7f055d779c3"
   },
   "outputs": [],
   "source": [
    "data[['receive_date','dayofweek','day_name']].drop_duplicates(subset='receive_date').head(10)"
   ]
  },
  {
   "cell_type": "markdown",
   "metadata": {
    "id": "iA3P7k4TljBX"
   },
   "source": [
    "## ノック４５：特定範囲のデータに絞り込もう"
   ]
  },
  {
   "cell_type": "code",
   "execution_count": null,
   "metadata": {
    "colab": {
     "base_uri": "https://localhost:8080/",
     "height": 0
    },
    "executionInfo": {
     "elapsed": 29,
     "status": "ok",
     "timestamp": 1709041617192,
     "user": {
      "displayName": "伊藤淳二",
      "userId": "06108280857351659017"
     },
     "user_tz": -540
    },
    "id": "6MfBS5OMkb4l",
    "outputId": "dbfefde0-abef-4af7-d11d-a9f2244c6f64"
   },
   "outputs": [],
   "source": [
    "import datetime as dt\n",
    "data_extract = data.loc[(data['receive_time']>=dt.datetime(2021,1,20))&\n",
    "                        (data['receive_time']<dt.datetime(2021,1,23))].copy()\n",
    "display(data_extract.head())\n",
    "display(data_extract.tail())"
   ]
  },
  {
   "cell_type": "markdown",
   "metadata": {
    "id": "-3-FbGQmi193"
   },
   "source": [
    "## ノック４６：秒単位のデータを作成しよう"
   ]
  },
  {
   "cell_type": "code",
   "execution_count": null,
   "metadata": {
    "colab": {
     "base_uri": "https://localhost:8080/",
     "height": 0
    },
    "executionInfo": {
     "elapsed": 27,
     "status": "ok",
     "timestamp": 1709041617192,
     "user": {
      "displayName": "伊藤淳二",
      "userId": "06108280857351659017"
     },
     "user_tz": -540
    },
    "id": "oH7M8ZOgNMaa",
    "outputId": "41861f1c-d5aa-4e67-90d7-ab9267a640c4"
   },
   "outputs": [],
   "source": [
    "data_extract['receive_time_sec'] = data_extract['receive_time'].dt.round('S')\n",
    "data_extract.head()"
   ]
  },
  {
   "cell_type": "code",
   "execution_count": null,
   "metadata": {
    "colab": {
     "base_uri": "https://localhost:8080/"
    },
    "executionInfo": {
     "elapsed": 27,
     "status": "ok",
     "timestamp": 1709041617192,
     "user": {
      "displayName": "伊藤淳二",
      "userId": "06108280857351659017"
     },
     "user_tz": -540
    },
    "id": "p4LgSOicTVrJ",
    "outputId": "276afeda-553b-4a2e-bf2d-ef6c6cf02c63"
   },
   "outputs": [],
   "source": [
    "print(len(data_extract))\n",
    "print(len(data_extract['receive_time_sec'].unique()))"
   ]
  },
  {
   "cell_type": "code",
   "execution_count": null,
   "metadata": {
    "colab": {
     "base_uri": "https://localhost:8080/",
     "height": 264
    },
    "executionInfo": {
     "elapsed": 24,
     "status": "ok",
     "timestamp": 1709041617192,
     "user": {
      "displayName": "伊藤淳二",
      "userId": "06108280857351659017"
     },
     "user_tz": -540
    },
    "id": "swhwTcNuTwWB",
    "outputId": "dab2242a-5fe6-4bdf-d8c3-70a829a5942c"
   },
   "outputs": [],
   "source": [
    "data_extract[data_extract['receive_time_sec'].duplicated(keep=False)].head()"
   ]
  },
  {
   "cell_type": "code",
   "execution_count": null,
   "metadata": {
    "colab": {
     "base_uri": "https://localhost:8080/",
     "height": 350
    },
    "executionInfo": {
     "elapsed": 23,
     "status": "ok",
     "timestamp": 1709041617193,
     "user": {
      "displayName": "伊藤淳二",
      "userId": "06108280857351659017"
     },
     "user_tz": -540
    },
    "id": "ijL7ratGNyET",
    "outputId": "995f7a27-426c-4342-80f6-8a28038c31d8"
   },
   "outputs": [],
   "source": [
    "data_extract['receive_time_sec'] = data_extract['receive_time'].dt.floor('S')\n",
    "display(data_extract.head())\n",
    "print(len(data_extract))\n",
    "print(len(data_extract['receive_time_sec'].unique()))"
   ]
  },
  {
   "cell_type": "code",
   "execution_count": null,
   "metadata": {
    "colab": {
     "base_uri": "https://localhost:8080/",
     "height": 167
    },
    "executionInfo": {
     "elapsed": 22,
     "status": "ok",
     "timestamp": 1709041617193,
     "user": {
      "displayName": "伊藤淳二",
      "userId": "06108280857351659017"
     },
     "user_tz": -540
    },
    "id": "Uuu338bATkyv",
    "outputId": "065758a3-c715-43d7-c06d-683c17f1b604"
   },
   "outputs": [],
   "source": [
    "data_extract[data_extract['receive_time_sec'].duplicated(keep=False)].head()"
   ]
  },
  {
   "cell_type": "code",
   "execution_count": null,
   "metadata": {
    "colab": {
     "base_uri": "https://localhost:8080/"
    },
    "executionInfo": {
     "elapsed": 21,
     "status": "ok",
     "timestamp": 1709041617193,
     "user": {
      "displayName": "伊藤淳二",
      "userId": "06108280857351659017"
     },
     "user_tz": -540
    },
    "id": "3zZLHEUVe7Lz",
    "outputId": "3c3e159f-1d94-43a2-ccde-66f6f7b2bc99"
   },
   "outputs": [],
   "source": [
    "data_extract = data_extract.drop_duplicates(subset=['receive_time_sec'])\n",
    "min_receive_time = data_extract['receive_time_sec'].min()\n",
    "max_receive_time = data_extract['receive_time_sec'].max()\n",
    "print(len(data_extract))\n",
    "print(f'{min_receive_time}から{max_receive_time}')"
   ]
  },
  {
   "cell_type": "markdown",
   "metadata": {
    "id": "0jEeKThlZLtm"
   },
   "source": [
    "## ノック４７：秒単位のデータを整形しよう"
   ]
  },
  {
   "cell_type": "code",
   "execution_count": null,
   "metadata": {
    "colab": {
     "base_uri": "https://localhost:8080/"
    },
    "executionInfo": {
     "elapsed": 19,
     "status": "ok",
     "timestamp": 1709041617193,
     "user": {
      "displayName": "伊藤淳二",
      "userId": "06108280857351659017"
     },
     "user_tz": -540
    },
    "id": "zMVJa_9kdTom",
    "outputId": "f7bcbdec-ff53-49cd-ee6a-6700555e5b79"
   },
   "outputs": [],
   "source": [
    "print(pd.date_range('2021-01-15', '2021-01-16', freq='S'))"
   ]
  },
  {
   "cell_type": "code",
   "execution_count": null,
   "metadata": {
    "id": "rZ_EFhHHd4PR"
   },
   "outputs": [],
   "source": [
    "base_data = pd.DataFrame({'receive_time_sec':pd.date_range(min_receive_time, max_receive_time,freq='S')})\n",
    "display(base_data.head())\n",
    "display(base_data.tail())\n",
    "print(len(base_data))"
   ]
  },
  {
   "cell_type": "code",
   "execution_count": null,
   "metadata": {
    "id": "ggkxNp8DgCRl"
   },
   "outputs": [],
   "source": [
    "data_base_extract = pd.merge(base_data, data_extract, on='receive_time_sec', how='left')\n",
    "display(data_base_extract.head())\n",
    "display(data_base_extract.isna().sum())"
   ]
  },
  {
   "cell_type": "markdown",
   "metadata": {
    "id": "sfKC6KKArWnk"
   },
   "source": [
    "## ノック４８：秒間の欠損データを処理しよう"
   ]
  },
  {
   "cell_type": "code",
   "execution_count": null,
   "metadata": {
    "id": "DFSPB1OirelE"
   },
   "outputs": [],
   "source": [
    "data_base_extract.sort_values('receive_time_sec',inplace=True)\n",
    "data_base_extract = data_base_extract.fillna(method='ffill')\n",
    "data_base_extract.head()"
   ]
  },
  {
   "cell_type": "markdown",
   "metadata": {
    "id": "bc3iz7IpdOYR"
   },
   "source": [
    "## ノック４９：通った人数を可視化しよう"
   ]
  },
  {
   "cell_type": "code",
   "execution_count": null,
   "metadata": {
    "id": "fYnnojaITazg"
   },
   "outputs": [],
   "source": [
    "data_analytics = data_base_extract[['receive_time_sec','in1','out1']].copy()\n",
    "data_analytics.head()"
   ]
  },
  {
   "cell_type": "code",
   "execution_count": null,
   "metadata": {
    "id": "3FCq69jxuioT"
   },
   "outputs": [],
   "source": [
    "data_before_1sec = data_analytics.shift(1)\n",
    "data_before_1sec.head()"
   ]
  },
  {
   "cell_type": "code",
   "execution_count": null,
   "metadata": {
    "id": "8QB-Hx0vvgww"
   },
   "outputs": [],
   "source": [
    "data_before_1sec.columns = ['receive_time_sec_b1sec','in1_b1sec','out1_b1sec']\n",
    "data_analytics = pd.concat([data_analytics, data_before_1sec],axis=1)\n",
    "data_analytics.head()"
   ]
  },
  {
   "cell_type": "code",
   "execution_count": null,
   "metadata": {
    "id": "yl9j0jz2wHd_"
   },
   "outputs": [],
   "source": [
    "data_analytics['in1_calc'] = data_analytics['in1'] - data_analytics['in1_b1sec']\n",
    "data_analytics['out1_calc'] = data_analytics['out1'] - data_analytics['out1_b1sec']\n",
    "data_analytics.head()"
   ]
  },
  {
   "cell_type": "code",
   "execution_count": null,
   "metadata": {
    "id": "WVRSqb1LyfXx"
   },
   "outputs": [],
   "source": [
    "data_analytics['date_hour'] = data_analytics['receive_time_sec'].dt.strftime('%Y%m%d%H')\n",
    "data_analytics.head()"
   ]
  },
  {
   "cell_type": "code",
   "execution_count": null,
   "metadata": {
    "id": "YSPynlFL2aKd"
   },
   "outputs": [],
   "source": [
    "viz_data = data_analytics[['date_hour','in1_calc','out1_calc']].groupby('date_hour',as_index=False).sum()\n",
    "viz_data = pd.melt(viz_data, id_vars='date_hour', value_vars=['in1_calc', 'out1_calc'])\n",
    "viz_data.head()"
   ]
  },
  {
   "cell_type": "code",
   "execution_count": null,
   "metadata": {
    "id": "7VWa3PVkwZKE"
   },
   "outputs": [],
   "source": [
    "plt.figure(figsize=(15, 5))\n",
    "plt.xticks(rotation=90)\n",
    "sns.lineplot(x=viz_data['date_hour'], y=viz_data[\"value\"], hue=viz_data['variable'])"
   ]
  },
  {
   "cell_type": "markdown",
   "metadata": {
    "id": "ZyRFGF40OOcQ"
   },
   "source": [
    "## ノック５０：移動平均を計算して可視化しよう"
   ]
  },
  {
   "cell_type": "code",
   "execution_count": null,
   "metadata": {
    "id": "UdZHRrMgP5XX"
   },
   "outputs": [],
   "source": [
    "viz_data = data_analytics[['date_hour','in1_calc','out1_calc']].groupby('date_hour',as_index=False).sum()\n",
    "viz_data.head(10)"
   ]
  },
  {
   "cell_type": "code",
   "execution_count": null,
   "metadata": {
    "id": "syQ5W215hQrf"
   },
   "outputs": [],
   "source": [
    "viz_data_rolling = viz_data[['in1_calc','out1_calc']].rolling(3).mean()\n",
    "viz_data_rolling.head(10)"
   ]
  },
  {
   "cell_type": "code",
   "execution_count": null,
   "metadata": {
    "id": "bnrRANvmP5kT"
   },
   "outputs": [],
   "source": [
    "viz_data_rolling['date_hour'] = viz_data['date_hour']\n",
    "viz_data_rolling = pd.melt(viz_data_rolling, id_vars='date_hour', value_vars=['in1_calc', 'out1_calc'])\n",
    "\n",
    "plt.figure(figsize=(15, 5))\n",
    "plt.xticks(rotation=90)\n",
    "sns.lineplot(x=viz_data_rolling['date_hour'], y=viz_data_rolling[\"value\"], hue=viz_data_rolling['variable'])"
   ]
  }
 ],
 "metadata": {
  "colab": {
   "provenance": []
  },
  "kernelspec": {
   "display_name": "Python 3.7.4 64-bit ('base': conda)",
   "name": "python374jvsc74a57bd0b3ba2566441a7c06988d0923437866b63cedc61552a5af99d1f4fb67d367b25f"
  },
  "language_info": {
   "codemirror_mode": {
    "name": "ipython",
    "version": 3
   },
   "file_extension": ".py",
   "mimetype": "text/x-python",
   "name": "python",
   "nbconvert_exporter": "python",
   "pygments_lexer": "ipython3",
   "version": "3.7.4"
  }
 },
 "nbformat": 4,
 "nbformat_minor": 0
}
