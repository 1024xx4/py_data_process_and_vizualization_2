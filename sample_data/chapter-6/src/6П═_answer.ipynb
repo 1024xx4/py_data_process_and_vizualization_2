{
 "cells": [
  {
   "cell_type": "code",
   "execution_count": null,
   "metadata": {
    "colab": {
     "base_uri": "https://localhost:8080/"
    },
    "executionInfo": {
     "elapsed": 23479,
     "status": "ok",
     "timestamp": 1709041724563,
     "user": {
      "displayName": "伊藤淳二",
      "userId": "06108280857351659017"
     },
     "user_tz": -540
    },
    "id": "TrwkZqE3ICy7",
    "outputId": "9e490c29-0a82-4e5d-a1f1-0e43413baff4"
   },
   "outputs": [],
   "source": [
    "# 下記セルを実行すると、authorization codeの入力を求められます。\n",
    "# 出力されたリンク先をクリックし、Googleアカウントにログインし、\n",
    "# authorization codeをコピーし、貼り付けをおこなってください。\n",
    "from google.colab import drive\n",
    "drive.mount('/content/drive')"
   ]
  },
  {
   "cell_type": "code",
   "execution_count": null,
   "metadata": {
    "executionInfo": {
     "elapsed": 2,
     "status": "ok",
     "timestamp": 1709041724564,
     "user": {
      "displayName": "伊藤淳二",
      "userId": "06108280857351659017"
     },
     "user_tz": -540
    },
    "id": "kbtAsNu1K4Fz"
   },
   "outputs": [],
   "source": [
    "import os\n",
    "project = 'sample_data'\n",
    "chapter = 6\n",
    "os.chdir(f'/content/drive/MyDrive/{project}/chapter-{chapter}/')"
   ]
  },
  {
   "cell_type": "markdown",
   "metadata": {
    "id": "Ajcku7_FPT8n"
   },
   "source": [
    "# ６章 音声データの加工・可視化１０本ノック\n",
    "\n"
   ]
  },
  {
   "cell_type": "markdown",
   "metadata": {
    "id": "5Q_iVBC_Pc9j"
   },
   "source": [
    "## ノック７１：音データを再生してみよう"
   ]
  },
  {
   "cell_type": "code",
   "execution_count": null,
   "metadata": {
    "colab": {
     "base_uri": "https://localhost:8080/",
     "height": 76
    },
    "executionInfo": {
     "elapsed": 783,
     "status": "ok",
     "timestamp": 1709041771155,
     "user": {
      "displayName": "伊藤淳二",
      "userId": "06108280857351659017"
     },
     "user_tz": -540
    },
    "id": "pC6FPzRWKIA9",
    "outputId": "0e3b20fc-6ace-497a-ac90-3e24e88a5fcb"
   },
   "outputs": [],
   "source": [
    "import IPython.display as disp\n",
    "disp.Audio('data/音声.mp3')"
   ]
  },
  {
   "cell_type": "code",
   "execution_count": null,
   "metadata": {
    "colab": {
     "base_uri": "https://localhost:8080/",
     "height": 76
    },
    "executionInfo": {
     "elapsed": 641,
     "status": "ok",
     "timestamp": 1709041771792,
     "user": {
      "displayName": "伊藤淳二",
      "userId": "06108280857351659017"
     },
     "user_tz": -540
    },
    "id": "aadKbkQSnqGv",
    "outputId": "99b7cf9b-675f-479c-e470-ccd5e2d2fdeb"
   },
   "outputs": [],
   "source": [
    "disp.Audio('data/携帯電話着信音.mp3')"
   ]
  },
  {
   "cell_type": "markdown",
   "metadata": {
    "id": "HdZ-cpssQch8"
   },
   "source": [
    "## ノック７２：音データを読み込んでみよう"
   ]
  },
  {
   "cell_type": "code",
   "execution_count": null,
   "metadata": {
    "colab": {
     "base_uri": "https://localhost:8080/"
    },
    "executionInfo": {
     "elapsed": 12358,
     "status": "ok",
     "timestamp": 1709041784147,
     "user": {
      "displayName": "伊藤淳二",
      "userId": "06108280857351659017"
     },
     "user_tz": -540
    },
    "id": "qrEEBufQKPeI",
    "outputId": "2637e9c1-f28d-4c32-de4e-4e9ace7c720f"
   },
   "outputs": [],
   "source": [
    "import librosa\n",
    "audio1, sr1 = librosa.load('data/音声.mp3',sr=None)\n",
    "print(audio1)\n",
    "print(sr1)"
   ]
  },
  {
   "cell_type": "code",
   "execution_count": null,
   "metadata": {
    "colab": {
     "base_uri": "https://localhost:8080/"
    },
    "executionInfo": {
     "elapsed": 9,
     "status": "ok",
     "timestamp": 1709041784148,
     "user": {
      "displayName": "伊藤淳二",
      "userId": "06108280857351659017"
     },
     "user_tz": -540
    },
    "id": "AM72lOrwc_0c",
    "outputId": "764b8276-f281-409d-b218-be0695c71bc5"
   },
   "outputs": [],
   "source": [
    "print(audio1.shape)\n",
    "print(audio1.max())\n",
    "print(audio1.min())"
   ]
  },
  {
   "cell_type": "code",
   "execution_count": null,
   "metadata": {
    "colab": {
     "base_uri": "https://localhost:8080/"
    },
    "executionInfo": {
     "elapsed": 7,
     "status": "ok",
     "timestamp": 1709041784148,
     "user": {
      "displayName": "伊藤淳二",
      "userId": "06108280857351659017"
     },
     "user_tz": -540
    },
    "id": "0Rj8FHFdpJ_-",
    "outputId": "78fe11e2-d7e8-4d4d-f2eb-3e20a52c2ef0"
   },
   "outputs": [],
   "source": [
    "audio2, sr2 = librosa.load('data/携帯電話着信音.mp3',sr=None)\n",
    "print(audio2)\n",
    "print(sr2)\n",
    "print(audio2.shape)"
   ]
  },
  {
   "cell_type": "markdown",
   "metadata": {
    "id": "-lJetfVumk0v"
   },
   "source": [
    "## ノック７３：音データの一部を取得してみよう"
   ]
  },
  {
   "cell_type": "code",
   "execution_count": null,
   "metadata": {
    "colab": {
     "base_uri": "https://localhost:8080/"
    },
    "executionInfo": {
     "elapsed": 5,
     "status": "ok",
     "timestamp": 1709041784148,
     "user": {
      "displayName": "伊藤淳二",
      "userId": "06108280857351659017"
     },
     "user_tz": -540
    },
    "id": "JTvVBWtfmulm",
    "outputId": "fb2cae2d-d595-455f-c0dd-9eb478736c93"
   },
   "outputs": [],
   "source": [
    "audio2, sr2 = librosa.load('data/携帯電話着信音.mp3',sr=None, offset=0, duration=1)\n",
    "print(audio2)\n",
    "print(sr2)\n",
    "print(audio2.shape)"
   ]
  },
  {
   "cell_type": "code",
   "execution_count": null,
   "metadata": {
    "colab": {
     "base_uri": "https://localhost:8080/",
     "height": 0
    },
    "executionInfo": {
     "elapsed": 864,
     "status": "ok",
     "timestamp": 1709041785009,
     "user": {
      "displayName": "伊藤淳二",
      "userId": "06108280857351659017"
     },
     "user_tz": -540
    },
    "id": "9vsUe8oWobuh",
    "outputId": "8482ed03-90e9-41d6-fadd-1456dd7d953c"
   },
   "outputs": [],
   "source": [
    "disp.Audio(data=audio2, rate=sr2)"
   ]
  },
  {
   "cell_type": "code",
   "execution_count": null,
   "metadata": {
    "colab": {
     "base_uri": "https://localhost:8080/"
    },
    "executionInfo": {
     "elapsed": 10,
     "status": "ok",
     "timestamp": 1709041785009,
     "user": {
      "displayName": "伊藤淳二",
      "userId": "06108280857351659017"
     },
     "user_tz": -540
    },
    "id": "uBZ1fsLnobxW",
    "outputId": "79fc11c3-8d8c-44eb-89ae-64ababbb7a25"
   },
   "outputs": [],
   "source": [
    "audio1, sr1 = librosa.load('data/音声.mp3',sr=None, offset=0, duration=1)\n",
    "disp.Audio(data=audio1, rate=sr1)\n",
    "print(audio1.shape)"
   ]
  },
  {
   "cell_type": "markdown",
   "metadata": {
    "id": "v0JxbbBjpzmR"
   },
   "source": [
    "## ノック７４：音データのサンプリングレートを変えてみよう"
   ]
  },
  {
   "cell_type": "code",
   "execution_count": null,
   "metadata": {
    "colab": {
     "base_uri": "https://localhost:8080/"
    },
    "executionInfo": {
     "elapsed": 8,
     "status": "ok",
     "timestamp": 1709041785009,
     "user": {
      "displayName": "伊藤淳二",
      "userId": "06108280857351659017"
     },
     "user_tz": -540
    },
    "id": "4KrSIv84rNiE",
    "outputId": "93d1f738-f16d-4978-8382-ced9cc0dff7f"
   },
   "outputs": [],
   "source": [
    "audio1_sr22, sr1_sr22 = librosa.load('data/音声.mp3',sr=22050, offset=0, duration=1)\n",
    "print(audio1_sr22)\n",
    "print(sr1_sr22)\n",
    "print(audio1_sr22.shape)"
   ]
  },
  {
   "cell_type": "code",
   "execution_count": null,
   "metadata": {
    "colab": {
     "base_uri": "https://localhost:8080/"
    },
    "executionInfo": {
     "elapsed": 6,
     "status": "ok",
     "timestamp": 1709041785009,
     "user": {
      "displayName": "伊藤淳二",
      "userId": "06108280857351659017"
     },
     "user_tz": -540
    },
    "id": "1kVZQG3_rNkg",
    "outputId": "83a00d83-3a0f-44b3-a9bc-147b6511681c"
   },
   "outputs": [],
   "source": [
    "audio1_sr8 = librosa.resample(y=audio1, orig_sr=sr1, target_sr=8000)\n",
    "print(audio1_sr8)\n",
    "print(audio1_sr8.shape)"
   ]
  },
  {
   "cell_type": "code",
   "execution_count": null,
   "metadata": {
    "colab": {
     "base_uri": "https://localhost:8080/"
    },
    "executionInfo": {
     "elapsed": 6,
     "status": "ok",
     "timestamp": 1709041785010,
     "user": {
      "displayName": "伊藤淳二",
      "userId": "06108280857351659017"
     },
     "user_tz": -540
    },
    "id": "iCZ-2QZbuSCO",
    "outputId": "48bb5767-5412-4f62-ec94-5f490100fae8"
   },
   "outputs": [],
   "source": [
    "librosa.get_samplerate('data/音声.mp3')"
   ]
  },
  {
   "cell_type": "markdown",
   "metadata": {
    "id": "6L2CNOkpuUyl"
   },
   "source": [
    "## ノック７５：音データを可視化してみよう"
   ]
  },
  {
   "cell_type": "code",
   "execution_count": null,
   "metadata": {
    "colab": {
     "base_uri": "https://localhost:8080/",
     "height": 0
    },
    "executionInfo": {
     "elapsed": 568,
     "status": "ok",
     "timestamp": 1709041785573,
     "user": {
      "displayName": "伊藤淳二",
      "userId": "06108280857351659017"
     },
     "user_tz": -540
    },
    "id": "cUR-WAk1uSEx",
    "outputId": "45572713-9198-439c-f72f-6bfa37977556"
   },
   "outputs": [],
   "source": [
    "import librosa.display as libdisp\n",
    "libdisp.waveshow(audio1, sr=sr1)"
   ]
  },
  {
   "cell_type": "code",
   "execution_count": null,
   "metadata": {
    "colab": {
     "base_uri": "https://localhost:8080/",
     "height": 0
    },
    "executionInfo": {
     "elapsed": 550,
     "status": "ok",
     "timestamp": 1709041786119,
     "user": {
      "displayName": "伊藤淳二",
      "userId": "06108280857351659017"
     },
     "user_tz": -540
    },
    "id": "nM1FcFJGvwL_",
    "outputId": "d1a9475d-8911-4302-e24d-f09b2521042b"
   },
   "outputs": [],
   "source": [
    "libdisp.waveshow(audio1_sr22, sr=sr1_sr22)"
   ]
  },
  {
   "cell_type": "code",
   "execution_count": null,
   "metadata": {
    "colab": {
     "base_uri": "https://localhost:8080/",
     "height": 0
    },
    "executionInfo": {
     "elapsed": 349,
     "status": "ok",
     "timestamp": 1709041786465,
     "user": {
      "displayName": "伊藤淳二",
      "userId": "06108280857351659017"
     },
     "user_tz": -540
    },
    "id": "ioqPQ4BmwC9c",
    "outputId": "4e499d24-d2c7-4f6d-fa69-8655a39e9736"
   },
   "outputs": [],
   "source": [
    "libdisp.waveshow(audio1_sr8, sr=8000)"
   ]
  },
  {
   "cell_type": "code",
   "execution_count": null,
   "metadata": {
    "colab": {
     "base_uri": "https://localhost:8080/",
     "height": 0
    },
    "executionInfo": {
     "elapsed": 653,
     "status": "ok",
     "timestamp": 1709041787116,
     "user": {
      "displayName": "伊藤淳二",
      "userId": "06108280857351659017"
     },
     "user_tz": -540
    },
    "id": "H7RDsxP_uSHg",
    "outputId": "4a700df5-4a92-4ca2-cd1c-bd3c5b255053"
   },
   "outputs": [],
   "source": [
    "libdisp.waveshow(audio2, sr=sr2)"
   ]
  },
  {
   "cell_type": "markdown",
   "metadata": {
    "id": "I0fOS8BywaYX"
   },
   "source": [
    "## ノック７６：音データの大きさを取得してみよう"
   ]
  },
  {
   "cell_type": "code",
   "execution_count": null,
   "metadata": {
    "colab": {
     "base_uri": "https://localhost:8080/"
    },
    "executionInfo": {
     "elapsed": 6,
     "status": "ok",
     "timestamp": 1709041787116,
     "user": {
      "displayName": "伊藤淳二",
      "userId": "06108280857351659017"
     },
     "user_tz": -540
    },
    "id": "3gge9K0jJNER",
    "outputId": "282601fd-5bcc-430a-cb3b-1029fdba1abd"
   },
   "outputs": [],
   "source": [
    "import numpy as np\n",
    "audio1_rms = np.sqrt(np.mean(audio1**2))\n",
    "audio2_rms = np.sqrt(np.mean(audio2**2))\n",
    "print(audio1_rms)\n",
    "print(audio2_rms)"
   ]
  },
  {
   "cell_type": "code",
   "execution_count": null,
   "metadata": {
    "colab": {
     "base_uri": "https://localhost:8080/"
    },
    "executionInfo": {
     "elapsed": 2275,
     "status": "ok",
     "timestamp": 1709041789388,
     "user": {
      "displayName": "伊藤淳二",
      "userId": "06108280857351659017"
     },
     "user_tz": -540
    },
    "id": "udM6UaWvzJl0",
    "outputId": "aeaf6bbd-a4da-46a6-eaaf-82a58be7194a"
   },
   "outputs": [],
   "source": [
    "rms1 = librosa.feature.rms(y=audio1)\n",
    "time1 = librosa.times_like(rms1, sr=sr1)\n",
    "print(rms1.shape)\n",
    "rms1"
   ]
  },
  {
   "cell_type": "code",
   "execution_count": null,
   "metadata": {
    "colab": {
     "base_uri": "https://localhost:8080/",
     "height": 448
    },
    "executionInfo": {
     "elapsed": 749,
     "status": "ok",
     "timestamp": 1709041790133,
     "user": {
      "displayName": "伊藤淳二",
      "userId": "06108280857351659017"
     },
     "user_tz": -540
    },
    "id": "WoLP-r3dzibD",
    "outputId": "3462da0b-9a42-44a1-f35e-c5ccf90d8f10"
   },
   "outputs": [],
   "source": [
    "import matplotlib.pyplot as plt\n",
    "\n",
    "rms2 = librosa.feature.rms(y=audio2)\n",
    "time2 = librosa.times_like(rms2, sr=sr2)\n",
    "plt.plot(time1, rms1[0], label='audio1')\n",
    "plt.plot(time2, rms2[0], label='audio2')\n",
    "plt.legend()"
   ]
  },
  {
   "cell_type": "markdown",
   "metadata": {
    "id": "Egk0GbNWPD8l"
   },
   "source": [
    "## ノック７７：周波数スペクトルを表示してみよう"
   ]
  },
  {
   "cell_type": "code",
   "execution_count": null,
   "metadata": {
    "colab": {
     "base_uri": "https://localhost:8080/"
    },
    "executionInfo": {
     "elapsed": 12,
     "status": "ok",
     "timestamp": 1709041790134,
     "user": {
      "displayName": "伊藤淳二",
      "userId": "06108280857351659017"
     },
     "user_tz": -540
    },
    "id": "JVGyDjlE5oZl",
    "outputId": "2a5e462b-d889-4e22-fbbe-fa74c6acb758"
   },
   "outputs": [],
   "source": [
    "fft = np.fft.fft(audio1)\n",
    "n = fft.size\n",
    "amp = np.abs(fft)\n",
    "freq = np.fft.fftfreq(n, d=1 / sr1)\n",
    "print(amp.shape)\n",
    "print(freq.shape)\n",
    "print(amp.max())\n",
    "print(amp.min())\n",
    "print(freq.max())\n",
    "print(freq.min())"
   ]
  },
  {
   "cell_type": "code",
   "execution_count": null,
   "metadata": {
    "colab": {
     "base_uri": "https://localhost:8080/",
     "height": 486
    },
    "executionInfo": {
     "elapsed": 9,
     "status": "ok",
     "timestamp": 1709041790134,
     "user": {
      "displayName": "伊藤淳二",
      "userId": "06108280857351659017"
     },
     "user_tz": -540
    },
    "id": "dle4PyKlwXHG",
    "outputId": "6a5e7a07-ec53-433a-9a14-c55fedaea8fc"
   },
   "outputs": [],
   "source": [
    "plt.figure(figsize=(10, 5))\n",
    "plt.plot(freq[:n//2], amp[:n//2])\n",
    "plt.xlabel('Frequency [Hz]')\n",
    "plt.ylabel('Amplitude')"
   ]
  },
  {
   "cell_type": "code",
   "execution_count": null,
   "metadata": {
    "colab": {
     "base_uri": "https://localhost:8080/",
     "height": 486
    },
    "executionInfo": {
     "elapsed": 7,
     "status": "ok",
     "timestamp": 1709041790134,
     "user": {
      "displayName": "伊藤淳二",
      "userId": "06108280857351659017"
     },
     "user_tz": -540
    },
    "id": "VhD1ILlkVL4U",
    "outputId": "31cd5257-238d-4a80-af3d-b4ef57b9cc88"
   },
   "outputs": [],
   "source": [
    "fft = np.fft.fft(audio1_sr22)\n",
    "n = fft.size\n",
    "amp = np.abs(fft)\n",
    "freq = np.fft.fftfreq(n, d=1 / sr1_sr22)\n",
    "plt.figure(figsize=(10, 5))\n",
    "plt.plot(freq[:n//2], amp[:n//2])\n",
    "plt.xlabel('Frequency [Hz]')\n",
    "plt.ylabel('Amplitude')"
   ]
  },
  {
   "cell_type": "code",
   "execution_count": null,
   "metadata": {
    "colab": {
     "base_uri": "https://localhost:8080/",
     "height": 0
    },
    "executionInfo": {
     "elapsed": 548,
     "status": "ok",
     "timestamp": 1709041790677,
     "user": {
      "displayName": "伊藤淳二",
      "userId": "06108280857351659017"
     },
     "user_tz": -540
    },
    "id": "r4HzT-vQRv5R",
    "outputId": "bb7b9ec9-1c05-4865-db19-0704de377cef"
   },
   "outputs": [],
   "source": [
    "fft = np.fft.fft(audio2)\n",
    "n = fft.size\n",
    "amp = np.abs(fft)\n",
    "freq = np.fft.fftfreq(n, d=1/sr2)\n",
    "\n",
    "plt.figure(figsize=(10, 5))\n",
    "plt.plot(freq[:n//2], amp[:n//2])\n",
    "plt.xlabel('Frequency [Hz]')\n",
    "plt.ylabel('Amplitude')"
   ]
  },
  {
   "cell_type": "markdown",
   "metadata": {
    "id": "WswBuRn4gyXM"
   },
   "source": [
    "## ノック７８：スペクトログラムを可視化してみよう"
   ]
  },
  {
   "cell_type": "code",
   "execution_count": null,
   "metadata": {
    "colab": {
     "base_uri": "https://localhost:8080/"
    },
    "executionInfo": {
     "elapsed": 7,
     "status": "ok",
     "timestamp": 1709041790677,
     "user": {
      "displayName": "伊藤淳二",
      "userId": "06108280857351659017"
     },
     "user_tz": -540
    },
    "id": "h5cT7z7UXpVQ",
    "outputId": "7335f410-0eba-4bb0-cf2f-5b5bb4aa3fd3"
   },
   "outputs": [],
   "source": [
    "stft = librosa.stft(audio1)\n",
    "amps = np.abs(stft)\n",
    "spectrogram = librosa.amplitude_to_db(amps)\n",
    "print(stft.shape)\n",
    "print(amps.shape)\n",
    "print(spectrogram.shape)"
   ]
  },
  {
   "cell_type": "code",
   "execution_count": null,
   "metadata": {
    "colab": {
     "base_uri": "https://localhost:8080/"
    },
    "executionInfo": {
     "elapsed": 5,
     "status": "ok",
     "timestamp": 1709041790677,
     "user": {
      "displayName": "伊藤淳二",
      "userId": "06108280857351659017"
     },
     "user_tz": -540
    },
    "id": "dxLJ7IXIuFlG",
    "outputId": "dfbe767b-8ea7-4044-b64f-653b836eea47"
   },
   "outputs": [],
   "source": [
    "1+(2048/2)"
   ]
  },
  {
   "cell_type": "code",
   "execution_count": null,
   "metadata": {
    "colab": {
     "base_uri": "https://localhost:8080/",
     "height": 0
    },
    "executionInfo": {
     "elapsed": 616,
     "status": "ok",
     "timestamp": 1709041791290,
     "user": {
      "displayName": "伊藤淳二",
      "userId": "06108280857351659017"
     },
     "user_tz": -540
    },
    "id": "SB0jsLuisZYq",
    "outputId": "9c805f7b-0c5d-429c-885a-7326221e4ca3"
   },
   "outputs": [],
   "source": [
    "plt.figure(figsize=(10, 5))\n",
    "librosa.display.specshow(spectrogram, sr=sr1, x_axis='time', y_axis='hz',cmap='magma')\n",
    "bar = plt.colorbar()\n",
    "bar.ax.set_ylabel('db')"
   ]
  },
  {
   "cell_type": "code",
   "execution_count": null,
   "metadata": {
    "colab": {
     "base_uri": "https://localhost:8080/",
     "height": 0
    },
    "executionInfo": {
     "elapsed": 943,
     "status": "ok",
     "timestamp": 1709041792230,
     "user": {
      "displayName": "伊藤淳二",
      "userId": "06108280857351659017"
     },
     "user_tz": -540
    },
    "id": "FmIBej2TguqR",
    "outputId": "9ee82659-988f-4735-ce1e-e4aec45c75ed"
   },
   "outputs": [],
   "source": [
    "plt.figure(figsize=(10, 5))\n",
    "stft = librosa.stft(audio2)\n",
    "amps = np.abs(stft)\n",
    "spectrogram = librosa.amplitude_to_db(amps)\n",
    "librosa.display.specshow(spectrogram, sr=sr2, x_axis='time', y_axis='hz',cmap='magma')\n",
    "bar = plt.colorbar()\n",
    "bar.ax.set_ylabel('db')"
   ]
  },
  {
   "cell_type": "markdown",
   "metadata": {
    "id": "ngLjRenU_FVu"
   },
   "source": [
    "## ノック７９：音の高さや長さを変えてみよう"
   ]
  },
  {
   "cell_type": "code",
   "execution_count": null,
   "metadata": {
    "colab": {
     "base_uri": "https://localhost:8080/",
     "height": 0
    },
    "executionInfo": {
     "elapsed": 6,
     "status": "ok",
     "timestamp": 1709041792230,
     "user": {
      "displayName": "伊藤淳二",
      "userId": "06108280857351659017"
     },
     "user_tz": -540
    },
    "id": "UmSFJqcUVIq3",
    "outputId": "afd2dced-adcc-48c4-c94a-aeff5c8da363"
   },
   "outputs": [],
   "source": [
    "audio1, sr1 = librosa.load('data/音声.mp3',sr=None)\n",
    "print(audio1.shape)\n",
    "disp.Audio(data=audio1, rate=sr1)"
   ]
  },
  {
   "cell_type": "code",
   "execution_count": null,
   "metadata": {
    "colab": {
     "base_uri": "https://localhost:8080/"
    },
    "id": "9GTpMbGNVcs_",
    "outputId": "fd5a597d-eb06-4440-e628-4c88a2d041fc"
   },
   "outputs": [],
   "source": [
    "audio1_pitch = librosa.effects.pitch_shift(y=audio1, sr=sr1, n_steps=10)\n",
    "print(audio1_pitch.shape)\n",
    "disp.Audio(data=audio1_pitch, rate=sr1)"
   ]
  },
  {
   "cell_type": "code",
   "execution_count": null,
   "metadata": {
    "id": "Ulp-nYzXRs88"
   },
   "outputs": [],
   "source": [
    "audio1_pitch = librosa.effects.pitch_shift(y=audio1, sr=sr1,n_steps=-5)\n",
    "disp.Audio(data=audio1_pitch, rate=sr1)"
   ]
  },
  {
   "cell_type": "code",
   "execution_count": null,
   "metadata": {
    "id": "4nxmaeCjQ-pN"
   },
   "outputs": [],
   "source": [
    "audio2, sr2 = librosa.load('data/携帯電話着信音.mp3',sr=None)\n",
    "print(audio2.shape)\n",
    "disp.Audio(data=audio2, rate=sr2)"
   ]
  },
  {
   "cell_type": "code",
   "execution_count": null,
   "metadata": {
    "id": "OLJSr4gDQx84"
   },
   "outputs": [],
   "source": [
    "audio2_time = librosa.effects.time_stretch(y=audio2, rate=0.5)\n",
    "print(audio2_time.shape)\n",
    "disp.Audio(data=audio2_time, rate=sr2)"
   ]
  },
  {
   "cell_type": "code",
   "execution_count": null,
   "metadata": {
    "id": "pr9o90otQx__"
   },
   "outputs": [],
   "source": [
    "audio2_time = librosa.effects.time_stretch(y=audio2, rate=2)\n",
    "print(audio2_time.shape)\n",
    "disp.Audio(data=audio2_time, rate=sr2)"
   ]
  },
  {
   "cell_type": "markdown",
   "metadata": {
    "id": "uWMm1lC6S7ix"
   },
   "source": [
    "## ノック８０：音データを保存しよう"
   ]
  },
  {
   "cell_type": "code",
   "execution_count": null,
   "metadata": {
    "id": "1ExBMi7xTC0F"
   },
   "outputs": [],
   "source": [
    "import soundfile as sf\n",
    "\n",
    "sr = 44100\n",
    "sf.write('data/audio2_time.wav', audio2_time, sr)"
   ]
  },
  {
   "cell_type": "code",
   "execution_count": null,
   "metadata": {
    "id": "EfNVLJfMTC3L"
   },
   "outputs": [],
   "source": [
    "audio_read, sr_read = librosa.load('data/audio2_time.wav',sr=None)\n",
    "print(audio_read.shape)\n",
    "print(sr_read)\n",
    "disp.Audio(data=audio_read, rate=sr_read)"
   ]
  }
 ],
 "metadata": {
  "colab": {
   "provenance": [
    {
     "file_id": "1dxRkTzQExVJOfiCqIV58v8TkSob7xDdX",
     "timestamp": 1623416481266
    }
   ]
  },
  "kernelspec": {
   "display_name": "Python 3",
   "name": "python3"
  },
  "language_info": {
   "name": "python"
  }
 },
 "nbformat": 4,
 "nbformat_minor": 0
}
