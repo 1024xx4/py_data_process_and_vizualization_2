{
 "cells": [
  {
   "cell_type": "code",
   "execution_count": null,
   "metadata": {
    "colab": {
     "base_uri": "https://localhost:8080/"
    },
    "executionInfo": {
     "elapsed": 32236,
     "status": "ok",
     "timestamp": 1709041604930,
     "user": {
      "displayName": "伊藤淳二",
      "userId": "06108280857351659017"
     },
     "user_tz": -540
    },
    "id": "HB3mviwv25Jc",
    "outputId": "b791d43d-64b1-4e95-acdf-d4251f515cc8"
   },
   "outputs": [],
   "source": [
    "# 下記セルを実行すると、authorization codeの入力を求められます。\n",
    "# 出力されたリンク先をクリックし、Googleアカウントにログインし、\n",
    "# authorization codeをコピーし、貼り付けをおこなってください。\n",
    "from google.colab import drive\n",
    "drive.mount('/content/drive')"
   ]
  },
  {
   "cell_type": "code",
   "execution_count": null,
   "metadata": {
    "executionInfo": {
     "elapsed": 19,
     "status": "ok",
     "timestamp": 1709041604930,
     "user": {
      "displayName": "伊藤淳二",
      "userId": "06108280857351659017"
     },
     "user_tz": -540
    },
    "id": "HcOU_u4l25Jd"
   },
   "outputs": [],
   "source": [
    "import os\n",
    "project = 'sample_data'\n",
    "chapter = 4\n",
    "os.chdir(f'/content/drive/MyDrive/{project}/chapter-{chapter}/')"
   ]
  },
  {
   "cell_type": "markdown",
   "metadata": {
    "id": "pCbOP-x725Jd"
   },
   "source": [
    "# ４章 言語データの加工・可視化を行う１０本ノック"
   ]
  },
  {
   "cell_type": "markdown",
   "metadata": {
    "id": "OrJw1o3ZAf2z"
   },
   "source": [
    "## ノック５１：テキストファイルを読み込もう"
   ]
  },
  {
   "cell_type": "code",
   "execution_count": null,
   "metadata": {
    "colab": {
     "base_uri": "https://localhost:8080/"
    },
    "executionInfo": {
     "elapsed": 660,
     "status": "ok",
     "timestamp": 1709041609598,
     "user": {
      "displayName": "伊藤淳二",
      "userId": "06108280857351659017"
     },
     "user_tz": -540
    },
    "id": "KEWdw3DICvNY",
    "outputId": "541659e6-924a-4237-b15f-4f28c24c342b"
   },
   "outputs": [],
   "source": [
    "ls data/"
   ]
  },
  {
   "cell_type": "code",
   "execution_count": null,
   "metadata": {
    "colab": {
     "base_uri": "https://localhost:8080/"
    },
    "executionInfo": {
     "elapsed": 477,
     "status": "ok",
     "timestamp": 1709041610074,
     "user": {
      "displayName": "伊藤淳二",
      "userId": "06108280857351659017"
     },
     "user_tz": -540
    },
    "id": "1i5aBRaDTa98",
    "outputId": "1df3095d-326c-4141-8fa4-32b9fc60205d"
   },
   "outputs": [],
   "source": [
    "with open('data/hashire_merosu.txt', mode='r', encoding='shift-jis') as f:\n",
    "  content = f.read()\n",
    "print(content)"
   ]
  },
  {
   "cell_type": "markdown",
   "metadata": {
    "id": "0FrKeZvUrFKn"
   },
   "source": [
    "## ノック５２：本文を抽出して１つに纏めよう"
   ]
  },
  {
   "cell_type": "code",
   "execution_count": null,
   "metadata": {
    "colab": {
     "base_uri": "https://localhost:8080/",
     "height": 165
    },
    "executionInfo": {
     "elapsed": 7,
     "status": "ok",
     "timestamp": 1709041610074,
     "user": {
      "displayName": "伊藤淳二",
      "userId": "06108280857351659017"
     },
     "user_tz": -540
    },
    "id": "gbZptalVTZ81",
    "outputId": "9b029f38-0866-40ac-9123-16a6cfba684f"
   },
   "outputs": [],
   "source": [
    "content = ' '.join(content.split())\n",
    "content"
   ]
  },
  {
   "cell_type": "code",
   "execution_count": null,
   "metadata": {
    "colab": {
     "base_uri": "https://localhost:8080/",
     "height": 165
    },
    "executionInfo": {
     "elapsed": 6,
     "status": "ok",
     "timestamp": 1709041610568,
     "user": {
      "displayName": "伊藤淳二",
      "userId": "06108280857351659017"
     },
     "user_tz": -540
    },
    "id": "p5oqrs0iA-Hn",
    "outputId": "e0b270be-8f8c-4bfd-949a-cccdaa2b8d52"
   },
   "outputs": [],
   "source": [
    "import unicodedata\n",
    "content = unicodedata.normalize('NFKC', content)\n",
    "content"
   ]
  },
  {
   "cell_type": "code",
   "execution_count": null,
   "metadata": {
    "colab": {
     "base_uri": "https://localhost:8080/"
    },
    "executionInfo": {
     "elapsed": 8,
     "status": "ok",
     "timestamp": 1709041611174,
     "user": {
      "displayName": "伊藤淳二",
      "userId": "06108280857351659017"
     },
     "user_tz": -540
    },
    "id": "8n1yv8OFX0VH",
    "outputId": "450caf79-6bdf-4f3b-f45e-4962087643ac"
   },
   "outputs": [],
   "source": [
    "import re\n",
    "pattern = re.compile(r'^.+(#地から1字上げ].+#地から1字上げ]).+$')\n",
    "body = re.match(pattern, content).group(1)\n",
    "print(body)"
   ]
  },
  {
   "cell_type": "code",
   "execution_count": null,
   "metadata": {
    "colab": {
     "base_uri": "https://localhost:8080/",
     "height": 165
    },
    "executionInfo": {
     "elapsed": 5,
     "status": "ok",
     "timestamp": 1709041611174,
     "user": {
      "displayName": "伊藤淳二",
      "userId": "06108280857351659017"
     },
     "user_tz": -540
    },
    "id": "Yx3DCRZWHNG2",
    "outputId": "1266f9f5-d1ab-4d99-b5c2-df76a510437a"
   },
   "outputs": [],
   "source": [
    "body = body.replace('#地から1字上げ] ------------------------------------------------------- ', '')\n",
    "body = body.replace(' [#地から1字上げ]', '')\n",
    "body"
   ]
  },
  {
   "cell_type": "markdown",
   "metadata": {
    "id": "NlMEHYg3jhLm"
   },
   "source": [
    "## ノック５３：本文以外の項目を取り出そう"
   ]
  },
  {
   "cell_type": "code",
   "execution_count": null,
   "metadata": {
    "colab": {
     "base_uri": "https://localhost:8080/"
    },
    "executionInfo": {
     "elapsed": 5,
     "status": "ok",
     "timestamp": 1709041611742,
     "user": {
      "displayName": "伊藤淳二",
      "userId": "06108280857351659017"
     },
     "user_tz": -540
    },
    "id": "FEZH1pn6jmIY",
    "outputId": "1edcc29f-c377-45d7-edf2-5e0d1fceb4cb"
   },
   "outputs": [],
   "source": [
    "with open('data/hashire_merosu.txt', mode='r', encoding='shift-jis') as f:\n",
    "  title = f.readline()\n",
    "  author = f.readline()\n",
    "print(title)\n",
    "print(author)"
   ]
  },
  {
   "cell_type": "code",
   "execution_count": null,
   "metadata": {
    "colab": {
     "base_uri": "https://localhost:8080/"
    },
    "executionInfo": {
     "elapsed": 8,
     "status": "ok",
     "timestamp": 1709041612272,
     "user": {
      "displayName": "伊藤淳二",
      "userId": "06108280857351659017"
     },
     "user_tz": -540
    },
    "id": "qBW3tYsZlz1q",
    "outputId": "51f8b022-ec4f-42b6-d05b-56631bc11840"
   },
   "outputs": [],
   "source": [
    "title = title.replace('\\n', '')\n",
    "print(title)\n",
    "author = author.replace('\\n', '')\n",
    "print(author)"
   ]
  },
  {
   "cell_type": "code",
   "execution_count": null,
   "metadata": {
    "colab": {
     "base_uri": "https://localhost:8080/"
    },
    "executionInfo": {
     "elapsed": 6,
     "status": "ok",
     "timestamp": 1709041612272,
     "user": {
      "displayName": "伊藤淳二",
      "userId": "06108280857351659017"
     },
     "user_tz": -540
    },
    "id": "i6_1Hob7nsEn",
    "outputId": "2380d7ec-cefd-4d97-bab4-ea91052eae65"
   },
   "outputs": [],
   "source": [
    "with open('data/hashire_merosu.txt', mode='r', encoding='shift-jis') as f:\n",
    "  content = f.readlines()\n",
    "content"
   ]
  },
  {
   "cell_type": "code",
   "execution_count": null,
   "metadata": {
    "colab": {
     "base_uri": "https://localhost:8080/",
     "height": 423
    },
    "executionInfo": {
     "elapsed": 467,
     "status": "ok",
     "timestamp": 1709041613079,
     "user": {
      "displayName": "伊藤淳二",
      "userId": "06108280857351659017"
     },
     "user_tz": -540
    },
    "id": "YuiGQDvpoGcJ",
    "outputId": "d74eb7d4-5981-4f3e-b5ab-94e899a4054a"
   },
   "outputs": [],
   "source": [
    "import pandas as pd\n",
    "df = pd.DataFrame(content, columns=['text'])\n",
    "df['text'] = df['text'].str.replace('\\n', '')\n",
    "df"
   ]
  },
  {
   "cell_type": "code",
   "execution_count": null,
   "metadata": {
    "colab": {
     "base_uri": "https://localhost:8080/"
    },
    "executionInfo": {
     "elapsed": 11,
     "status": "ok",
     "timestamp": 1709041613080,
     "user": {
      "displayName": "伊藤淳二",
      "userId": "06108280857351659017"
     },
     "user_tz": -540
    },
    "id": "vOkfCtLYqIcr",
    "outputId": "9531d756-25d0-466e-a923-28c2e8659c2c"
   },
   "outputs": [],
   "source": [
    "date = df[(df['text'].str.contains('日公開'))|(df['text'].str.contains('日修正'))].copy()\n",
    "print(date)\n",
    "\n",
    "date['text'] = date['text'].str.replace('公開', '')\n",
    "date['text'] = date['text'].str.replace('修正', '')\n",
    "print(date)\n",
    "\n",
    "date['text'] = date['text'].str.replace('年', '/')\n",
    "date['text'] = date['text'].str.replace('月', '/')\n",
    "date['text'] = date['text'].str.replace('日', '')\n",
    "print(date)\n",
    "\n",
    "date['text'] = pd.to_datetime(date['text'])\n",
    "print(date)\n",
    "date.dtypes"
   ]
  },
  {
   "cell_type": "code",
   "execution_count": null,
   "metadata": {
    "colab": {
     "base_uri": "https://localhost:8080/"
    },
    "executionInfo": {
     "elapsed": 7,
     "status": "ok",
     "timestamp": 1709041613080,
     "user": {
      "displayName": "伊藤淳二",
      "userId": "06108280857351659017"
     },
     "user_tz": -540
    },
    "id": "3jQ79l_FfZFD",
    "outputId": "154df7d2-8beb-4837-f1a4-c94600e46a0c"
   },
   "outputs": [],
   "source": [
    "release_date = date.iat[0, 0]\n",
    "update_date = date.iat[1, 0]\n",
    "print(release_date)\n",
    "print(update_date)\n",
    "date = update_date - release_date\n",
    "print(date)"
   ]
  },
  {
   "cell_type": "code",
   "execution_count": null,
   "metadata": {
    "colab": {
     "base_uri": "https://localhost:8080/",
     "height": 81
    },
    "executionInfo": {
     "elapsed": 7,
     "status": "ok",
     "timestamp": 1709041613616,
     "user": {
      "displayName": "伊藤淳二",
      "userId": "06108280857351659017"
     },
     "user_tz": -540
    },
    "id": "33kpS7fqfvFO",
    "outputId": "e5520675-8a69-4e4a-ac7f-76400e307538"
   },
   "outputs": [],
   "source": [
    "booklist = pd.DataFrame([[title, author, release_date, update_date, body]], columns=['title', 'author', 'release_date', 'update_date', 'body'])\n",
    "booklist"
   ]
  },
  {
   "cell_type": "markdown",
   "metadata": {
    "id": "RP340xytGHie"
   },
   "source": [
    "## ノック５４：形態素解析で単語に分割しよう"
   ]
  },
  {
   "cell_type": "code",
   "execution_count": null,
   "metadata": {
    "colab": {
     "base_uri": "https://localhost:8080/"
    },
    "executionInfo": {
     "elapsed": 25092,
     "status": "ok",
     "timestamp": 1709041639074,
     "user": {
      "displayName": "伊藤淳二",
      "userId": "06108280857351659017"
     },
     "user_tz": -540
    },
    "id": "z1z5B4BYGceG",
    "outputId": "6fa0fddd-646f-4224-cba5-bf6f25dd1191"
   },
   "outputs": [],
   "source": [
    "%%bash\n",
    "\n",
    "apt install -yq \\\n",
    "  mecab \\\n",
    "  mecab-ipadic-utf8 \\\n",
    "  libmecab-dev\n",
    "pip install -q mecab-python3\n",
    "ln -s /etc/mecabrc /usr/local/etc/mecabrc"
   ]
  },
  {
   "cell_type": "code",
   "execution_count": null,
   "metadata": {
    "colab": {
     "base_uri": "https://localhost:8080/"
    },
    "executionInfo": {
     "elapsed": 1262,
     "status": "ok",
     "timestamp": 1709041640330,
     "user": {
      "displayName": "伊藤淳二",
      "userId": "06108280857351659017"
     },
     "user_tz": -540
    },
    "id": "exIQ7xTJZ0HE",
    "outputId": "2c16a681-fc19-4317-d6a3-b910709f0cb4"
   },
   "outputs": [],
   "source": [
    "pip list | grep mecab"
   ]
  },
  {
   "cell_type": "code",
   "execution_count": null,
   "metadata": {
    "colab": {
     "base_uri": "https://localhost:8080/"
    },
    "executionInfo": {
     "elapsed": 9,
     "status": "ok",
     "timestamp": 1709041640330,
     "user": {
      "displayName": "伊藤淳二",
      "userId": "06108280857351659017"
     },
     "user_tz": -540
    },
    "id": "_iouVZQXZTfs",
    "outputId": "7c13d5b9-223d-413e-9b03-c849836fc3dc"
   },
   "outputs": [],
   "source": [
    "import MeCab\n",
    "tagger = MeCab.Tagger()\n",
    "body = booklist.iloc[0, 4]\n",
    "parsed = tagger.parse(body).split('\\n')\n",
    "parsed[:4]"
   ]
  },
  {
   "cell_type": "code",
   "execution_count": null,
   "metadata": {
    "colab": {
     "base_uri": "https://localhost:8080/"
    },
    "executionInfo": {
     "elapsed": 7,
     "status": "ok",
     "timestamp": 1709041640330,
     "user": {
      "displayName": "伊藤淳二",
      "userId": "06108280857351659017"
     },
     "user_tz": -540
    },
    "id": "3rv8SSNOSyEU",
    "outputId": "d83cfbd5-1586-4d1f-8071-6e8a305a9c2f"
   },
   "outputs": [],
   "source": [
    "parsed[-4:]"
   ]
  },
  {
   "cell_type": "code",
   "execution_count": null,
   "metadata": {
    "colab": {
     "base_uri": "https://localhost:8080/"
    },
    "executionInfo": {
     "elapsed": 6,
     "status": "ok",
     "timestamp": 1709041640331,
     "user": {
      "displayName": "伊藤淳二",
      "userId": "06108280857351659017"
     },
     "user_tz": -540
    },
    "id": "v_i_0mXt0g03",
    "outputId": "630fcee8-1602-4b11-941f-f8f42162edc5"
   },
   "outputs": [],
   "source": [
    "parsed = parsed[:-2]\n",
    "parsed[-4:]"
   ]
  },
  {
   "cell_type": "markdown",
   "metadata": {
    "id": "q8eI85a6aUgy"
   },
   "source": [
    "## ノック５５：分割した単語をデータフレームで保持しよう\n"
   ]
  },
  {
   "cell_type": "code",
   "execution_count": null,
   "metadata": {
    "colab": {
     "base_uri": "https://localhost:8080/"
    },
    "executionInfo": {
     "elapsed": 5,
     "status": "ok",
     "timestamp": 1709041640331,
     "user": {
      "displayName": "伊藤淳二",
      "userId": "06108280857351659017"
     },
     "user_tz": -540
    },
    "id": "wZTc9zCBgTuF",
    "outputId": "5692c97c-1a83-4d20-e3e7-099ce3d952df"
   },
   "outputs": [],
   "source": [
    "*values, = map(lambda s: re.split(r'\\t|,', s), parsed)\n",
    "values[:4]"
   ]
  },
  {
   "cell_type": "code",
   "execution_count": null,
   "metadata": {
    "colab": {
     "base_uri": "https://localhost:8080/",
     "height": 193
    },
    "executionInfo": {
     "elapsed": 343,
     "status": "ok",
     "timestamp": 1709041640670,
     "user": {
      "displayName": "伊藤淳二",
      "userId": "06108280857351659017"
     },
     "user_tz": -540
    },
    "id": "Tblk0w2wiAqh",
    "outputId": "8f8ac67c-2c4b-428f-bbaa-20857b7a1d13"
   },
   "outputs": [],
   "source": [
    "import pandas as pd\n",
    "columns = ['表層形', '品詞', '品詞細分類1', '品詞細分類2', '品詞細分類3', '活用型', '活用形', '原形', '読み', '発音']\n",
    "mecab_df = pd.DataFrame(data=values, columns=columns)\n",
    "print(len(mecab_df))\n",
    "mecab_df.head(4)"
   ]
  },
  {
   "cell_type": "markdown",
   "metadata": {
    "id": "4gTExCA23uFj"
   },
   "source": [
    "## ノック５６：名詞と動詞を取り出そう"
   ]
  },
  {
   "cell_type": "code",
   "execution_count": null,
   "metadata": {
    "colab": {
     "base_uri": "https://localhost:8080/"
    },
    "executionInfo": {
     "elapsed": 10,
     "status": "ok",
     "timestamp": 1709041640670,
     "user": {
      "displayName": "伊藤淳二",
      "userId": "06108280857351659017"
     },
     "user_tz": -540
    },
    "id": "KY9w2aDCK5JK",
    "outputId": "6ef81578-7ba3-4be5-c618-887d42f20f02"
   },
   "outputs": [],
   "source": [
    "print(mecab_df.groupby(['原形','品詞']).size().sort_values(ascending=False))"
   ]
  },
  {
   "cell_type": "code",
   "execution_count": null,
   "metadata": {
    "colab": {
     "base_uri": "https://localhost:8080/",
     "height": 423
    },
    "executionInfo": {
     "elapsed": 9,
     "status": "ok",
     "timestamp": 1709041640670,
     "user": {
      "displayName": "伊藤淳二",
      "userId": "06108280857351659017"
     },
     "user_tz": -540
    },
    "id": "nYkGfTew9RlY",
    "outputId": "4caefadf-0aa0-42a1-be49-1d11d4c74606"
   },
   "outputs": [],
   "source": [
    "noun = mecab_df.loc[mecab_df['品詞'] == '名詞']\n",
    "noun"
   ]
  },
  {
   "cell_type": "code",
   "execution_count": null,
   "metadata": {
    "colab": {
     "base_uri": "https://localhost:8080/",
     "height": 423
    },
    "executionInfo": {
     "elapsed": 9,
     "status": "ok",
     "timestamp": 1709041640671,
     "user": {
      "displayName": "伊藤淳二",
      "userId": "06108280857351659017"
     },
     "user_tz": -540
    },
    "id": "_cTXA5ElT_Qs",
    "outputId": "fa2f0253-caf8-4ea6-fdbd-9940bf4c4eea"
   },
   "outputs": [],
   "source": [
    "verb = mecab_df.loc[(mecab_df['品詞'] == '名詞')|(mecab_df['品詞'] == '動詞')]\n",
    "verb"
   ]
  },
  {
   "cell_type": "markdown",
   "metadata": {
    "id": "qmYMFIkMG6oL"
   },
   "source": [
    "## ノック５７：不要な単語を除外しよう"
   ]
  },
  {
   "cell_type": "code",
   "execution_count": null,
   "metadata": {
    "colab": {
     "base_uri": "https://localhost:8080/"
    },
    "executionInfo": {
     "elapsed": 336,
     "status": "ok",
     "timestamp": 1709041640999,
     "user": {
      "displayName": "伊藤淳二",
      "userId": "06108280857351659017"
     },
     "user_tz": -540
    },
    "id": "SgyvofBtn5Zt",
    "outputId": "8eb912ca-cedd-4bed-8a48-2b05657d8dae"
   },
   "outputs": [],
   "source": [
    "with open('data/stop_words.txt', mode='r') as f:\n",
    "  stop_words = f.read().split()\n",
    "stop_words"
   ]
  },
  {
   "cell_type": "code",
   "execution_count": null,
   "metadata": {
    "colab": {
     "base_uri": "https://localhost:8080/",
     "height": 469
    },
    "executionInfo": {
     "elapsed": 452,
     "status": "ok",
     "timestamp": 1709041641446,
     "user": {
      "displayName": "伊藤淳二",
      "userId": "06108280857351659017"
     },
     "user_tz": -540
    },
    "id": "o8RC0UmrlKFf",
    "outputId": "9178f035-9174-4d23-b199-9a1d1c34b254"
   },
   "outputs": [],
   "source": [
    "print(len(noun))\n",
    "noun = noun.loc[~noun['原形'].isin(stop_words)]\n",
    "print(len(noun))\n",
    "display(noun.head())\n",
    "\n",
    "print(len(verb))\n",
    "verb = verb.loc[~verb['原形'].isin(stop_words)]\n",
    "print(len(verb))\n",
    "display(verb.head())"
   ]
  },
  {
   "cell_type": "markdown",
   "metadata": {
    "id": "unLbHHiClX0U"
   },
   "source": [
    "## ノック５８：単語の使用状況をグラフで可視化しよう"
   ]
  },
  {
   "cell_type": "code",
   "execution_count": null,
   "metadata": {
    "colab": {
     "base_uri": "https://localhost:8080/",
     "height": 363
    },
    "executionInfo": {
     "elapsed": 10,
     "status": "ok",
     "timestamp": 1709041641447,
     "user": {
      "displayName": "伊藤淳二",
      "userId": "06108280857351659017"
     },
     "user_tz": -540
    },
    "id": "wFamGl9-3zPT",
    "outputId": "8498db3f-ddfa-4122-f9e0-37399d425433"
   },
   "outputs": [],
   "source": [
    "count = noun.groupby('原形').size().sort_values(ascending=False)\n",
    "count.name = 'count'\n",
    "count = count.reset_index().head(10)\n",
    "count"
   ]
  },
  {
   "cell_type": "code",
   "execution_count": null,
   "metadata": {
    "colab": {
     "base_uri": "https://localhost:8080/"
    },
    "executionInfo": {
     "elapsed": 15059,
     "status": "ok",
     "timestamp": 1709041656498,
     "user": {
      "displayName": "伊藤淳二",
      "userId": "06108280857351659017"
     },
     "user_tz": -540
    },
    "id": "sxF2387M5E-d",
    "outputId": "b5f46e41-ff9f-4e4d-f803-30984867c5ef"
   },
   "outputs": [],
   "source": [
    "!pip install -q japanize-matplotlib"
   ]
  },
  {
   "cell_type": "code",
   "execution_count": null,
   "metadata": {
    "colab": {
     "base_uri": "https://localhost:8080/",
     "height": 481
    },
    "executionInfo": {
     "elapsed": 2342,
     "status": "ok",
     "timestamp": 1709041658836,
     "user": {
      "displayName": "伊藤淳二",
      "userId": "06108280857351659017"
     },
     "user_tz": -540
    },
    "id": "QP4mf9TR4oxU",
    "outputId": "1c5ce3e2-7f20-47b5-8fb8-588a61b1a396"
   },
   "outputs": [],
   "source": [
    "import matplotlib.pyplot as plt\n",
    "import seaborn as sns\n",
    "import japanize_matplotlib\n",
    "plt.figure(figsize=(10, 5))\n",
    "sns.barplot(x=count['count'], y=count['原形'])"
   ]
  },
  {
   "cell_type": "markdown",
   "metadata": {
    "id": "O05FKuUmlqAu"
   },
   "source": [
    "## ノック５９：単語の傾向をWordCloudで可視化してみよう"
   ]
  },
  {
   "cell_type": "code",
   "execution_count": null,
   "metadata": {
    "colab": {
     "base_uri": "https://localhost:8080/"
    },
    "executionInfo": {
     "elapsed": 7423,
     "status": "ok",
     "timestamp": 1709041666253,
     "user": {
      "displayName": "伊藤淳二",
      "userId": "06108280857351659017"
     },
     "user_tz": -540
    },
    "id": "kWaUNOtPzIIM",
    "outputId": "ac08b885-43cc-4985-b7cd-cdc885117fb5"
   },
   "outputs": [],
   "source": [
    "!apt-get -yq install fonts-ipafont-gothic"
   ]
  },
  {
   "cell_type": "code",
   "execution_count": null,
   "metadata": {
    "colab": {
     "base_uri": "https://localhost:8080/"
    },
    "executionInfo": {
     "elapsed": 836,
     "status": "ok",
     "timestamp": 1709041667083,
     "user": {
      "displayName": "伊藤淳二",
      "userId": "06108280857351659017"
     },
     "user_tz": -540
    },
    "id": "gXiqY75B1_wA",
    "outputId": "cef826b4-74f0-4204-84ff-e5040c749472"
   },
   "outputs": [],
   "source": [
    "ls /usr/share/fonts/opentype/ipafont-gothic"
   ]
  },
  {
   "cell_type": "code",
   "execution_count": null,
   "metadata": {
    "colab": {
     "base_uri": "https://localhost:8080/",
     "height": 422
    },
    "executionInfo": {
     "elapsed": 3056,
     "status": "ok",
     "timestamp": 1709041670136,
     "user": {
      "displayName": "伊藤淳二",
      "userId": "06108280857351659017"
     },
     "user_tz": -540
    },
    "id": "1MxbKTY-hS99",
    "outputId": "3b323e21-b0d2-4d9b-c8dc-3959c21a7ff0"
   },
   "outputs": [],
   "source": [
    "from wordcloud import WordCloud\n",
    "import matplotlib.pyplot as plt\n",
    "import japanize_matplotlib\n",
    "font_path = 'usr/share/fonts/opentype/ipafont-gothic/ipagp.ttf'\n",
    "cloud = WordCloud(background_color='white', font_path=font_path, regexp=r\"\\w{2,}\").generate(' '.join(noun['原形'].values))\n",
    "plt.figure(figsize=(10, 5))\n",
    "plt.imshow(cloud)\n",
    "plt.axis(\"off\")\n",
    "plt.savefig('data/wc_noun_base_2.png')\n",
    "plt.show()"
   ]
  },
  {
   "cell_type": "code",
   "execution_count": null,
   "metadata": {
    "colab": {
     "base_uri": "https://localhost:8080/",
     "height": 422
    },
    "executionInfo": {
     "elapsed": 3965,
     "status": "ok",
     "timestamp": 1709041674095,
     "user": {
      "displayName": "伊藤淳二",
      "userId": "06108280857351659017"
     },
     "user_tz": -540
    },
    "id": "Fk7jwmrYUNxq",
    "outputId": "61e610a8-0c9b-4889-c904-1bacb6a607cd"
   },
   "outputs": [],
   "source": [
    "cloud = WordCloud(background_color='white', font_path=font_path).generate(' '.join(noun['原形'].values))\n",
    "plt.figure(figsize=(10, 5))\n",
    "plt.imshow(cloud)\n",
    "plt.axis(\"off\")\n",
    "plt.savefig('data/wc_noun_base_1.png')\n",
    "plt.show()"
   ]
  },
  {
   "cell_type": "code",
   "execution_count": null,
   "metadata": {
    "colab": {
     "base_uri": "https://localhost:8080/",
     "height": 422
    },
    "executionInfo": {
     "elapsed": 3643,
     "status": "ok",
     "timestamp": 1709041677732,
     "user": {
      "displayName": "伊藤淳二",
      "userId": "06108280857351659017"
     },
     "user_tz": -540
    },
    "id": "vSXC3mukyDWJ",
    "outputId": "bf88964d-aa97-446f-dc12-d1d2813af081"
   },
   "outputs": [],
   "source": [
    "cloud = WordCloud(background_color='white', font_path=font_path, regexp=r\"\\w{2,}\").generate(' '.join(noun['表層形'].values))\n",
    "plt.figure(figsize=(10, 5))\n",
    "plt.imshow(cloud)\n",
    "plt.axis(\"off\")\n",
    "plt.savefig('data/wc_noun_surface.png')\n",
    "plt.show()"
   ]
  },
  {
   "cell_type": "code",
   "execution_count": null,
   "metadata": {
    "colab": {
     "base_uri": "https://localhost:8080/",
     "height": 422
    },
    "executionInfo": {
     "elapsed": 2835,
     "status": "ok",
     "timestamp": 1709041680546,
     "user": {
      "displayName": "伊藤淳二",
      "userId": "06108280857351659017"
     },
     "user_tz": -540
    },
    "id": "n9cC5tatGsAE",
    "outputId": "9224a51e-c300-4cdb-9f06-66f6e3fffe8d"
   },
   "outputs": [],
   "source": [
    "cloud = WordCloud(background_color='white', font_path=font_path, regexp=r\"\\w{2,}\").generate(' '.join(verb['原形'].values))\n",
    "plt.figure(figsize=(10, 5))\n",
    "plt.imshow(cloud)\n",
    "plt.axis(\"off\")\n",
    "plt.savefig('data/wc_noun-verb_base.png')\n",
    "plt.show()"
   ]
  },
  {
   "cell_type": "markdown",
   "metadata": {
    "id": "l-RrueueldqD"
   },
   "source": [
    "## ノック６０：n-gramを作ってみよう"
   ]
  },
  {
   "cell_type": "code",
   "execution_count": null,
   "metadata": {
    "colab": {
     "base_uri": "https://localhost:8080/"
    },
    "executionInfo": {
     "elapsed": 18,
     "status": "ok",
     "timestamp": 1709041680547,
     "user": {
      "displayName": "伊藤淳二",
      "userId": "06108280857351659017"
     },
     "user_tz": -540
    },
    "id": "PjxZ0-eLkhUs",
    "outputId": "d883e357-a513-4a10-eb0b-c608ad6a59ae"
   },
   "outputs": [],
   "source": [
    "target = mecab_df['表層形'].to_list()\n",
    "len(target)"
   ]
  },
  {
   "cell_type": "code",
   "execution_count": null,
   "metadata": {
    "executionInfo": {
     "elapsed": 914,
     "status": "ok",
     "timestamp": 1709041681446,
     "user": {
      "displayName": "伊藤淳二",
      "userId": "06108280857351659017"
     },
     "user_tz": -540
    },
    "id": "77wcXOP-j9po"
   },
   "outputs": [],
   "source": [
    "from nltk import ngrams\n",
    "bigram = ngrams(target, 2)"
   ]
  },
  {
   "cell_type": "code",
   "execution_count": null,
   "metadata": {
    "colab": {
     "base_uri": "https://localhost:8080/"
    },
    "executionInfo": {
     "elapsed": 13,
     "status": "ok",
     "timestamp": 1709041681446,
     "user": {
      "displayName": "伊藤淳二",
      "userId": "06108280857351659017"
     },
     "user_tz": -540
    },
    "id": "wwMVrjKomgXB",
    "outputId": "a8f0686b-feb0-4ebb-9003-c94c25d0def5"
   },
   "outputs": [],
   "source": [
    "import collections\n",
    "counter = collections.Counter(bigram)\n",
    "print(counter)"
   ]
  }
 ],
 "metadata": {
  "colab": {
   "provenance": []
  },
  "kernelspec": {
   "display_name": "Python 3",
   "language": "python",
   "name": "python3"
  },
  "language_info": {
   "codemirror_mode": {
    "name": "ipython",
    "version": 3
   },
   "file_extension": ".py",
   "mimetype": "text/x-python",
   "name": "python",
   "nbconvert_exporter": "python",
   "pygments_lexer": "ipython3",
   "version": "3.6.9"
  }
 },
 "nbformat": 4,
 "nbformat_minor": 0
}
