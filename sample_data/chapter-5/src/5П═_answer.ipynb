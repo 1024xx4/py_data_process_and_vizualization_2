{
 "cells": [
  {
   "cell_type": "code",
   "execution_count": null,
   "metadata": {
    "colab": {
     "base_uri": "https://localhost:8080/"
    },
    "executionInfo": {
     "elapsed": 24262,
     "status": "ok",
     "timestamp": 1709041667491,
     "user": {
      "displayName": "伊藤淳二",
      "userId": "06108280857351659017"
     },
     "user_tz": -540
    },
    "id": "HB3mviwv25Jc",
    "outputId": "abc401bc-c23d-41b4-8357-31c0c5f1cba8"
   },
   "outputs": [],
   "source": [
    "# 下記セルを実行すると、authorization codeの入力を求められます。\n",
    "# 出力されたリンク先をクリックし、Googleアカウントにログインし、\n",
    "# authorization codeをコピーし、貼り付けをおこなってください。\n",
    "from google.colab import drive\n",
    "drive.mount('/content/drive')"
   ]
  },
  {
   "cell_type": "code",
   "execution_count": null,
   "metadata": {
    "executionInfo": {
     "elapsed": 2,
     "status": "ok",
     "timestamp": 1709041667491,
     "user": {
      "displayName": "伊藤淳二",
      "userId": "06108280857351659017"
     },
     "user_tz": -540
    },
    "id": "HcOU_u4l25Jd"
   },
   "outputs": [],
   "source": [
    "import os\n",
    "project = 'sample_data'\n",
    "chapter = 5\n",
    "os.chdir(f'/content/drive/MyDrive/{project}/chapter-{chapter}/')"
   ]
  },
  {
   "cell_type": "markdown",
   "metadata": {
    "id": "pCbOP-x725Jd"
   },
   "source": [
    "# ５章 画像データの加工・可視化を行う１０本ノック"
   ]
  },
  {
   "cell_type": "markdown",
   "metadata": {
    "id": "OrJw1o3ZAf2z"
   },
   "source": [
    "## ノック６１：画像ファイルを読み込んで表示してみよう"
   ]
  },
  {
   "cell_type": "code",
   "execution_count": null,
   "metadata": {
    "colab": {
     "base_uri": "https://localhost:8080/"
    },
    "executionInfo": {
     "elapsed": 1941,
     "status": "ok",
     "timestamp": 1709041671255,
     "user": {
      "displayName": "伊藤淳二",
      "userId": "06108280857351659017"
     },
     "user_tz": -540
    },
    "id": "KEWdw3DICvNY",
    "outputId": "f75f279d-a34b-4e8e-e13d-046682e79c2d"
   },
   "outputs": [],
   "source": [
    "import cv2\n",
    "img = cv2.imread('data/sample.jpg')\n",
    "img"
   ]
  },
  {
   "cell_type": "code",
   "execution_count": null,
   "metadata": {
    "colab": {
     "background_save": true,
     "output_embedded_package_id": "1dGX2ynyc2k1sEwXxkLckmv7xo5m48D__"
    },
    "id": "1i5aBRaDTa98",
    "outputId": "930f08de-1886-4f7a-9b71-bcaf188c2f87"
   },
   "outputs": [],
   "source": [
    "from google.colab.patches import cv2_imshow\n",
    "cv2_imshow(img)"
   ]
  },
  {
   "cell_type": "markdown",
   "metadata": {
    "id": "0FrKeZvUrFKn"
   },
   "source": [
    "## ノック６２：画像データの中身を確認しよう"
   ]
  },
  {
   "cell_type": "code",
   "execution_count": null,
   "metadata": {
    "colab": {
     "background_save": true
    },
    "id": "gbZptalVTZ81"
   },
   "outputs": [],
   "source": [
    "img.shape"
   ]
  },
  {
   "cell_type": "code",
   "execution_count": null,
   "metadata": {
    "colab": {
     "background_save": true
    },
    "id": "gbNlkFfp6r4F"
   },
   "outputs": [],
   "source": [
    "print(img[0])\n",
    "print(img[0].shape)"
   ]
  },
  {
   "cell_type": "code",
   "execution_count": null,
   "metadata": {
    "colab": {
     "background_save": true
    },
    "id": "7QTdzXsb63jF"
   },
   "outputs": [],
   "source": [
    "print(img[:,0])\n",
    "print(img[:,0].shape)"
   ]
  },
  {
   "cell_type": "code",
   "execution_count": null,
   "metadata": {
    "colab": {
     "background_save": true
    },
    "id": "oDygPHaz7VGs"
   },
   "outputs": [],
   "source": [
    "print(img[:,:,0])\n",
    "print(img[:,:,0].shape)"
   ]
  },
  {
   "cell_type": "markdown",
   "metadata": {
    "id": "NlMEHYg3jhLm"
   },
   "source": [
    "## ノック６３：画像データを切り出してみよう"
   ]
  },
  {
   "cell_type": "code",
   "execution_count": null,
   "metadata": {
    "colab": {
     "background_save": true
    },
    "id": "Z-S4IubS8quF"
   },
   "outputs": [],
   "source": [
    "img_extract = img[700:1200,300:800,:]\n",
    "cv2_imshow(img_extract)"
   ]
  },
  {
   "cell_type": "code",
   "execution_count": null,
   "metadata": {
    "colab": {
     "background_save": true
    },
    "id": "BJd5DyO58qxF"
   },
   "outputs": [],
   "source": [
    "cv2_imshow(img_extract[:,:,0])"
   ]
  },
  {
   "cell_type": "code",
   "execution_count": null,
   "metadata": {
    "colab": {
     "background_save": true
    },
    "id": "n6lB_dXtVw8i"
   },
   "outputs": [],
   "source": [
    "cv2_imshow(img_extract[:,:,1])"
   ]
  },
  {
   "cell_type": "markdown",
   "metadata": {
    "id": "RP340xytGHie"
   },
   "source": [
    "## ノック６４：カラーヒストグラムを可視化してみよう"
   ]
  },
  {
   "cell_type": "code",
   "execution_count": null,
   "metadata": {
    "colab": {
     "background_save": true
    },
    "id": "B2ajnK7XAaqy"
   },
   "outputs": [],
   "source": [
    "hist_b = cv2.calcHist([img],channels=[0],mask=None,histSize=[256],ranges=[0,256])\n",
    "print(hist_b.shape)\n",
    "hist_b[:5]"
   ]
  },
  {
   "cell_type": "code",
   "execution_count": null,
   "metadata": {
    "colab": {
     "background_save": true
    },
    "id": "e2hUKQuaBX1P"
   },
   "outputs": [],
   "source": [
    "hist_g = cv2.calcHist([img],channels=[1],mask=None,histSize=[256],ranges=[0,256])\n",
    "hist_r = cv2.calcHist([img],channels=[2],mask=None,histSize=[256],ranges=[0,256])\n",
    "\n",
    "import matplotlib.pyplot as plt\n",
    "plt.plot(hist_r, color='r', label=\"Red\")\n",
    "plt.plot(hist_g, color='g', label=\"Green\")\n",
    "plt.plot(hist_b, color='b', label=\"Blue\")\n",
    "plt.legend()\n",
    "plt.show()"
   ]
  },
  {
   "cell_type": "markdown",
   "metadata": {
    "id": "gN-fX6UOFrEt"
   },
   "source": [
    "## ノック６５：RGB変換を行って画像を表示してみよう"
   ]
  },
  {
   "cell_type": "code",
   "execution_count": null,
   "metadata": {
    "colab": {
     "background_save": true
    },
    "id": "xSPjHOVIEyIM"
   },
   "outputs": [],
   "source": [
    "img_rgb = cv2.cvtColor(img, cv2.COLOR_BGR2RGB)\n",
    "img_rgb.shape"
   ]
  },
  {
   "cell_type": "code",
   "execution_count": null,
   "metadata": {
    "colab": {
     "background_save": true,
     "output_embedded_package_id": "1PFIap05xFAw_l_Qw3x9dqS6nF981yTwt"
    },
    "id": "oWZ2fy0FF4m-",
    "outputId": "d9ddff47-d921-4062-ae95-06088d1a0c2b"
   },
   "outputs": [],
   "source": [
    "cv2_imshow(img_rgb)"
   ]
  },
  {
   "cell_type": "code",
   "execution_count": null,
   "metadata": {
    "colab": {
     "background_save": true
    },
    "id": "LJ5KEbNTDd8y"
   },
   "outputs": [],
   "source": [
    "plt.imshow(img_rgb)"
   ]
  },
  {
   "cell_type": "code",
   "execution_count": null,
   "metadata": {
    "colab": {
     "background_save": true
    },
    "id": "ppwEBSvoFd3O"
   },
   "outputs": [],
   "source": [
    "plt.imshow(img)"
   ]
  },
  {
   "cell_type": "markdown",
   "metadata": {
    "id": "qmYMFIkMG6oL"
   },
   "source": [
    "## ノック６６：画像のサイズを変更してみよう"
   ]
  },
  {
   "cell_type": "code",
   "execution_count": null,
   "metadata": {
    "colab": {
     "background_save": true
    },
    "id": "SgyvofBtn5Zt"
   },
   "outputs": [],
   "source": [
    "height, width, channels = img.shape\n",
    "print(width, height)"
   ]
  },
  {
   "cell_type": "code",
   "execution_count": null,
   "metadata": {
    "colab": {
     "background_save": true
    },
    "id": "OuEmXm3mqP2R"
   },
   "outputs": [],
   "source": [
    "img_resized = cv2.resize(img, (500, 300) )\n",
    "print(img_resized.shape)\n",
    "cv2_imshow(img_resized)"
   ]
  },
  {
   "cell_type": "code",
   "execution_count": null,
   "metadata": {
    "id": "00HWHVN2qpi-"
   },
   "outputs": [],
   "source": [
    "img_resized = cv2.resize(img, (300, 500))\n",
    "print(img_resized.shape)\n",
    "cv2_imshow(img_resized)"
   ]
  },
  {
   "cell_type": "code",
   "execution_count": null,
   "metadata": {
    "id": "iEb7Y-Qbqr9O"
   },
   "outputs": [],
   "source": [
    "img_resized = cv2.resize(img, None, fx=0.1, fy=0.1)\n",
    "print(img_resized.shape)\n",
    "cv2_imshow(img_resized)"
   ]
  },
  {
   "cell_type": "code",
   "execution_count": null,
   "metadata": {
    "id": "ZCVJdJe2riyA"
   },
   "outputs": [],
   "source": [
    "img_resized_2 = cv2.resize(img_resized, None, fx=1.5, fy=1.5)\n",
    "print(img_resized_2.shape)\n",
    "cv2_imshow(img_resized_2)"
   ]
  },
  {
   "cell_type": "code",
   "execution_count": null,
   "metadata": {
    "id": "4TJIrQDcqz53"
   },
   "outputs": [],
   "source": [
    "img_resized_2 = cv2.resize(img_resized, None, fx=1.5, fy=1.5, interpolation=cv2.INTER_NEAREST)\n",
    "print(img_resized_2.shape)\n",
    "cv2_imshow(img_resized_2)"
   ]
  },
  {
   "cell_type": "markdown",
   "metadata": {
    "id": "unLbHHiClX0U"
   },
   "source": [
    "## ノック６７：画像を回転させてみよう"
   ]
  },
  {
   "cell_type": "code",
   "execution_count": null,
   "metadata": {
    "id": "wFamGl9-3zPT"
   },
   "outputs": [],
   "source": [
    "cv2_imshow(img_resized)\n",
    "print(img_resized.shape)"
   ]
  },
  {
   "cell_type": "code",
   "execution_count": null,
   "metadata": {
    "id": "yO5K6nTesj0y"
   },
   "outputs": [],
   "source": [
    "img_rotated = cv2.rotate(img_resized, cv2.ROTATE_90_CLOCKWISE)\n",
    "cv2_imshow(img_rotated)\n",
    "print(img_rotated.shape)"
   ]
  },
  {
   "cell_type": "code",
   "execution_count": null,
   "metadata": {
    "id": "FtAktcbN6ikL"
   },
   "outputs": [],
   "source": [
    "height, width = img_resized.shape[:2]\n",
    "center = (int(width/2), int(height/2))\n",
    "\n",
    "rot = cv2.getRotationMatrix2D(center, 45, 1)\n",
    "img_rotated = cv2.warpAffine(img_resized, rot, (width,height))\n",
    "cv2_imshow(img_rotated)\n",
    "print(img_rotated.shape)"
   ]
  },
  {
   "cell_type": "code",
   "execution_count": null,
   "metadata": {
    "id": "dk4DTeFR_WmK"
   },
   "outputs": [],
   "source": [
    "img_reverse =cv2.flip(img_resized, 0)\n",
    "cv2_imshow(img_reverse)\n",
    "print(img_reverse.shape)"
   ]
  },
  {
   "cell_type": "code",
   "execution_count": null,
   "metadata": {
    "id": "0u0BsDxm_emi"
   },
   "outputs": [],
   "source": [
    "img_reverse =cv2.flip(img_resized, 1)\n",
    "cv2_imshow(img_reverse)\n",
    "print(img_reverse.shape)"
   ]
  },
  {
   "cell_type": "code",
   "execution_count": null,
   "metadata": {
    "id": "lsBoAatRuk30"
   },
   "outputs": [],
   "source": [
    "img_reverse = img_resized[:, ::-1, :]\n",
    "cv2_imshow(img_reverse)\n",
    "print(img_reverse.shape)"
   ]
  },
  {
   "cell_type": "markdown",
   "metadata": {
    "id": "O05FKuUmlqAu"
   },
   "source": [
    "## ノック６８：画像処理をしてみよう"
   ]
  },
  {
   "cell_type": "code",
   "execution_count": null,
   "metadata": {
    "id": "kWaUNOtPzIIM"
   },
   "outputs": [],
   "source": [
    "img_gray = cv2.cvtColor(img_resized, cv2.COLOR_BGR2GRAY)\n",
    "cv2_imshow(img_gray)\n",
    "print(img_gray.shape)"
   ]
  },
  {
   "cell_type": "code",
   "execution_count": null,
   "metadata": {
    "id": "Z6YXjU73DlgI"
   },
   "outputs": [],
   "source": [
    "th, img_th =  cv2.threshold(img_gray, 60, 255, cv2.THRESH_BINARY)\n",
    "cv2_imshow(img_th)\n",
    "print(img_th.shape)\n",
    "print(th)"
   ]
  },
  {
   "cell_type": "code",
   "execution_count": null,
   "metadata": {
    "id": "hWSOsQmuyDFJ"
   },
   "outputs": [],
   "source": [
    "img_smoothed = cv2.blur(img_resized,(8, 8))\n",
    "cv2_imshow(img_smoothed)\n",
    "print(img_smoothed.shape)"
   ]
  },
  {
   "cell_type": "code",
   "execution_count": null,
   "metadata": {
    "id": "vuyct9etygWF"
   },
   "outputs": [],
   "source": [
    "img_smoothed = cv2.blur(img_resized,(20, 20))\n",
    "cv2_imshow(img_smoothed)\n",
    "print(img_smoothed.shape)"
   ]
  },
  {
   "cell_type": "markdown",
   "metadata": {
    "id": "l-RrueueldqD"
   },
   "source": [
    "## ノック６９：画像にテキストや線を描画してみよう"
   ]
  },
  {
   "cell_type": "code",
   "execution_count": null,
   "metadata": {
    "id": "PjxZ0-eLkhUs"
   },
   "outputs": [],
   "source": [
    "text = '9'\n",
    "xy = (200, 100)\n",
    "font = cv2.FONT_HERSHEY_COMPLEX\n",
    "font_scale = 2\n",
    "color = (0, 0, 255)\n",
    "thickness = 2\n",
    "\n",
    "img_text = cv2.putText(img_resized.copy(), text, xy, font, font_scale, color, thickness)\n",
    "cv2_imshow(img_text)"
   ]
  },
  {
   "cell_type": "code",
   "execution_count": null,
   "metadata": {
    "id": "uwGJw2Id1cIo"
   },
   "outputs": [],
   "source": [
    "x0, y0 = 200, 70\n",
    "x1, y1 = 350, 330\n",
    "color = (0, 0, 255)\n",
    "thickness = 3\n",
    "\n",
    "img_rect = cv2.rectangle(img_resized.copy(),(x0, y0),(x1, y1),color,thickness)\n",
    "cv2_imshow(img_rect)"
   ]
  },
  {
   "cell_type": "markdown",
   "metadata": {
    "id": "q8eI85a6aUgy"
   },
   "source": [
    "## ノック７０：画像を保存してみよう"
   ]
  },
  {
   "cell_type": "code",
   "execution_count": null,
   "metadata": {
    "id": "iUMeSnZ-2PKW"
   },
   "outputs": [],
   "source": [
    "cv2.imwrite('data/sample_resized.jpg', img_resized)"
   ]
  },
  {
   "cell_type": "code",
   "execution_count": null,
   "metadata": {
    "id": "QP8yEDWNelo8"
   },
   "outputs": [],
   "source": [
    "img_read = cv2.imread('data/sample_resized.jpg')\n",
    "cv2_imshow(img_read)\n",
    "print(img_read.shape)"
   ]
  },
  {
   "cell_type": "code",
   "execution_count": null,
   "metadata": {
    "id": "fjveg7E7E1Pk"
   },
   "outputs": [],
   "source": [
    "cv2.imwrite('data/sample_resized.png', img_resized)\n",
    "img_read = cv2.imread('data/sample_resized.png')\n",
    "cv2_imshow(img_read)\n",
    "print(img_read.shape)"
   ]
  },
  {
   "cell_type": "code",
   "execution_count": null,
   "metadata": {
    "id": "wWjNVN6UE1Zj"
   },
   "outputs": [],
   "source": []
  }
 ],
 "metadata": {
  "colab": {
   "name": "",
   "version": ""
  },
  "kernelspec": {
   "display_name": "Python 3",
   "language": "python",
   "name": "python3"
  },
  "language_info": {
   "codemirror_mode": {
    "name": "ipython",
    "version": 3
   },
   "file_extension": ".py",
   "mimetype": "text/x-python",
   "name": "python",
   "nbconvert_exporter": "python",
   "pygments_lexer": "ipython3",
   "version": "3.6.9"
  }
 },
 "nbformat": 4,
 "nbformat_minor": 0
}
