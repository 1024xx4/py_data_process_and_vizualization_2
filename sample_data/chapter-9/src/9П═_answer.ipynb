{
 "cells": [
  {
   "cell_type": "code",
   "execution_count": null,
   "metadata": {
    "colab": {
     "base_uri": "https://localhost:8080/"
    },
    "executionInfo": {
     "elapsed": 164973,
     "status": "ok",
     "timestamp": 1709042043125,
     "user": {
      "displayName": "伊藤淳二",
      "userId": "06108280857351659017"
     },
     "user_tz": -540
    },
    "id": "3SVNRuLbEW8D",
    "outputId": "862f731e-a66c-4d69-f6b2-c6b691f2e3f2"
   },
   "outputs": [],
   "source": [
    "# 下記セルを実行すると、authorization codeの入力を求められます。\n",
    "# 出力されたリンク先をクリックし、Googleアカウントにログインし、\n",
    "# authorization codeをコピーし、貼り付けをおこなってください。\n",
    "from google.colab import drive\n",
    "drive.mount('/content/drive')"
   ]
  },
  {
   "cell_type": "code",
   "execution_count": null,
   "metadata": {
    "executionInfo": {
     "elapsed": 6,
     "status": "ok",
     "timestamp": 1709042043126,
     "user": {
      "displayName": "伊藤淳二",
      "userId": "06108280857351659017"
     },
     "user_tz": -540
    },
    "id": "rck4HajtEfLF"
   },
   "outputs": [],
   "source": [
    "import os\n",
    "project = 'sample_data'\n",
    "chapter = 9\n",
    "os.chdir(f'/content/drive/MyDrive/{project}/chapter-{chapter}/')"
   ]
  },
  {
   "cell_type": "markdown",
   "metadata": {
    "id": "nMIz0UCIEuf2"
   },
   "source": [
    "# ９章 ChatGPTを用いたデータ加工・可視化を行う10本ノック"
   ]
  },
  {
   "cell_type": "markdown",
   "metadata": {
    "id": "gjcEnLAyFBxK"
   },
   "source": [
    "## 放課後ノック１０２：数値データの差分を計算してみよう\n",
    "\n",
    "\n"
   ]
  },
  {
   "cell_type": "code",
   "execution_count": null,
   "metadata": {
    "colab": {
     "base_uri": "https://localhost:8080/"
    },
    "executionInfo": {
     "elapsed": 1316,
     "status": "ok",
     "timestamp": 1709042061928,
     "user": {
      "displayName": "伊藤淳二",
      "userId": "06108280857351659017"
     },
     "user_tz": -540
    },
    "id": "p_aBhCSqE1qm",
    "outputId": "7ec71ba2-5411-4e99-d3b6-f7b46233c91a"
   },
   "outputs": [],
   "source": [
    "import pandas as pd\n",
    "\n",
    "# CSVファイルのパスを指定\n",
    "csv_file_path = 'data/receive_time.csv'\n",
    "\n",
    "# CSVファイルをデータフレームとして読み込む\n",
    "df = pd.read_csv(csv_file_path)\n",
    "\n",
    "# データフレームの内容を表示\n",
    "print(df)\n"
   ]
  },
  {
   "cell_type": "code",
   "execution_count": null,
   "metadata": {
    "colab": {
     "base_uri": "https://localhost:8080/",
     "height": 423
    },
    "executionInfo": {
     "elapsed": 353,
     "status": "ok",
     "timestamp": 1709042062279,
     "user": {
      "displayName": "伊藤淳二",
      "userId": "06108280857351659017"
     },
     "user_tz": -540
    },
    "id": "nJekiPKzQVK8",
    "outputId": "5df62a96-a427-40e8-873c-ec75b64183b1"
   },
   "outputs": [],
   "source": [
    "import pandas as pd\n",
    "\n",
    "def read_timeseries_csv(file_path, datetime_column):\n",
    "    \"\"\"\n",
    "    CSVファイルをデータフレームとして読み込み、指定された列をdatetime型に変換する関数。\n",
    "\n",
    "    Parameters:\n",
    "    - file_path (str): CSVファイルのパス\n",
    "    - datetime_column (str): datetime型に変換したい列のカラム名\n",
    "\n",
    "    Returns:\n",
    "    - pd.DataFrame: 読み込まれたデータフレーム\n",
    "    \"\"\"\n",
    "    # CSVファイルをデータフレームとして読み込む\n",
    "    df = pd.read_csv(file_path)\n",
    "\n",
    "    # 指定された列をdatetime型に変換\n",
    "    df[datetime_column] = pd.to_datetime(df[datetime_column])\n",
    "\n",
    "    return df\n",
    "\n",
    "# 対象のファイルパスとdatetime型として読み込みたい列のカラム名を指定\n",
    "file_path = 'data/receive_time.csv'\n",
    "datetime_column_name = 'receive_time_sec'\n",
    "\n",
    "# 関数を使用してデータフレームを作成\n",
    "df_result = read_timeseries_csv(file_path, datetime_column_name)\n",
    "\n",
    "# データフレームの内容を表示\n",
    "display(df_result)"
   ]
  },
  {
   "cell_type": "code",
   "execution_count": null,
   "metadata": {
    "colab": {
     "base_uri": "https://localhost:8080/",
     "height": 206
    },
    "executionInfo": {
     "elapsed": 550,
     "status": "ok",
     "timestamp": 1709042064085,
     "user": {
      "displayName": "伊藤淳二",
      "userId": "06108280857351659017"
     },
     "user_tz": -540
    },
    "id": "imDB6VtjdxoX",
    "outputId": "96806276-7718-44a1-8fd7-2cf3cce15b3e"
   },
   "outputs": [],
   "source": [
    "import pandas as pd\n",
    "\n",
    "def perform_data_analytics(df):\n",
    "    \"\"\"\n",
    "    指定されたデータフレームに対して、列方向に１行ずらし、差分を計算して新しいデータフレームを作成する関数。\n",
    "\n",
    "    Parameters:\n",
    "    - df (pd.DataFrame): 元のデータフレーム\n",
    "\n",
    "    Returns:\n",
    "    - pd.DataFrame: 新しいデータフレーム\n",
    "    \"\"\"\n",
    "    # 列方向に１行ずらす\n",
    "    data_before_1sec = df.shift(1)\n",
    "\n",
    "    # カラム名を変更\n",
    "    data_before_1sec.columns = [col + '_b1sec' for col in data_before_1sec.columns]\n",
    "\n",
    "    # 元のデータフレームと１行ずらしたデータフレームを結合\n",
    "    data_analytics = pd.concat([df, data_before_1sec], axis=1)\n",
    "\n",
    "    # 差分を計算して新しいカラムを追加\n",
    "    data_analytics['in1_calc'] = data_analytics['in1'] - data_analytics['in1_b1sec']\n",
    "    data_analytics['out1_calc'] = data_analytics['out1'] - data_analytics['out1_b1sec']\n",
    "\n",
    "    return data_analytics\n",
    "\n",
    "# 例として作成したデータフレームを使用\n",
    "# df_result = ...\n",
    "\n",
    "# 関数を使用してデータ解析を実行\n",
    "data_analytics_result = perform_data_analytics(df_result)\n",
    "\n",
    "# 先頭５行を表示\n",
    "display(data_analytics_result.head())\n",
    "\n",
    "processed_data = data_analytics_result.copy()"
   ]
  },
  {
   "cell_type": "markdown",
   "metadata": {
    "id": "xtg5k9-ApjPe"
   },
   "source": [
    "## 放課後ノック１０３：統計量を確認してみよう\n",
    "\n",
    "\n"
   ]
  },
  {
   "cell_type": "code",
   "execution_count": null,
   "metadata": {
    "colab": {
     "base_uri": "https://localhost:8080/",
     "height": 300
    },
    "executionInfo": {
     "elapsed": 4,
     "status": "ok",
     "timestamp": 1709042065225,
     "user": {
      "displayName": "伊藤淳二",
      "userId": "06108280857351659017"
     },
     "user_tz": -540
    },
    "id": "2qcsDtcyak4Q",
    "outputId": "76ca0a2f-677b-4152-dfb7-110882a76445"
   },
   "outputs": [],
   "source": [
    "data_analytics_result.describe()"
   ]
  },
  {
   "cell_type": "code",
   "execution_count": null,
   "metadata": {
    "colab": {
     "base_uri": "https://localhost:8080/",
     "height": 206
    },
    "executionInfo": {
     "elapsed": 1093,
     "status": "ok",
     "timestamp": 1709042066974,
     "user": {
      "displayName": "伊藤淳二",
      "userId": "06108280857351659017"
     },
     "user_tz": -540
    },
    "id": "XIxBjNQkqw6F",
    "outputId": "5a903474-8c30-4c3b-fdf1-20374ffc6761"
   },
   "outputs": [],
   "source": [
    "import pandas as pd\n",
    "\n",
    "def aggregate_and_melt_data(data_analytics_result):\n",
    "    \"\"\"\n",
    "    指定されたデータフレームを処理し、秒単位の時間データを時単位に集計し、縦持ちのデータフレームに変換する関数。\n",
    "\n",
    "    Parameters:\n",
    "    - data_analytics_result (pd.DataFrame): 元のデータフレーム\n",
    "\n",
    "    Returns:\n",
    "    - pd.DataFrame: 処理されたデータフレーム\n",
    "    \"\"\"\n",
    "    # datetime型カラムを文字列に変換して新しいカラムに格納\n",
    "    data_analytics_result['date_hour'] = data_analytics_result['receive_time_sec'].dt.strftime('%Y%m%d%H')\n",
    "\n",
    "    # カラムを抽出して時単位で集計\n",
    "    viz_data = data_analytics_result[['date_hour', 'in1_calc', 'out1_calc']].groupby('date_hour').sum().reset_index()\n",
    "\n",
    "    # 'in1_calc'と'out1_calc'を縦持ちに変換\n",
    "    viz_data_melted = pd.melt(viz_data, id_vars=['date_hour'], value_vars=['in1_calc', 'out1_calc'],\n",
    "                              var_name='variable', value_name='value')\n",
    "\n",
    "    return viz_data_melted\n",
    "\n",
    "# 例として作成したデータフレームを使用\n",
    "# data_analytics_result = ...\n",
    "\n",
    "# 関数を使用してデータ処理を実行\n",
    "viz_data = aggregate_and_melt_data(data_analytics_result)\n",
    "\n",
    "# 先頭５行を表示\n",
    "display(viz_data.head())\n"
   ]
  },
  {
   "cell_type": "markdown",
   "metadata": {
    "id": "0e2KOH9_pwPX"
   },
   "source": [
    "## 放課後ノック１０４：時系列の可視化をしてみよう\n",
    "\n",
    "\n"
   ]
  },
  {
   "cell_type": "code",
   "execution_count": null,
   "metadata": {
    "colab": {
     "base_uri": "https://localhost:8080/",
     "height": 573
    },
    "executionInfo": {
     "elapsed": 3911,
     "status": "ok",
     "timestamp": 1709042071235,
     "user": {
      "displayName": "伊藤淳二",
      "userId": "06108280857351659017"
     },
     "user_tz": -540
    },
    "id": "kZgYIxZ41VNV",
    "outputId": "aeee648b-161b-4ebf-9c66-b2af914bfadd"
   },
   "outputs": [],
   "source": [
    "import matplotlib.pyplot as plt\n",
    "import seaborn as sns\n",
    "\n",
    "# グラフのスタイルを設定（任意）\n",
    "sns.set(style=\"whitegrid\")\n",
    "\n",
    "# 折れ線グラフの作成\n",
    "plt.figure(figsize=(12, 6))  # グラフのサイズを設定\n",
    "\n",
    "# カラム'variable'の値ごとに折れ線グラフを描画\n",
    "sns.lineplot(x='date_hour', y='value', hue='variable', data=viz_data)\n",
    "\n",
    "# グラフにタイトルやラベルを追加（任意）\n",
    "plt.title('Hourly Aggregated Data Visualization')\n",
    "plt.xlabel('Hourly Time')\n",
    "plt.ylabel('Value')\n",
    "\n",
    "# 凡例を表示\n",
    "plt.legend(title='Variable')\n",
    "\n",
    "# グラフを表示\n",
    "plt.show()"
   ]
  },
  {
   "cell_type": "markdown",
   "metadata": {
    "id": "BI2dD5ebp4wt"
   },
   "source": [
    "## 放課後ノック１０５：データの分布をヒストグラムで確可視化してみよう\n",
    "\n",
    "\n"
   ]
  },
  {
   "cell_type": "code",
   "execution_count": null,
   "metadata": {
    "colab": {
     "base_uri": "https://localhost:8080/",
     "height": 591
    },
    "executionInfo": {
     "elapsed": 9,
     "status": "ok",
     "timestamp": 1709042071235,
     "user": {
      "displayName": "伊藤淳二",
      "userId": "06108280857351659017"
     },
     "user_tz": -540
    },
    "id": "cw_mzqif_3BJ",
    "outputId": "759d346b-695c-43cd-aa27-3b5838617702"
   },
   "outputs": [],
   "source": [
    "import matplotlib.pyplot as plt\n",
    "import seaborn as sns\n",
    "\n",
    "# グラフのスタイルを設定（任意）\n",
    "sns.set(style=\"whitegrid\")\n",
    "\n",
    "# ヒストグラムの作成\n",
    "plt.figure(figsize=(10, 6))  # グラフのサイズを設定\n",
    "\n",
    "# カラム'value'のヒストグラムを描画\n",
    "sns.histplot(data=viz_data, x='value', hue='variable', kde=True)\n",
    "\n",
    "# グラフにタイトルやラベルを追加（任意）\n",
    "plt.title('Histogram of Value')\n",
    "plt.xlabel('Value')\n",
    "plt.ylabel('Frequency')\n",
    "\n",
    "# 凡例を表示\n",
    "plt.legend(title='Variable')\n",
    "\n",
    "# グラフを表示\n",
    "plt.show()"
   ]
  },
  {
   "cell_type": "markdown",
   "metadata": {
    "id": "j2AD2hs-qOLW"
   },
   "source": [
    "## 放課後ノック１０７：文章を単語分割してみよう\n",
    "\n",
    "\n"
   ]
  },
  {
   "cell_type": "code",
   "execution_count": null,
   "metadata": {
    "colab": {
     "base_uri": "https://localhost:8080/",
     "height": 81
    },
    "executionInfo": {
     "elapsed": 346,
     "status": "ok",
     "timestamp": 1709042071575,
     "user": {
      "displayName": "伊藤淳二",
      "userId": "06108280857351659017"
     },
     "user_tz": -540
    },
    "id": "c0ScpubEF05w",
    "outputId": "72fc6860-48b7-4167-9bde-e12bd08dce6c"
   },
   "outputs": [],
   "source": [
    "booklist = pd.read_csv('data/hashire_merosu.csv')\n",
    "booklist"
   ]
  },
  {
   "cell_type": "code",
   "execution_count": null,
   "metadata": {
    "colab": {
     "base_uri": "https://localhost:8080/"
    },
    "executionInfo": {
     "elapsed": 27170,
     "status": "ok",
     "timestamp": 1709042098740,
     "user": {
      "displayName": "伊藤淳二",
      "userId": "06108280857351659017"
     },
     "user_tz": -540
    },
    "id": "tNcW8wGjmo-L",
    "outputId": "5c7dae08-0675-41fb-872e-0ddef9224210"
   },
   "outputs": [],
   "source": [
    "%%bash\n",
    "\n",
    "apt install -yq \\\n",
    "  mecab \\\n",
    "  mecab-ipadic-utf8 \\\n",
    "  libmecab-dev\n",
    "pip install -q mecab-python3\n",
    "ln -s /etc/mecabrc /usr/local/etc/mecabrc"
   ]
  },
  {
   "cell_type": "code",
   "execution_count": null,
   "metadata": {
    "colab": {
     "base_uri": "https://localhost:8080/"
    },
    "executionInfo": {
     "elapsed": 1780,
     "status": "ok",
     "timestamp": 1709042100517,
     "user": {
      "displayName": "伊藤淳二",
      "userId": "06108280857351659017"
     },
     "user_tz": -540
    },
    "id": "FCt5JAw4o1AJ",
    "outputId": "e3df56d8-768e-4ddb-c5a1-96f0c31c5839"
   },
   "outputs": [],
   "source": [
    "pip list | grep mecab"
   ]
  },
  {
   "cell_type": "code",
   "execution_count": null,
   "metadata": {
    "colab": {
     "base_uri": "https://localhost:8080/"
    },
    "executionInfo": {
     "elapsed": 7,
     "status": "ok",
     "timestamp": 1709042100517,
     "user": {
      "displayName": "伊藤淳二",
      "userId": "06108280857351659017"
     },
     "user_tz": -540
    },
    "id": "4n7Ei423try0",
    "outputId": "c59ef7cb-8912-47cc-fa34-b0a24ef08c54"
   },
   "outputs": [],
   "source": [
    "import pandas as pd\n",
    "import MeCab\n",
    "\n",
    "def mecab_tokenize(text):\n",
    "    \"\"\"\n",
    "    MeCabを使用してテキストを形態素解析し、名詞と動詞だけを抽出する関数。\n",
    "\n",
    "    Parameters:\n",
    "    - text (str): 解析対象のテキスト\n",
    "\n",
    "    Returns:\n",
    "    - pd.DataFrame: 抽出された単語と品詞のデータフレーム\n",
    "    \"\"\"\n",
    "    # MeCabのインスタンスを生成\n",
    "    mecab = MeCab.Tagger()\n",
    "\n",
    "    # テキストを形態素解析して単語と品詞を取得\n",
    "    parsed_text = mecab.parse(text)\n",
    "\n",
    "    # 解析結果をデータフレームに格納\n",
    "    words = []\n",
    "    pos_tags = []\n",
    "    for line in parsed_text.splitlines():\n",
    "        if line == \"EOS\" or line == \"\":\n",
    "            continue\n",
    "        surface, feature = line.split(\"\\t\")\n",
    "        features = feature.split(\",\")\n",
    "        if features[0] == \"名詞\" or features[0] == \"動詞\":\n",
    "            words.append(surface)\n",
    "            pos_tags.append(features[0])\n",
    "\n",
    "    # データフレームに変換\n",
    "    df = pd.DataFrame({'word': words, '種類': pos_tags})\n",
    "\n",
    "    return df\n",
    "\n",
    "# 例として作成したデータフレームを使用\n",
    "# booklist = ...\n",
    "\n",
    "# 関数を使用して形態素解析とデータフレームの作成を実行\n",
    "result_df = mecab_tokenize(booklist['body'].iloc[0])\n",
    "\n",
    "# 先頭５行を表示\n",
    "print(result_df.head())\n"
   ]
  },
  {
   "cell_type": "markdown",
   "metadata": {
    "id": "LZp26_rlqdYZ"
   },
   "source": [
    "## 放課後ノック１０８：単語の使用頻度を可視化してみよう\n",
    "\n",
    "\n"
   ]
  },
  {
   "cell_type": "code",
   "execution_count": null,
   "metadata": {
    "colab": {
     "base_uri": "https://localhost:8080/",
     "height": 676
    },
    "executionInfo": {
     "elapsed": 5,
     "status": "ok",
     "timestamp": 1709042100517,
     "user": {
      "displayName": "伊藤淳二",
      "userId": "06108280857351659017"
     },
     "user_tz": -540
    },
    "id": "13ATdiqKxaYP",
    "outputId": "bc80f0b2-44d6-4acb-ddb2-7808c913ab07"
   },
   "outputs": [],
   "source": [
    "count = result_df.groupby('word').size().sort_values(ascending=False)\n",
    "count.name = 'count'\n",
    "count = count.reset_index().head(20)\n",
    "count"
   ]
  },
  {
   "cell_type": "code",
   "execution_count": null,
   "metadata": {
    "colab": {
     "base_uri": "https://localhost:8080/"
    },
    "executionInfo": {
     "elapsed": 13219,
     "status": "ok",
     "timestamp": 1709042113732,
     "user": {
      "displayName": "伊藤淳二",
      "userId": "06108280857351659017"
     },
     "user_tz": -540
    },
    "id": "xhWoNhR1CPFf",
    "outputId": "9e1f5795-f89b-496d-ce2f-7b5d89273dab"
   },
   "outputs": [],
   "source": [
    "!pip install japanize-matplotlib\n",
    "import japanize_matplotlib"
   ]
  },
  {
   "cell_type": "code",
   "execution_count": null,
   "metadata": {
    "colab": {
     "base_uri": "https://localhost:8080/",
     "height": 723
    },
    "executionInfo": {
     "elapsed": 22,
     "status": "ok",
     "timestamp": 1709042113732,
     "user": {
      "displayName": "伊藤淳二",
      "userId": "06108280857351659017"
     },
     "user_tz": -540
    },
    "id": "7q8R2TVexlLi",
    "outputId": "ebcc74cb-c49c-46df-951c-405953fc12df"
   },
   "outputs": [],
   "source": [
    "import matplotlib.pyplot as plt\n",
    "\n",
    "def plot_top_words(count_df, top_n=20):\n",
    "    \"\"\"\n",
    "    カウントデータフレームから上位N個の単語を横向きの棒グラフで可視化する関数。\n",
    "\n",
    "    Parameters:\n",
    "    - count_df (pd.DataFrame): カウントデータフレーム\n",
    "    - top_n (int): 上位N個の単語を表示する数（デフォルトは20）\n",
    "\n",
    "    Returns:\n",
    "    - None\n",
    "    \"\"\"\n",
    "    # カウントが大きい上位N個の単語を取得\n",
    "    top_words = count_df.nlargest(top_n, 'count')\n",
    "\n",
    "    # 横向きの棒グラフを描画\n",
    "    plt.figure(figsize=(10, 8))\n",
    "    plt.barh(top_words['word'], top_words['count'], color='skyblue')\n",
    "\n",
    "    # グラフにタイトルやラベルを追加（任意）\n",
    "    plt.title(f'Top {top_n} Words by Count')\n",
    "    plt.xlabel('Count')\n",
    "    plt.ylabel('Word')\n",
    "\n",
    "    # グラフを表示\n",
    "    plt.show()\n",
    "\n",
    "# 例として作成したデータフレームを使用\n",
    "# count = ...\n",
    "\n",
    "# 関数を使用して可視化を実行\n",
    "plot_top_words(count)\n"
   ]
  },
  {
   "cell_type": "markdown",
   "metadata": {
    "id": "RCUAcj6PqoKT"
   },
   "source": [
    "## 放課後ノック１０９：文章からエンティティ抽出してみよう\n",
    "\n",
    "\n"
   ]
  },
  {
   "cell_type": "code",
   "execution_count": null,
   "metadata": {
    "colab": {
     "base_uri": "https://localhost:8080/"
    },
    "executionInfo": {
     "elapsed": 28607,
     "status": "ok",
     "timestamp": 1709042142318,
     "user": {
      "displayName": "伊藤淳二",
      "userId": "06108280857351659017"
     },
     "user_tz": -540
    },
    "id": "gKK5e_SmLzSN",
    "outputId": "52ab5d94-b752-4b82-8fc5-92e262ac908f"
   },
   "outputs": [],
   "source": [
    "!pip install ja-ginza"
   ]
  },
  {
   "cell_type": "code",
   "execution_count": null,
   "metadata": {
    "colab": {
     "base_uri": "https://localhost:8080/",
     "height": 423
    },
    "executionInfo": {
     "elapsed": 31786,
     "status": "ok",
     "timestamp": 1709042174100,
     "user": {
      "displayName": "伊藤淳二",
      "userId": "06108280857351659017"
     },
     "user_tz": -540
    },
    "id": "8zf2f9In-e77",
    "outputId": "1d42a615-8b53-403a-903a-e8b4fa0afa00"
   },
   "outputs": [],
   "source": [
    "import spacy\n",
    "from spacy.lang.ja import Japanese\n",
    "from spacy.lang.ja.examples import sentences\n",
    "from IPython.display import display\n",
    "\n",
    "# spacyのja_ginzaモデルを読み込む\n",
    "nlp = spacy.load('ja_ginza')\n",
    "\n",
    "def extract_entities(text):\n",
    "    \"\"\"\n",
    "    spacyを使用して与えられたテキストからエンティティを抽出する関数。\n",
    "\n",
    "    Parameters:\n",
    "    - text (str): エンティティを抽出する対象のテキスト\n",
    "\n",
    "    Returns:\n",
    "    - pd.DataFrame: 抽出されたエンティティのデータフレーム\n",
    "    \"\"\"\n",
    "    # テキストを処理\n",
    "    doc = nlp(text)\n",
    "\n",
    "    # エンティティの抽出\n",
    "    entities = []\n",
    "    for ent in doc.ents:\n",
    "        entities.append((ent.text, ent.label_))\n",
    "\n",
    "    # データフレームに変換\n",
    "    entity_df = pd.DataFrame(entities, columns=['Entity', 'Label'])\n",
    "\n",
    "    return entity_df\n",
    "\n",
    "# 例として作成したデータフレームを使用\n",
    "# booklist = ...\n",
    "\n",
    "# エンティティ抽出を実行\n",
    "entity_df = extract_entities(booklist['body'].iloc[0])\n",
    "\n",
    "# 結果のデータフレームを表示\n",
    "display(entity_df)\n"
   ]
  },
  {
   "cell_type": "markdown",
   "metadata": {
    "id": "OnOcejXrq0Xq"
   },
   "source": [
    "## 放課後ノック１１０：エンティティをハイライトで可視化してみよう\n",
    "\n",
    "\n"
   ]
  },
  {
   "cell_type": "code",
   "execution_count": null,
   "metadata": {
    "colab": {
     "base_uri": "https://localhost:8080/"
    },
    "executionInfo": {
     "elapsed": 4866,
     "status": "ok",
     "timestamp": 1709042178963,
     "user": {
      "displayName": "伊藤淳二",
      "userId": "06108280857351659017"
     },
     "user_tz": -540
    },
    "id": "T6czXWdfMZRz",
    "outputId": "c8b59aa0-77ca-457a-8b6c-555e3b43a2bc"
   },
   "outputs": [],
   "source": [
    "import spacy\n",
    "from spacy import displacy\n",
    "from IPython.display import display\n",
    "\n",
    "# spacyのja_ginzaモデルを読み込む\n",
    "nlp = spacy.load('ja_ginza')\n",
    "\n",
    "def highlight_entities(text):\n",
    "    \"\"\"\n",
    "    spacyを使用して与えられたテキストからエンティティを抽出し、ハイライトして表示する関数。\n",
    "\n",
    "    Parameters:\n",
    "    - text (str): エンティティを抽出し、ハイライトする対象のテキスト\n",
    "\n",
    "    Returns:\n",
    "    - None\n",
    "    \"\"\"\n",
    "    # テキストを処理\n",
    "    doc = nlp(text)\n",
    "\n",
    "    # エンティティをハイライトして表示（jupyter=True）\n",
    "    displacy.render(doc, style='ent', jupyter=True)\n",
    "\n",
    "# 例として作成したデータフレームを使用\n",
    "# booklist = ...\n",
    "\n",
    "# エンティティ抽出とハイライト表示を実行\n",
    "highlight_entities(booklist['body'].iloc[0])\n"
   ]
  }
 ],
 "metadata": {
  "colab": {
   "provenance": []
  },
  "kernelspec": {
   "display_name": "Python 3",
   "name": "python3"
  },
  "language_info": {
   "name": "python"
  }
 },
 "nbformat": 4,
 "nbformat_minor": 0
}
