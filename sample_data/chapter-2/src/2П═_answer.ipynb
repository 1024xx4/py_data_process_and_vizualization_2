{
 "cells": [
  {
   "cell_type": "code",
   "execution_count": null,
   "metadata": {
    "colab": {
     "base_uri": "https://localhost:8080/"
    },
    "executionInfo": {
     "elapsed": 21866,
     "status": "ok",
     "timestamp": 1709041417901,
     "user": {
      "displayName": "伊藤淳二",
      "userId": "06108280857351659017"
     },
     "user_tz": -540
    },
    "id": "HB3mviwv25Jc",
    "outputId": "c3885dd5-c98f-45a9-ca93-13614c4d39ab"
   },
   "outputs": [],
   "source": [
    "# 下記セルを実行すると、authorization codeの入力を求められます。\n",
    "# 出力されたリンク先をクリックし、Googleアカウントにログインし、\n",
    "# authorization codeをコピーし、貼り付けをおこなってください。\n",
    "from google.colab import drive\n",
    "drive.mount('/content/drive')"
   ]
  },
  {
   "cell_type": "code",
   "execution_count": null,
   "metadata": {
    "executionInfo": {
     "elapsed": 420,
     "status": "ok",
     "timestamp": 1709041418319,
     "user": {
      "displayName": "伊藤淳二",
      "userId": "06108280857351659017"
     },
     "user_tz": -540
    },
    "id": "HcOU_u4l25Jd"
   },
   "outputs": [],
   "source": [
    "import os\n",
    "project = 'sample_data'\n",
    "chapter = 2\n",
    "os.chdir(f'/content/drive/MyDrive/{project}/chapter-{chapter}/')"
   ]
  },
  {
   "cell_type": "markdown",
   "metadata": {
    "id": "pCbOP-x725Jd"
   },
   "source": [
    "# ２章 ＥＸＣＥＬデータの加工・可視化を行う２０本ノック"
   ]
  },
  {
   "cell_type": "markdown",
   "metadata": {
    "id": "UMt-N3VMJQmJ"
   },
   "source": [
    "## ノック２１：Excelデータを読み込んでみよう"
   ]
  },
  {
   "cell_type": "code",
   "execution_count": null,
   "metadata": {
    "colab": {
     "base_uri": "https://localhost:8080/",
     "height": 322
    },
    "executionInfo": {
     "elapsed": 1561,
     "status": "ok",
     "timestamp": 1709041422309,
     "user": {
      "displayName": "伊藤淳二",
      "userId": "06108280857351659017"
     },
     "user_tz": -540
    },
    "id": "WVPBIqqbIvjE",
    "outputId": "8154f6be-ac65-472d-c1ec-0a6da6372f0b"
   },
   "outputs": [],
   "source": [
    "import pandas as pd\n",
    "data = pd.read_excel('data/1-2-2020.xlsx')\n",
    "data.head()"
   ]
  },
  {
   "cell_type": "code",
   "execution_count": null,
   "metadata": {
    "colab": {
     "base_uri": "https://localhost:8080/",
     "height": 478
    },
    "executionInfo": {
     "elapsed": 15,
     "status": "ok",
     "timestamp": 1709041422769,
     "user": {
      "displayName": "伊藤淳二",
      "userId": "06108280857351659017"
     },
     "user_tz": -540
    },
    "id": "PNqFSUoTWJ5I",
    "outputId": "dbdf87e3-eb7d-411b-e363-982e4531d6e8"
   },
   "outputs": [],
   "source": [
    "data.tail()"
   ]
  },
  {
   "cell_type": "code",
   "execution_count": null,
   "metadata": {
    "colab": {
     "base_uri": "https://localhost:8080/",
     "height": 235
    },
    "executionInfo": {
     "elapsed": 13,
     "status": "ok",
     "timestamp": 1709041422769,
     "user": {
      "displayName": "伊藤淳二",
      "userId": "06108280857351659017"
     },
     "user_tz": -540
    },
    "id": "gHGJEFEKLeFp",
    "outputId": "e65c2d89-8687-4b33-eb3e-9d2eab42e58d"
   },
   "outputs": [],
   "source": [
    "data = pd.read_excel('data/1-2-2020.xlsx', skiprows=4, header=None)\n",
    "data.head()"
   ]
  },
  {
   "cell_type": "code",
   "execution_count": null,
   "metadata": {
    "colab": {
     "base_uri": "https://localhost:8080/",
     "height": 235
    },
    "executionInfo": {
     "elapsed": 12,
     "status": "ok",
     "timestamp": 1709041422769,
     "user": {
      "displayName": "伊藤淳二",
      "userId": "06108280857351659017"
     },
     "user_tz": -540
    },
    "id": "iv1My9AodOij",
    "outputId": "8248896f-6ad4-4da9-fcfe-d3d0979d45a0"
   },
   "outputs": [],
   "source": [
    "data.drop(data.tail(4).index, inplace=True)\n",
    "data.tail()"
   ]
  },
  {
   "cell_type": "markdown",
   "metadata": {
    "id": "yecwJpz1PWrQ"
   },
   "source": [
    "## ノック２２：カラムを抽出して付与してみよう"
   ]
  },
  {
   "cell_type": "code",
   "execution_count": null,
   "metadata": {
    "colab": {
     "base_uri": "https://localhost:8080/",
     "height": 173
    },
    "executionInfo": {
     "elapsed": 11,
     "status": "ok",
     "timestamp": 1709041422770,
     "user": {
      "displayName": "伊藤淳二",
      "userId": "06108280857351659017"
     },
     "user_tz": -540
    },
    "id": "THcQDVOGPdSB",
    "outputId": "2dc03aae-bee2-44c0-c855-d9c4d16036ea"
   },
   "outputs": [],
   "source": [
    "col_data = pd.read_excel('data/1-2-2020.xlsx', skiprows=1, header=None)\n",
    "col_data = col_data.head(3)\n",
    "col_data"
   ]
  },
  {
   "cell_type": "code",
   "execution_count": null,
   "metadata": {
    "colab": {
     "base_uri": "https://localhost:8080/",
     "height": 173
    },
    "executionInfo": {
     "elapsed": 356,
     "status": "ok",
     "timestamp": 1709041423116,
     "user": {
      "displayName": "伊藤淳二",
      "userId": "06108280857351659017"
     },
     "user_tz": -540
    },
    "id": "uMue7nySZqdn",
    "outputId": "9d0ac9dc-ddb8-4fe6-ae8b-c70f30342fa1"
   },
   "outputs": [],
   "source": [
    "col_data.iloc[1,1:].fillna(col_data.iloc[0,1:], inplace=True)\n",
    "col_data.iloc[1, 1:] = col_data.iloc[1, 1:].str.replace('発電所','')\n",
    "col_data"
   ]
  },
  {
   "cell_type": "code",
   "execution_count": null,
   "metadata": {
    "colab": {
     "base_uri": "https://localhost:8080/",
     "height": 207
    },
    "executionInfo": {
     "elapsed": 9,
     "status": "ok",
     "timestamp": 1709041423116,
     "user": {
      "displayName": "伊藤淳二",
      "userId": "06108280857351659017"
     },
     "user_tz": -540
    },
    "id": "di0ApF0yDwqQ",
    "outputId": "542695cf-2d0d-4485-9a88-e8a91ae39873"
   },
   "outputs": [],
   "source": [
    "for i in col_data.columns:\n",
    "  if i < col_data.columns.max():\n",
    "    col_data[i + 1].fillna(col_data[i], inplace=True)\n",
    "col_data"
   ]
  },
  {
   "cell_type": "code",
   "execution_count": null,
   "metadata": {
    "colab": {
     "base_uri": "https://localhost:8080/",
     "height": 207
    },
    "executionInfo": {
     "elapsed": 6,
     "status": "ok",
     "timestamp": 1709041423425,
     "user": {
      "displayName": "伊藤淳二",
      "userId": "06108280857351659017"
     },
     "user_tz": -540
    },
    "id": "rQDHwPC5lQ6Z",
    "outputId": "4a6af6ee-416f-4899-8415-d2a0e40de116"
   },
   "outputs": [],
   "source": [
    "col_data.replace('〔バイオマス〕','バイオマス', inplace=True)\n",
    "col_data.replace('〔廃棄物〕','廃棄物', inplace=True)\n",
    "col_data"
   ]
  },
  {
   "cell_type": "code",
   "execution_count": null,
   "metadata": {
    "colab": {
     "base_uri": "https://localhost:8080/"
    },
    "executionInfo": {
     "elapsed": 3,
     "status": "ok",
     "timestamp": 1709041423719,
     "user": {
      "displayName": "伊藤淳二",
      "userId": "06108280857351659017"
     },
     "user_tz": -540
    },
    "id": "F1yx5qGOQiFg",
    "outputId": "c2185601-3496-40dd-f434-122bc708af71"
   },
   "outputs": [],
   "source": [
    "tg_col = '_'.join(list(col_data[0].dropna()))\n",
    "print(tg_col)\n",
    "tg_col = '_'.join(list(col_data[1].dropna()))\n",
    "print(tg_col)"
   ]
  },
  {
   "cell_type": "code",
   "execution_count": null,
   "metadata": {
    "colab": {
     "base_uri": "https://localhost:8080/"
    },
    "executionInfo": {
     "elapsed": 500,
     "status": "ok",
     "timestamp": 1709041424543,
     "user": {
      "displayName": "伊藤淳二",
      "userId": "06108280857351659017"
     },
     "user_tz": -540
    },
    "id": "F8qlsfRQgqaJ",
    "outputId": "f8c732aa-f780-4c5f-b436-298891e89bad"
   },
   "outputs": [],
   "source": [
    "cols = []\n",
    "for i in col_data.columns:\n",
    "  tg_col = '_'.join(list(col_data[i].dropna()))\n",
    "  cols.append(tg_col)\n",
    "cols"
   ]
  },
  {
   "cell_type": "code",
   "execution_count": null,
   "metadata": {
    "colab": {
     "base_uri": "https://localhost:8080/",
     "height": 478
    },
    "executionInfo": {
     "elapsed": 4,
     "status": "ok",
     "timestamp": 1709041424543,
     "user": {
      "displayName": "伊藤淳二",
      "userId": "06108280857351659017"
     },
     "user_tz": -540
    },
    "id": "J5sLsLOePeXL",
    "outputId": "d9ad5fc7-815f-405f-ff3f-56b724e66834"
   },
   "outputs": [],
   "source": [
    "data.columns = cols\n",
    "data.head()"
   ]
  },
  {
   "cell_type": "markdown",
   "metadata": {
    "id": "5Y7f3a3BM-pm"
   },
   "source": [
    "## ノック２３：全シートのデータを読み込んでみよう"
   ]
  },
  {
   "cell_type": "code",
   "execution_count": null,
   "metadata": {
    "colab": {
     "base_uri": "https://localhost:8080/"
    },
    "executionInfo": {
     "elapsed": 3,
     "status": "ok",
     "timestamp": 1709041424986,
     "user": {
      "displayName": "伊藤淳二",
      "userId": "06108280857351659017"
     },
     "user_tz": -540
    },
    "id": "VCTM8h17MxzR",
    "outputId": "edfce304-4133-4121-87a8-667002933aeb"
   },
   "outputs": [],
   "source": [
    "xl = pd.ExcelFile('data/1-2-2020.xlsx')\n",
    "sheets = xl.sheet_names\n",
    "sheets"
   ]
  },
  {
   "cell_type": "code",
   "execution_count": null,
   "metadata": {
    "colab": {
     "base_uri": "https://localhost:8080/",
     "height": 478
    },
    "executionInfo": {
     "elapsed": 6,
     "status": "ok",
     "timestamp": 1709041425378,
     "user": {
      "displayName": "伊藤淳二",
      "userId": "06108280857351659017"
     },
     "user_tz": -540
    },
    "id": "iB9Vamgn1XW0",
    "outputId": "f5ccbc3e-1b8a-489b-8af7-4d0f1e4fe49b"
   },
   "outputs": [],
   "source": [
    " data = xl.parse(sheets[0],  skiprows=4, header=None)\n",
    " data.drop(data.tail(4).index, inplace=True)\n",
    " data.columns = cols\n",
    " data.head()"
   ]
  },
  {
   "cell_type": "code",
   "execution_count": null,
   "metadata": {
    "colab": {
     "base_uri": "https://localhost:8080/"
    },
    "executionInfo": {
     "elapsed": 688,
     "status": "ok",
     "timestamp": 1709041426063,
     "user": {
      "displayName": "伊藤淳二",
      "userId": "06108280857351659017"
     },
     "user_tz": -540
    },
    "id": "oH7M8ZOgNMaa",
    "outputId": "7fe4469d-c4eb-42ce-ce53-cf98c1c506c8"
   },
   "outputs": [],
   "source": [
    "datas = []\n",
    "for sheet in sheets:\n",
    "  data = xl.parse(sheet,  skiprows=4, header=None)\n",
    "  data.drop(data.tail(4).index, inplace=True)\n",
    "  data.columns = cols\n",
    "  data['年月'] = sheet\n",
    "  datas.append(data)\n",
    "datas"
   ]
  },
  {
   "cell_type": "code",
   "execution_count": null,
   "metadata": {
    "colab": {
     "base_uri": "https://localhost:8080/",
     "height": 478
    },
    "executionInfo": {
     "elapsed": 5,
     "status": "ok",
     "timestamp": 1709041426063,
     "user": {
      "displayName": "伊藤淳二",
      "userId": "06108280857351659017"
     },
     "user_tz": -540
    },
    "id": "ijL7ratGNyET",
    "outputId": "4bd66900-cb4f-48f1-f99a-3a8a48e7f162"
   },
   "outputs": [],
   "source": [
    "datas = pd.concat(datas, ignore_index=True)\n",
    "datas.head()"
   ]
  },
  {
   "cell_type": "markdown",
   "metadata": {
    "id": "ZyRFGF40OOcQ"
   },
   "source": [
    "## ノック２４：データの値を計算で修正しよう"
   ]
  },
  {
   "cell_type": "code",
   "execution_count": null,
   "metadata": {
    "colab": {
     "base_uri": "https://localhost:8080/",
     "height": 478
    },
    "executionInfo": {
     "elapsed": 390,
     "status": "ok",
     "timestamp": 1709041426760,
     "user": {
      "displayName": "伊藤淳二",
      "userId": "06108280857351659017"
     },
     "user_tz": -540
    },
    "id": "UdZHRrMgP5XX",
    "outputId": "91b53210-2f78-470f-9038-404a15c449ab"
   },
   "outputs": [],
   "source": [
    "datas['火力発電所_火力_発電所数'] = datas['火力発電所_火力_発電所数'] - datas['新エネルギー等発電所_バイオマス_発電所数'] - datas['新エネルギー等発電所_廃棄物_発電所数']\n",
    "datas['火力発電所_火力_最大出力計'] = datas['火力発電所_火力_最大出力計'] - datas['新エネルギー等発電所_バイオマス_最大出力計'] - datas['新エネルギー等発電所_廃棄物_最大出力計']\n",
    "datas.head()"
   ]
  },
  {
   "cell_type": "markdown",
   "metadata": {
    "id": "0jEeKThlZLtm"
   },
   "source": [
    "## ノック２５：必要なカラムだけに絞り込もう"
   ]
  },
  {
   "cell_type": "code",
   "execution_count": null,
   "metadata": {
    "colab": {
     "base_uri": "https://localhost:8080/",
     "height": 449
    },
    "executionInfo": {
     "elapsed": 4,
     "status": "ok",
     "timestamp": 1709041427110,
     "user": {
      "displayName": "伊藤淳二",
      "userId": "06108280857351659017"
     },
     "user_tz": -540
    },
    "id": "HZvd0fyNPcOU",
    "outputId": "ffda7ccb-dc1e-47df-beaa-4da863502a07"
   },
   "outputs": [],
   "source": [
    "datas.drop(['合計_合計_発電所数', '合計_合計_最大出力計', '新エネルギー等発電所_計_発電所数', '新エネルギー等発電所_計_最大出力計'], axis=1, inplace=True)\n",
    "datas.head()"
   ]
  },
  {
   "cell_type": "markdown",
   "metadata": {
    "id": "o6adBiSzOR7g"
   },
   "source": [
    "## ノック２６：縦持ちデータを作成しよう"
   ]
  },
  {
   "cell_type": "code",
   "execution_count": null,
   "metadata": {
    "colab": {
     "base_uri": "https://localhost:8080/",
     "height": 206
    },
    "executionInfo": {
     "elapsed": 5,
     "status": "ok",
     "timestamp": 1709041427391,
     "user": {
      "displayName": "伊藤淳二",
      "userId": "06108280857351659017"
     },
     "user_tz": -540
    },
    "id": "zyxfgbGzOYYI",
    "outputId": "6ed784f2-9ed6-4dca-9f55-ba71c6f580fb"
   },
   "outputs": [],
   "source": [
    "datas_v = pd.melt(datas, id_vars=['都道府県','年月'], var_name=\"変数名\",value_name=\"値\")\n",
    "datas_v.head()"
   ]
  },
  {
   "cell_type": "markdown",
   "metadata": {
    "id": "NVyaNn-0hlbU"
   },
   "source": [
    "## ノック２７：縦持ちデータを整形しよう"
   ]
  },
  {
   "cell_type": "code",
   "execution_count": null,
   "metadata": {
    "colab": {
     "base_uri": "https://localhost:8080/",
     "height": 206
    },
    "executionInfo": {
     "elapsed": 9,
     "status": "ok",
     "timestamp": 1709041428199,
     "user": {
      "displayName": "伊藤淳二",
      "userId": "06108280857351659017"
     },
     "user_tz": -540
    },
    "id": "DbAUJVBRGnCp",
    "outputId": "a21713ec-5c0b-4d72-800a-2e3841928010"
   },
   "outputs": [],
   "source": [
    "var_data = datas_v['変数名'].str.split('_', expand=True)\n",
    "var_data.head()"
   ]
  },
  {
   "cell_type": "code",
   "execution_count": null,
   "metadata": {
    "colab": {
     "base_uri": "https://localhost:8080/",
     "height": 206
    },
    "executionInfo": {
     "elapsed": 6,
     "status": "ok",
     "timestamp": 1709041428199,
     "user": {
      "displayName": "伊藤淳二",
      "userId": "06108280857351659017"
     },
     "user_tz": -540
    },
    "id": "vydgfV3BjSmU",
    "outputId": "a50f1107-65fe-4025-9c57-e860aaa5ad2b"
   },
   "outputs": [],
   "source": [
    "var_data.columns = ['発電所種別', '発電種別', '項目']\n",
    "datas_v = pd.concat([datas_v, var_data], axis=1)\n",
    "datas_v.drop(['変数名'], axis=1, inplace=True)\n",
    "datas_v.head()"
   ]
  },
  {
   "cell_type": "markdown",
   "metadata": {
    "id": "E2oXAG24OR-b"
   },
   "source": [
    "## ノック２８：発電実績データを加工しよう"
   ]
  },
  {
   "cell_type": "code",
   "execution_count": null,
   "metadata": {
    "colab": {
     "base_uri": "https://localhost:8080/",
     "height": 430
    },
    "executionInfo": {
     "elapsed": 2866,
     "status": "ok",
     "timestamp": 1709041431660,
     "user": {
      "displayName": "伊藤淳二",
      "userId": "06108280857351659017"
     },
     "user_tz": -540
    },
    "id": "8DrJDmv4TsYR",
    "outputId": "03424b6d-06d1-4817-f996-096344eac18b"
   },
   "outputs": [],
   "source": [
    "capacity_data = pd.read_excel('data/2-2-2020.xlsx')\n",
    "display(capacity_data.head())\n",
    "display(capacity_data.tail())"
   ]
  },
  {
   "cell_type": "code",
   "execution_count": null,
   "metadata": {
    "colab": {
     "base_uri": "https://localhost:8080/"
    },
    "executionInfo": {
     "elapsed": 2358,
     "status": "ok",
     "timestamp": 1709041434016,
     "user": {
      "displayName": "伊藤淳二",
      "userId": "06108280857351659017"
     },
     "user_tz": -540
    },
    "id": "zm06ByWJdhhC",
    "outputId": "4ab8732c-cdce-48ee-f9d5-4290662b86b3"
   },
   "outputs": [],
   "source": [
    "col_ca_data = pd.read_excel('data/2-2-2020.xlsx', skiprows=1, header=None)\n",
    "col_ca_data = col_ca_data.head(3)\n",
    "\n",
    "col_ca_data.iloc[1,1:].fillna(col_ca_data.iloc[0,1:], inplace=True)\n",
    "col_ca_data.iloc[1, 1:] = col_ca_data.iloc[1, 1:].str.replace('発電所','')\n",
    "\n",
    "for i in col_ca_data.columns:\n",
    "  if i < col_ca_data.columns.max():\n",
    "    col_ca_data[i + 1].fillna(col_ca_data[i], inplace=True)\n",
    "col_ca_data.replace('〔バイオマス〕','バイオマス', inplace=True)\n",
    "col_ca_data.replace('〔廃棄物〕','廃棄物', inplace=True)\n",
    "\n",
    "cols_ca = []\n",
    "for i in col_ca_data.columns:\n",
    "  tg_col = '_'.join(list(col_ca_data[i].dropna()))\n",
    "  cols_ca.append(tg_col)\n",
    "cols_ca"
   ]
  },
  {
   "cell_type": "code",
   "execution_count": null,
   "metadata": {
    "colab": {
     "base_uri": "https://localhost:8080/",
     "height": 223
    },
    "executionInfo": {
     "elapsed": 4739,
     "status": "ok",
     "timestamp": 1709041438752,
     "user": {
      "displayName": "伊藤淳二",
      "userId": "06108280857351659017"
     },
     "user_tz": -540
    },
    "id": "Ra2s-vIhT_S_",
    "outputId": "0a8b96f3-f1b8-45a5-b9ac-2933c7671cdf"
   },
   "outputs": [],
   "source": [
    "xl_ca = pd.ExcelFile('data/2-2-2020.xlsx')\n",
    "sheets = xl_ca.sheet_names\n",
    "ca_datas = []\n",
    "for sheet in sheets:\n",
    "  capacity_data = xl_ca.parse(sheet,  skiprows=4, header=None)\n",
    "  capacity_data = capacity_data.head(47)\n",
    "  capacity_data.columns = cols_ca\n",
    "  capacity_data['年月'] = sheet\n",
    "  ca_datas.append(capacity_data)\n",
    "ca_datas = pd.concat(ca_datas, ignore_index=True)\n",
    "ca_datas.head()"
   ]
  },
  {
   "cell_type": "code",
   "execution_count": null,
   "metadata": {
    "colab": {
     "base_uri": "https://localhost:8080/",
     "height": 206
    },
    "executionInfo": {
     "elapsed": 14,
     "status": "ok",
     "timestamp": 1709041438752,
     "user": {
      "displayName": "伊藤淳二",
      "userId": "06108280857351659017"
     },
     "user_tz": -540
    },
    "id": "DAWbCIMdfUlM",
    "outputId": "4b099c9b-c978-452b-86e8-ecb98d410554"
   },
   "outputs": [],
   "source": [
    "ca_datas['火力発電所_火力_電力量'] = ca_datas['火力発電所_火力_電力量'] - ca_datas['新エネルギー等発電所_バイオマス_電力量'] - ca_datas['新エネルギー等発電所_廃棄物_電力量']\n",
    "ca_datas.drop(['合計_合計_電力量','新エネルギー等発電所_計_電力量'], axis=1, inplace=True)\n",
    "ca_datas_v = pd.melt(ca_datas, id_vars=['都道府県','年月'], var_name=\"変数名\",value_name=\"値\")\n",
    "var_data = ca_datas_v['変数名'].str.split('_', expand=True)\n",
    "var_data.columns = ['発電所種別', '発電種別', '項目']\n",
    "ca_datas_v = pd.concat([ca_datas_v, var_data], axis=1)\n",
    "ca_datas_v.drop(['変数名'], axis=1, inplace=True)\n",
    "ca_datas_v.head()"
   ]
  },
  {
   "cell_type": "markdown",
   "metadata": {
    "id": "S2WuVT7XOYu2"
   },
   "source": [
    "## ノック２９：可視化用データを仕上げよう"
   ]
  },
  {
   "cell_type": "code",
   "execution_count": null,
   "metadata": {
    "colab": {
     "base_uri": "https://localhost:8080/",
     "height": 395
    },
    "executionInfo": {
     "elapsed": 12,
     "status": "ok",
     "timestamp": 1709041438752,
     "user": {
      "displayName": "伊藤淳二",
      "userId": "06108280857351659017"
     },
     "user_tz": -540
    },
    "id": "WbyUp5uFUpjU",
    "outputId": "5d4043aa-6ed5-4bbb-dac1-546919a76155"
   },
   "outputs": [],
   "source": [
    "datas_v_all = pd.concat([datas_v, ca_datas_v], ignore_index=True)\n",
    "display(datas_v_all.head())\n",
    "display(datas_v_all.tail())"
   ]
  },
  {
   "cell_type": "code",
   "execution_count": null,
   "metadata": {
    "colab": {
     "base_uri": "https://localhost:8080/",
     "height": 237
    },
    "executionInfo": {
     "elapsed": 11,
     "status": "ok",
     "timestamp": 1709041438752,
     "user": {
      "displayName": "伊藤淳二",
      "userId": "06108280857351659017"
     },
     "user_tz": -540
    },
    "id": "G0ufjFytwIef",
    "outputId": "fb876cdf-2385-414e-dfcc-ff25f0c9d0ca"
   },
   "outputs": [],
   "source": [
    "pd.pivot_table(datas_v_all.loc[datas_v_all['年月']=='2020.4'], index='発電所種別', columns='項目', values='値', aggfunc='sum')"
   ]
  },
  {
   "cell_type": "markdown",
   "metadata": {
    "id": "7_KVwH_zd-3F"
   },
   "source": [
    "## ノック３０：データ分布をヒストグラムで可視化してみよう\n",
    "\n"
   ]
  },
  {
   "cell_type": "code",
   "execution_count": null,
   "metadata": {
    "colab": {
     "base_uri": "https://localhost:8080/"
    },
    "executionInfo": {
     "elapsed": 10692,
     "status": "ok",
     "timestamp": 1709041449434,
     "user": {
      "displayName": "伊藤淳二",
      "userId": "06108280857351659017"
     },
     "user_tz": -540
    },
    "id": "VSfIpub5nzJf",
    "outputId": "02db6b8a-9684-406d-924a-43b138a5b3ba"
   },
   "outputs": [],
   "source": [
    "%%shell\n",
    "pip install japanize-matplotlib"
   ]
  },
  {
   "cell_type": "code",
   "execution_count": null,
   "metadata": {
    "colab": {
     "base_uri": "https://localhost:8080/",
     "height": 848
    },
    "executionInfo": {
     "elapsed": 2365,
     "status": "ok",
     "timestamp": 1709041451795,
     "user": {
      "displayName": "伊藤淳二",
      "userId": "06108280857351659017"
     },
     "user_tz": -540
    },
    "id": "7qoVoxQSeDFJ",
    "outputId": "07673dce-3211-4ecb-d34b-8aa0389a09ff"
   },
   "outputs": [],
   "source": [
    "import matplotlib.pyplot as plt\n",
    "import japanize_matplotlib\n",
    "import seaborn as sns\n",
    "\n",
    "plt.figure(figsize=(20, 10))\n",
    "sns.histplot(datas_v_all.loc[datas_v_all['項目']=='発電所数'])"
   ]
  },
  {
   "cell_type": "code",
   "execution_count": null,
   "metadata": {
    "colab": {
     "base_uri": "https://localhost:8080/",
     "height": 728
    },
    "executionInfo": {
     "elapsed": 3301,
     "status": "ok",
     "timestamp": 1709041455091,
     "user": {
      "displayName": "伊藤淳二",
      "userId": "06108280857351659017"
     },
     "user_tz": -540
    },
    "id": "sHq_srOmejak",
    "outputId": "23c2df69-854b-4468-99f5-efad9ef2cda8"
   },
   "outputs": [],
   "source": [
    "fig, axes = plt.subplots(1, 3, figsize=(30, 10))\n",
    "viz_data = datas_v_all.loc[datas_v_all['値']!=0]\n",
    "sns.histplot(viz_data.loc[viz_data['項目']=='発電所数'], ax=axes[0])\n",
    "sns.histplot(viz_data.loc[viz_data['項目']=='最大出力計'], ax=axes[1])\n",
    "sns.histplot(viz_data.loc[viz_data['項目']=='電力量'], ax=axes[2])"
   ]
  },
  {
   "cell_type": "markdown",
   "metadata": {
    "id": "r1bUXWhtjor3"
   },
   "source": [
    "## ノック３１：データ分布を箱ひげ図で可視化してみよう"
   ]
  },
  {
   "cell_type": "code",
   "execution_count": null,
   "metadata": {
    "colab": {
     "base_uri": "https://localhost:8080/",
     "height": 829
    },
    "executionInfo": {
     "elapsed": 487,
     "status": "ok",
     "timestamp": 1709041455572,
     "user": {
      "displayName": "伊藤淳二",
      "userId": "06108280857351659017"
     },
     "user_tz": -540
    },
    "id": "RWkfpRdUjvuj",
    "outputId": "a509c449-b20e-4b79-ee5c-78718d84e1c2"
   },
   "outputs": [],
   "source": [
    "plt.figure(figsize=(10, 10))\n",
    "viz_data = datas_v_all.loc[(datas_v_all['項目']=='発電所数')&(datas_v_all['値']!=0)]\n",
    "sns.boxplot(y=viz_data['値'])"
   ]
  },
  {
   "cell_type": "code",
   "execution_count": null,
   "metadata": {
    "colab": {
     "base_uri": "https://localhost:8080/",
     "height": 732
    },
    "executionInfo": {
     "elapsed": 455,
     "status": "ok",
     "timestamp": 1709041456003,
     "user": {
      "displayName": "伊藤淳二",
      "userId": "06108280857351659017"
     },
     "user_tz": -540
    },
    "id": "EfoEWZVujzpf",
    "outputId": "b725f67d-cd93-4a37-ca7b-563e07d62e59"
   },
   "outputs": [],
   "source": [
    "plt.figure(figsize=(30, 10))\n",
    "sns.boxplot(x=viz_data['発電種別'], y=viz_data['値'])"
   ]
  },
  {
   "cell_type": "markdown",
   "metadata": {
    "id": "-vJmFN0VOZJm"
   },
   "source": [
    "## ノック３２：最近の発電量を可視化してみよう"
   ]
  },
  {
   "cell_type": "code",
   "execution_count": null,
   "metadata": {
    "colab": {
     "base_uri": "https://localhost:8080/",
     "height": 331
    },
    "executionInfo": {
     "elapsed": 15,
     "status": "ok",
     "timestamp": 1709041456003,
     "user": {
      "displayName": "伊藤淳二",
      "userId": "06108280857351659017"
     },
     "user_tz": -540
    },
    "id": "tJmZgoydXLLa",
    "outputId": "86bfb48d-c859-48ec-9a5d-ab4cf2cf25aa"
   },
   "outputs": [],
   "source": [
    "viz_data = datas_v_all[['発電種別','値']].loc[(datas_v_all['項目']=='電力量')&(datas_v_all['年月']=='2021.1')]\n",
    "viz_data = viz_data.groupby('発電種別', as_index=False).sum()\n",
    "viz_data"
   ]
  },
  {
   "cell_type": "code",
   "execution_count": null,
   "metadata": {
    "colab": {
     "base_uri": "https://localhost:8080/",
     "height": 480
    },
    "executionInfo": {
     "elapsed": 360,
     "status": "ok",
     "timestamp": 1709041456350,
     "user": {
      "displayName": "伊藤淳二",
      "userId": "06108280857351659017"
     },
     "user_tz": -540
    },
    "id": "oxKorgHD7uI6",
    "outputId": "ba89aaf7-3a1b-4085-f86e-8214edfb4e54"
   },
   "outputs": [],
   "source": [
    "sns.barplot(x=viz_data['発電種別'], y=viz_data['値'])"
   ]
  },
  {
   "cell_type": "markdown",
   "metadata": {
    "id": "i-Dt0whCOj7A"
   },
   "source": [
    "## ノック３３：先月の発電量とあわせて可視化してみよう"
   ]
  },
  {
   "cell_type": "code",
   "execution_count": null,
   "metadata": {
    "colab": {
     "base_uri": "https://localhost:8080/",
     "height": 206
    },
    "executionInfo": {
     "elapsed": 6,
     "status": "ok",
     "timestamp": 1709041456350,
     "user": {
      "displayName": "伊藤淳二",
      "userId": "06108280857351659017"
     },
     "user_tz": -540
    },
    "id": "uFn_1J0gfiNV",
    "outputId": "6b41844f-238c-4a9c-ee87-2a52aa260ca9"
   },
   "outputs": [],
   "source": [
    "viz_data = datas_v_all[['発電種別','年月','値']].loc[(datas_v_all['項目']=='電力量')]\n",
    "viz_data = viz_data.groupby(['発電種別','年月'],as_index=False).sum()\n",
    "viz_data.head()"
   ]
  },
  {
   "cell_type": "code",
   "execution_count": null,
   "metadata": {
    "colab": {
     "base_uri": "https://localhost:8080/",
     "height": 480
    },
    "executionInfo": {
     "elapsed": 703,
     "status": "ok",
     "timestamp": 1709041457048,
     "user": {
      "displayName": "伊藤淳二",
      "userId": "06108280857351659017"
     },
     "user_tz": -540
    },
    "id": "fOQe0MC-uT8f",
    "outputId": "119c5a70-6bc0-41e8-accf-9997098c5388"
   },
   "outputs": [],
   "source": [
    "viz_data = viz_data.loc[(viz_data['年月']=='2020.12')|(viz_data['年月']=='2021.1')]\n",
    "sns.barplot(x=viz_data['発電種別'], y=viz_data['値'], hue=viz_data['年月'])"
   ]
  },
  {
   "cell_type": "markdown",
   "metadata": {
    "id": "qtf_A6D6OkhD"
   },
   "source": [
    "## ノック３４：電力の時系列変化を可視化してみよう"
   ]
  },
  {
   "cell_type": "code",
   "execution_count": null,
   "metadata": {
    "colab": {
     "base_uri": "https://localhost:8080/",
     "height": 495
    },
    "executionInfo": {
     "elapsed": 1171,
     "status": "ok",
     "timestamp": 1709041458211,
     "user": {
      "displayName": "伊藤淳二",
      "userId": "06108280857351659017"
     },
     "user_tz": -540
    },
    "id": "Nt6tS0wiArXd",
    "outputId": "34c1bb33-fc39-401f-95ca-afd26d95ed5c"
   },
   "outputs": [],
   "source": [
    "plt.figure(figsize=(15, 5))\n",
    "viz_data = datas_v_all[['発電種別','年月','値']].loc[(datas_v_all['項目']=='電力量')]\n",
    "viz_data = viz_data.groupby('年月',as_index=False).sum()\n",
    "viz_data['年月'] = pd.to_datetime(viz_data['年月'])\n",
    "sns.lineplot(x=viz_data['年月'], y=viz_data[\"値\"])"
   ]
  },
  {
   "cell_type": "code",
   "execution_count": null,
   "metadata": {
    "colab": {
     "base_uri": "https://localhost:8080/",
     "height": 495
    },
    "executionInfo": {
     "elapsed": 1666,
     "status": "ok",
     "timestamp": 1709041459874,
     "user": {
      "displayName": "伊藤淳二",
      "userId": "06108280857351659017"
     },
     "user_tz": -540
    },
    "id": "8c3nTri5-dHr",
    "outputId": "0a0bcfc9-7bf9-4a24-f4d3-c6946c0ac996"
   },
   "outputs": [],
   "source": [
    "plt.figure(figsize=(15, 5))\n",
    "viz_data = datas_v_all[['発電種別','年月','値']].loc[(datas_v_all['項目']=='電力量')]\n",
    "viz_data = viz_data.groupby(['発電種別','年月'],as_index=False).sum()\n",
    "viz_data['年月'] = pd.to_datetime(viz_data['年月'])\n",
    "sns.lineplot(x=viz_data['年月'], y=viz_data[\"値\"], hue=viz_data['発電種別'])"
   ]
  },
  {
   "cell_type": "markdown",
   "metadata": {
    "id": "yvCkdZqoBeC8"
   },
   "source": [
    "## ノック３５：電力の割合を可視化してみよう"
   ]
  },
  {
   "cell_type": "code",
   "execution_count": null,
   "metadata": {
    "colab": {
     "base_uri": "https://localhost:8080/",
     "height": 363
    },
    "executionInfo": {
     "elapsed": 16,
     "status": "ok",
     "timestamp": 1709041459874,
     "user": {
      "displayName": "伊藤淳二",
      "userId": "06108280857351659017"
     },
     "user_tz": -540
    },
    "id": "_vo9BdxxB4Zu",
    "outputId": "3fa7c1dc-c55b-4105-ff4e-be4f148e38be"
   },
   "outputs": [],
   "source": [
    "viz_data = datas_v_all.loc[(datas_v_all['項目']=='電力量')&(datas_v_all['年月']=='2021.1')]\n",
    "viz_data = viz_data[['発電種別','値']].groupby('発電種別').sum()\n",
    "viz_data['割合'] = viz_data['値'] / viz_data['値'].sum()\n",
    "viz_data"
   ]
  },
  {
   "cell_type": "code",
   "execution_count": null,
   "metadata": {
    "colab": {
     "base_uri": "https://localhost:8080/",
     "height": 462
    },
    "executionInfo": {
     "elapsed": 814,
     "status": "ok",
     "timestamp": 1709041460678,
     "user": {
      "displayName": "伊藤淳二",
      "userId": "06108280857351659017"
     },
     "user_tz": -540
    },
    "id": "05yXXXaiKc3c",
    "outputId": "d1518eca-22cf-463b-97b5-6c80d9f9b6e1"
   },
   "outputs": [],
   "source": [
    "viz_data.T.loc[['割合']].plot(kind='bar', stacked=True)"
   ]
  },
  {
   "cell_type": "markdown",
   "metadata": {
    "id": "l01lX6FL-VGm"
   },
   "source": [
    "## ノック３６：電力量の多い都道府県を比較してみよう"
   ]
  },
  {
   "cell_type": "code",
   "execution_count": null,
   "metadata": {
    "colab": {
     "base_uri": "https://localhost:8080/",
     "height": 206
    },
    "executionInfo": {
     "elapsed": 7,
     "status": "ok",
     "timestamp": 1709041460678,
     "user": {
      "displayName": "伊藤淳二",
      "userId": "06108280857351659017"
     },
     "user_tz": -540
    },
    "id": "TWyjOKoVhS_1",
    "outputId": "05e90d70-5650-41a4-a179-20cd92bf8fb5"
   },
   "outputs": [],
   "source": [
    "viz_data = datas_v_all.loc[datas_v_all['項目']=='電力量']\n",
    "viz_data = viz_data[['都道府県','値']].groupby('都道府県', as_index=False).sum()\n",
    "viz_data.sort_values('値', inplace=True, ascending=False)\n",
    "viz_data.head(5)"
   ]
  },
  {
   "cell_type": "code",
   "execution_count": null,
   "metadata": {
    "colab": {
     "base_uri": "https://localhost:8080/",
     "height": 495
    },
    "executionInfo": {
     "elapsed": 1966,
     "status": "ok",
     "timestamp": 1709041462640,
     "user": {
      "displayName": "伊藤淳二",
      "userId": "06108280857351659017"
     },
     "user_tz": -540
    },
    "id": "kA8OiJxPP5YA",
    "outputId": "ba43002c-11a8-41f2-f743-62512920701b"
   },
   "outputs": [],
   "source": [
    "plt.figure(figsize=(15, 5))\n",
    "viz_data = datas_v_all[['都道府県','年月','値']].loc[(datas_v_all['項目']=='電力量')&((datas_v_all['都道府県']=='神奈川県')|(datas_v_all['都道府県']=='千葉県'))]\n",
    "viz_data = viz_data.groupby(['年月', '都道府県'],as_index=False).sum()\n",
    "viz_data['年月'] = pd.to_datetime(viz_data['年月'])\n",
    "sns.lineplot(x=viz_data['年月'], y=viz_data[\"値\"], hue=viz_data['都道府県'])"
   ]
  },
  {
   "cell_type": "code",
   "execution_count": null,
   "metadata": {
    "colab": {
     "base_uri": "https://localhost:8080/",
     "height": 206
    },
    "executionInfo": {
     "elapsed": 542,
     "status": "ok",
     "timestamp": 1709041463178,
     "user": {
      "displayName": "伊藤淳二",
      "userId": "06108280857351659017"
     },
     "user_tz": -540
    },
    "id": "OvLuWNxsUMep",
    "outputId": "888a2b4a-2076-4378-bd99-36241ed488b1"
   },
   "outputs": [],
   "source": [
    "viz_data_num = datas_v_all[['都道府県','年月','値']].loc[(datas_v_all['項目']=='発電所数')&((datas_v_all['都道府県']=='神奈川県')|(datas_v_all['都道府県']=='千葉県'))]\n",
    "viz_data_num = viz_data_num.groupby(['年月', '都道府県'],as_index=False).sum()\n",
    "viz_data_num['年月'] = pd.to_datetime(viz_data_num['年月'])\n",
    "viz_data.rename(columns={'値':'電力量'}, inplace=True)\n",
    "viz_data_num.rename(columns={'値':'発電所数'}, inplace=True)\n",
    "viz_data_join = pd.merge(viz_data, viz_data_num, on=['年月', '都道府県'], how='left')\n",
    "viz_data_join.head()"
   ]
  },
  {
   "cell_type": "code",
   "execution_count": null,
   "metadata": {
    "colab": {
     "base_uri": "https://localhost:8080/",
     "height": 524
    },
    "executionInfo": {
     "elapsed": 1759,
     "status": "ok",
     "timestamp": 1709041464934,
     "user": {
      "displayName": "伊藤淳二",
      "userId": "06108280857351659017"
     },
     "user_tz": -540
    },
    "id": "CTw9l48JUBN0",
    "outputId": "228c3920-1952-480f-ed9d-cbfd38f7bf93"
   },
   "outputs": [],
   "source": [
    "sns.relplot(x=viz_data_join['年月'],  y=viz_data_join['電力量'],\n",
    "            hue=viz_data_join['都道府県'], size=viz_data_join['発電所数'],\n",
    "            alpha=0.5, height=5, aspect=2)"
   ]
  },
  {
   "cell_type": "markdown",
   "metadata": {
    "id": "fl5cE7WVOta3"
   },
   "source": [
    "## ノック３７：都道府県、年月別の電力量を可視化してみよう"
   ]
  },
  {
   "cell_type": "code",
   "execution_count": null,
   "metadata": {
    "colab": {
     "base_uri": "https://localhost:8080/",
     "height": 237
    },
    "executionInfo": {
     "elapsed": 535,
     "status": "ok",
     "timestamp": 1709041465464,
     "user": {
      "displayName": "伊藤淳二",
      "userId": "06108280857351659017"
     },
     "user_tz": -540
    },
    "id": "8P14MdEQYByb",
    "outputId": "0b492c01-23c6-47b6-f0a5-7615884410f1"
   },
   "outputs": [],
   "source": [
    "viz_data = datas_v_all[['都道府県','年月','値']].loc[datas_v_all['項目']=='電力量']\n",
    "viz_data = viz_data.groupby(['年月', '都道府県'],as_index=False).sum()\n",
    "viz_data['年月'] = pd.to_datetime(viz_data['年月']).dt.date\n",
    "\n",
    "viz_data = viz_data.pivot_table(values='値', columns='年月', index='都道府県')\n",
    "viz_data.head(5)"
   ]
  },
  {
   "cell_type": "code",
   "execution_count": null,
   "metadata": {
    "colab": {
     "base_uri": "https://localhost:8080/",
     "height": 947
    },
    "executionInfo": {
     "elapsed": 1319,
     "status": "ok",
     "timestamp": 1709041466774,
     "user": {
      "displayName": "伊藤淳二",
      "userId": "06108280857351659017"
     },
     "user_tz": -540
    },
    "id": "6Z7VgO3jYlOJ",
    "outputId": "b26616ad-4386-412e-d4a1-e69df3f53003"
   },
   "outputs": [],
   "source": [
    "plt.figure(figsize=(10,10))\n",
    "sns.heatmap(viz_data)"
   ]
  },
  {
   "cell_type": "markdown",
   "metadata": {
    "id": "5ShSgInxOtjn"
   },
   "source": [
    "## ノック３８：変数の関係性を可視化してみよう"
   ]
  },
  {
   "cell_type": "code",
   "execution_count": null,
   "metadata": {
    "colab": {
     "base_uri": "https://localhost:8080/",
     "height": 276
    },
    "executionInfo": {
     "elapsed": 7,
     "status": "ok",
     "timestamp": 1709041466774,
     "user": {
      "displayName": "伊藤淳二",
      "userId": "06108280857351659017"
     },
     "user_tz": -540
    },
    "id": "P3W2LvkPfrgW",
    "outputId": "404774f8-b1d3-4880-d5dc-3f62d7a195ba"
   },
   "outputs": [],
   "source": [
    "viz_data = datas.drop(['都道府県','年月'],axis=1)\n",
    "viz_data.head(5)"
   ]
  },
  {
   "cell_type": "code",
   "execution_count": null,
   "metadata": {
    "colab": {
     "base_uri": "https://localhost:8080/",
     "height": 480
    },
    "executionInfo": {
     "elapsed": 607,
     "status": "ok",
     "timestamp": 1709041467376,
     "user": {
      "displayName": "伊藤淳二",
      "userId": "06108280857351659017"
     },
     "user_tz": -540
    },
    "id": "AsL5myy9igxw",
    "outputId": "d026ca02-f097-4a2d-ae43-4b3de5de2414"
   },
   "outputs": [],
   "source": [
    "sns.scatterplot(x=viz_data['水力発電所_水力_発電所数'], y=viz_data['水力発電所_水力_最大出力計'])"
   ]
  },
  {
   "cell_type": "code",
   "execution_count": null,
   "metadata": {
    "colab": {
     "base_uri": "https://localhost:8080/",
     "height": 624
    },
    "executionInfo": {
     "elapsed": 1679,
     "status": "ok",
     "timestamp": 1709041469053,
     "user": {
      "displayName": "伊藤淳二",
      "userId": "06108280857351659017"
     },
     "user_tz": -540
    },
    "id": "_H2InvqNig1Z",
    "outputId": "148fbeeb-53b3-477a-9304-9825576e1031"
   },
   "outputs": [],
   "source": [
    "sns.jointplot(x=viz_data['水力発電所_水力_発電所数'], y=viz_data['水力発電所_水力_最大出力計'])"
   ]
  },
  {
   "cell_type": "code",
   "execution_count": null,
   "metadata": {
    "colab": {
     "base_uri": "https://localhost:8080/",
     "height": 1000
    },
    "executionInfo": {
     "elapsed": 13653,
     "status": "ok",
     "timestamp": 1709041482703,
     "user": {
      "displayName": "伊藤淳二",
      "userId": "06108280857351659017"
     },
     "user_tz": -540
    },
    "id": "5v-1Vf-cnBqO",
    "outputId": "64383162-396d-483d-e0df-d65c5140eaf0"
   },
   "outputs": [],
   "source": [
    "sns.pairplot(viz_data.iloc[:,0:4])"
   ]
  },
  {
   "cell_type": "markdown",
   "metadata": {
    "id": "RfwEJbmjOtsH"
   },
   "source": [
    "## ノック３９：データを整形してExcel形式で出力しよう"
   ]
  },
  {
   "cell_type": "code",
   "execution_count": null,
   "metadata": {
    "colab": {
     "base_uri": "https://localhost:8080/",
     "height": 237
    },
    "executionInfo": {
     "elapsed": 8,
     "status": "ok",
     "timestamp": 1709041482703,
     "user": {
      "displayName": "伊藤淳二",
      "userId": "06108280857351659017"
     },
     "user_tz": -540
    },
    "id": "e6htfpigh_QJ",
    "outputId": "26133622-e162-4673-82d5-722cd752c902"
   },
   "outputs": [],
   "source": [
    "output = datas_v_all.pivot_table(values='値', columns='項目', index=['年月','都道府県'], aggfunc='sum')\n",
    "output.head()"
   ]
  },
  {
   "cell_type": "code",
   "execution_count": null,
   "metadata": {
    "executionInfo": {
     "elapsed": 411,
     "status": "ok",
     "timestamp": 1709041483108,
     "user": {
      "displayName": "伊藤淳二",
      "userId": "06108280857351659017"
     },
     "user_tz": -540
    },
    "id": "4ouMwRQciiFg"
   },
   "outputs": [],
   "source": [
    "output.to_excel('data/summary_data.xlsx')"
   ]
  },
  {
   "cell_type": "markdown",
   "metadata": {
    "id": "zN4H9_rPOt1I"
   },
   "source": [
    "## ノック４０：シート別にExcelデータを出力しよう"
   ]
  },
  {
   "cell_type": "code",
   "execution_count": null,
   "metadata": {
    "colab": {
     "base_uri": "https://localhost:8080/",
     "height": 298
    },
    "executionInfo": {
     "elapsed": 7,
     "status": "ok",
     "timestamp": 1709041483108,
     "user": {
      "displayName": "伊藤淳二",
      "userId": "06108280857351659017"
     },
     "user_tz": -540
    },
    "id": "WWkoSPz2ll56",
    "outputId": "34bbca7a-a34b-46e0-e82a-a5b9dc09f410"
   },
   "outputs": [],
   "source": [
    "target = '北海道'\n",
    "tmp = datas_v_all.loc[datas_v_all['都道府県']==target]\n",
    "tmp = tmp.pivot_table(values='値', columns=['発電種別','項目'], index=['年月'], aggfunc='sum')\n",
    "tmp.head(5)"
   ]
  },
  {
   "cell_type": "code",
   "execution_count": null,
   "metadata": {
    "executionInfo": {
     "elapsed": 2073,
     "status": "ok",
     "timestamp": 1709041485176,
     "user": {
      "displayName": "伊藤淳二",
      "userId": "06108280857351659017"
     },
     "user_tz": -540
    },
    "id": "YJq7-xSsoPeT"
   },
   "outputs": [],
   "source": [
    "writer = pd.ExcelWriter('data/detail_data.xlsx', mode='w')\n",
    "with writer as w:\n",
    "  for target in datas_v_all['都道府県'].unique():\n",
    "    tmp = datas_v_all.loc[datas_v_all['都道府県']==target]\n",
    "    tmp = tmp.pivot_table(values='値', columns=['発電種別','項目'], index=['年月'], aggfunc='sum')\n",
    "    tmp.to_excel(w, sheet_name=target)"
   ]
  }
 ],
 "metadata": {
  "colab": {
   "provenance": []
  },
  "kernelspec": {
   "display_name": "Python 3.7.4 64-bit ('base': conda)",
   "name": "python374jvsc74a57bd0b3ba2566441a7c06988d0923437866b63cedc61552a5af99d1f4fb67d367b25f"
  },
  "language_info": {
   "codemirror_mode": {
    "name": "ipython",
    "version": 3
   },
   "file_extension": ".py",
   "mimetype": "text/x-python",
   "name": "python",
   "nbconvert_exporter": "python",
   "pygments_lexer": "ipython3",
   "version": "3.7.4"
  }
 },
 "nbformat": 4,
 "nbformat_minor": 0
}
