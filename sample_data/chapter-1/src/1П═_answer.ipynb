{
 "cells": [
  {
   "cell_type": "code",
   "execution_count": null,
   "metadata": {
    "colab": {
     "base_uri": "https://localhost:8080/"
    },
    "id": "HB3mviwv25Jc",
    "outputId": "5cc2eb46-05df-4441-a13a-e10c48a0b347"
   },
   "outputs": [],
   "source": [
    "# 下記セルを実行すると、authorization codeの入力を求められます。\n",
    "# 出力されたリンク先をクリックし、Googleアカウントにログインし、\n",
    "# authorization codeをコピーし、貼り付けをおこなってください。\n",
    "!pip install pandas==1.5.3\n",
    "from google.colab import drive\n",
    "drive.mount('/content/drive')"
   ]
  },
  {
   "cell_type": "code",
   "execution_count": null,
   "metadata": {
    "id": "HcOU_u4l25Jd"
   },
   "outputs": [],
   "source": [
    "import os\n",
    "project = 'sample_data'\n",
    "chapter = 1\n",
    "os.chdir(f'/content/drive/MyDrive/{project}/chapter-{chapter}/')"
   ]
  },
  {
   "cell_type": "markdown",
   "metadata": {
    "id": "pCbOP-x725Jd"
   },
   "source": [
    "# １章 システムデータの加工・可視化を行う２０本ノック"
   ]
  },
  {
   "cell_type": "markdown",
   "metadata": {
    "id": "OrJw1o3ZAf2z"
   },
   "source": [
    "## ノック１：法人情報データを読み込んでみよう"
   ]
  },
  {
   "cell_type": "code",
   "execution_count": null,
   "metadata": {
    "colab": {
     "base_uri": "https://localhost:8080/",
     "height": 227
    },
    "id": "Kxb1fvmCv_4a",
    "outputId": "39075bf5-4a84-41bd-876e-6f99a71bb955"
   },
   "outputs": [],
   "source": [
    "import pandas as pd\n",
    "data = pd.read_csv('data/22_shizuoka_all_20210331.csv')"
   ]
  },
  {
   "cell_type": "code",
   "execution_count": null,
   "metadata": {
    "id": "Vn9gtsmwv_9u"
   },
   "outputs": [],
   "source": [
    "data = pd.read_csv('data/22_shizuoka_all_20210331.csv', encoding='shift-jis')"
   ]
  },
  {
   "cell_type": "code",
   "execution_count": null,
   "metadata": {
    "colab": {
     "base_uri": "https://localhost:8080/",
     "height": 340
    },
    "id": "QvwXkOiQxWjP",
    "outputId": "05a93e38-bbbb-4d3f-837a-ca4197c338b3"
   },
   "outputs": [],
   "source": [
    "data.head()"
   ]
  },
  {
   "cell_type": "code",
   "execution_count": null,
   "metadata": {
    "colab": {
     "base_uri": "https://localhost:8080/"
    },
    "id": "4_tpsKnw4nr1",
    "outputId": "3f6afda2-dbe0-46a3-a02c-6aaaed1e1cf3"
   },
   "outputs": [],
   "source": [
    "len(data)"
   ]
  },
  {
   "cell_type": "code",
   "execution_count": null,
   "metadata": {
    "id": "XKjiB1s94qf8"
   },
   "outputs": [],
   "source": [
    "data = pd.read_csv('data/22_shizuoka_all_20210331.csv', encoding='shift-jis', header=None)"
   ]
  },
  {
   "cell_type": "code",
   "execution_count": null,
   "metadata": {
    "colab": {
     "base_uri": "https://localhost:8080/",
     "height": 235
    },
    "id": "KPKVCG9U4qmB",
    "outputId": "63c9419d-4f56-409d-a6a3-13885b7b2016"
   },
   "outputs": [],
   "source": [
    "data.head()"
   ]
  },
  {
   "cell_type": "code",
   "execution_count": null,
   "metadata": {
    "colab": {
     "base_uri": "https://localhost:8080/"
    },
    "id": "287m2voK4qi0",
    "outputId": "dfc8fee0-1e12-48f8-b219-7686a06a3263"
   },
   "outputs": [],
   "source": [
    "len(data)"
   ]
  },
  {
   "cell_type": "markdown",
   "metadata": {
    "id": "0FrKeZvUrFKn"
   },
   "source": [
    "## ノック２：読み込んだデータを確認しよう"
   ]
  },
  {
   "cell_type": "code",
   "execution_count": null,
   "metadata": {
    "colab": {
     "base_uri": "https://localhost:8080/"
    },
    "id": "dQeuZrhAROgy",
    "outputId": "3e9d0a5f-efe3-4b6f-d54c-e3d52f3ed2ea"
   },
   "outputs": [],
   "source": [
    "data.columns"
   ]
  },
  {
   "cell_type": "code",
   "execution_count": null,
   "metadata": {
    "colab": {
     "base_uri": "https://localhost:8080/"
    },
    "id": "QkP4J0i5wuUQ",
    "outputId": "9757d5e9-4dd0-43ee-f681-2917ae882328"
   },
   "outputs": [],
   "source": [
    "len(data.columns)"
   ]
  },
  {
   "cell_type": "code",
   "execution_count": null,
   "metadata": {
    "colab": {
     "base_uri": "https://localhost:8080/",
     "height": 597
    },
    "id": "YjsTahEfUOPh",
    "outputId": "4dd0ecaf-85df-4978-c62b-0bf5fc4c845c"
   },
   "outputs": [],
   "source": [
    "data"
   ]
  },
  {
   "cell_type": "code",
   "execution_count": null,
   "metadata": {
    "colab": {
     "base_uri": "https://localhost:8080/"
    },
    "id": "4cFKuOBExPI_",
    "outputId": "5a141001-3564-4eea-dc17-da3169a83c8c"
   },
   "outputs": [],
   "source": [
    "data.dtypes"
   ]
  },
  {
   "cell_type": "code",
   "execution_count": null,
   "metadata": {
    "id": "9Ei4rMoXYsDI"
   },
   "outputs": [],
   "source": [
    "data = pd.read_csv('data/22_shizuoka_all_20210331.csv', encoding='shift-jis', header=None, dtype=object)"
   ]
  },
  {
   "cell_type": "code",
   "execution_count": null,
   "metadata": {
    "colab": {
     "base_uri": "https://localhost:8080/",
     "height": 235
    },
    "id": "Y06igshtZutV",
    "outputId": "440c554d-6ff2-491b-fcfa-f43721a3a7bc"
   },
   "outputs": [],
   "source": [
    "data.head()"
   ]
  },
  {
   "cell_type": "code",
   "execution_count": null,
   "metadata": {
    "colab": {
     "base_uri": "https://localhost:8080/"
    },
    "id": "B5RI6J3OZNR9",
    "outputId": "9225e2f6-015f-436a-9ff5-199eb4afc134"
   },
   "outputs": [],
   "source": [
    "data.dtypes"
   ]
  },
  {
   "cell_type": "markdown",
   "metadata": {
    "id": "M4by1Jywr4G2"
   },
   "source": [
    "## ノック３：ヘッダ用のテキストファイルを読み込もう"
   ]
  },
  {
   "cell_type": "code",
   "execution_count": null,
   "metadata": {
    "colab": {
     "base_uri": "https://localhost:8080/",
     "height": 206
    },
    "id": "7ogDQr2Kya4I",
    "outputId": "532522a0-7b5b-43f4-bad4-cb98e02d082f"
   },
   "outputs": [],
   "source": [
    "mst = pd.read_csv('data/mst_column_name.txt', encoding='shift-jis')\n",
    "mst.head()"
   ]
  },
  {
   "cell_type": "code",
   "execution_count": null,
   "metadata": {
    "colab": {
     "base_uri": "https://localhost:8080/",
     "height": 206
    },
    "id": "gG1lNXn-ya65",
    "outputId": "2d9429e8-19aa-4c09-baac-d506c88a7e19"
   },
   "outputs": [],
   "source": [
    "mst = pd.read_csv('data/mst_column_name.txt', encoding='shift-jis', sep='\\t')\n",
    "mst.head()"
   ]
  },
  {
   "cell_type": "code",
   "execution_count": null,
   "metadata": {
    "colab": {
     "base_uri": "https://localhost:8080/"
    },
    "id": "Z5be3u4kz5iH",
    "outputId": "19fc1741-8ece-4851-a18c-c3e394c9a07c"
   },
   "outputs": [],
   "source": [
    "len(mst)"
   ]
  },
  {
   "cell_type": "code",
   "execution_count": null,
   "metadata": {
    "colab": {
     "base_uri": "https://localhost:8080/"
    },
    "id": "l00v3lF_PM8k",
    "outputId": "42b45606-3760-411b-ce34-c0ff3ac6e862"
   },
   "outputs": [],
   "source": [
    "len(mst) == len(data.columns)"
   ]
  },
  {
   "cell_type": "markdown",
   "metadata": {
    "id": "XueV-vtPwMY7"
   },
   "source": [
    "## ノック４：ヘッダ行を追加しよう"
   ]
  },
  {
   "cell_type": "code",
   "execution_count": null,
   "metadata": {
    "id": "yl6UHFMX0Gvq"
   },
   "outputs": [],
   "source": [
    "columns = mst.column_name_en.values"
   ]
  },
  {
   "cell_type": "code",
   "execution_count": null,
   "metadata": {
    "colab": {
     "base_uri": "https://localhost:8080/"
    },
    "id": "IdQIr8vOG-14",
    "outputId": "12bb0813-816e-4f3a-91c0-43ea6d39cc93"
   },
   "outputs": [],
   "source": [
    "columns"
   ]
  },
  {
   "cell_type": "code",
   "execution_count": null,
   "metadata": {
    "colab": {
     "base_uri": "https://localhost:8080/",
     "height": 498
    },
    "id": "CKedAXnp0Jop",
    "outputId": "0c3946ba-b9a7-4d38-bbec-fce985926530"
   },
   "outputs": [],
   "source": [
    "data.columns = columns\n",
    "data.head()"
   ]
  },
  {
   "cell_type": "markdown",
   "metadata": {
    "id": "nrlLRoaExgGP"
   },
   "source": [
    "## ノック５：統計量や欠損値を確認しよう"
   ]
  },
  {
   "cell_type": "code",
   "execution_count": null,
   "metadata": {
    "colab": {
     "base_uri": "https://localhost:8080/",
     "height": 346
    },
    "id": "zVoqN0NSxw2S",
    "outputId": "0866e1fb-f1a8-4594-b591-9c87e21a0745"
   },
   "outputs": [],
   "source": [
    "data.describe()"
   ]
  },
  {
   "cell_type": "code",
   "execution_count": null,
   "metadata": {
    "colab": {
     "base_uri": "https://localhost:8080/",
     "height": 443
    },
    "id": "UPF1Inj8X3j5",
    "outputId": "74738bbd-a360-430d-a870-ea2f0d8e5db5"
   },
   "outputs": [],
   "source": [
    "data.isna()"
   ]
  },
  {
   "cell_type": "code",
   "execution_count": null,
   "metadata": {
    "colab": {
     "base_uri": "https://localhost:8080/"
    },
    "id": "BWJGrOBJxz1F",
    "outputId": "7db001ef-42ff-40ed-8435-296d16381fbf"
   },
   "outputs": [],
   "source": [
    "data.isna().sum()"
   ]
  },
  {
   "cell_type": "markdown",
   "metadata": {
    "id": "1Z8rwT646g7X"
   },
   "source": [
    "## ノック６：データの追加（繰り返し・読込・抽出・結合）"
   ]
  },
  {
   "cell_type": "code",
   "execution_count": null,
   "metadata": {
    "colab": {
     "base_uri": "https://localhost:8080/"
    },
    "id": "_6ESyddb0lha",
    "outputId": "73d6d02b-33a9-4f8a-a02f-d891516e3d69"
   },
   "outputs": [],
   "source": [
    "import os\n",
    "os.listdir('data')"
   ]
  },
  {
   "cell_type": "code",
   "execution_count": null,
   "metadata": {
    "colab": {
     "base_uri": "https://localhost:8080/"
    },
    "id": "lN3unz0ZNh4x",
    "outputId": "acf84a8b-74e9-4932-e96a-9be668598488"
   },
   "outputs": [],
   "source": [
    "from glob import glob\n",
    "diff_files = glob('data/diff*.csv')\n",
    "diff_files"
   ]
  },
  {
   "cell_type": "code",
   "execution_count": null,
   "metadata": {
    "colab": {
     "base_uri": "https://localhost:8080/",
     "height": 243
    },
    "id": "oyzaHgbP0lxI",
    "outputId": "4f54dc8b-8e3e-4021-a96a-b962a4d7f668"
   },
   "outputs": [],
   "source": [
    "diff_files.sort()\n",
    "diff = pd.read_csv(diff_files[0], encoding='shift-jis', header=None, dtype=object)\n",
    "print(len(diff))\n",
    "diff.head(3)"
   ]
  },
  {
   "cell_type": "code",
   "execution_count": null,
   "metadata": {
    "colab": {
     "base_uri": "https://localhost:8080/",
     "height": 454
    },
    "id": "9l-ZzTWnaHLR",
    "outputId": "a9591fbd-921c-46f9-ad32-9f281ed44be6"
   },
   "outputs": [],
   "source": [
    "diff.columns = columns\n",
    "diff = diff.loc[diff['prefectureName'] == '静岡県']\n",
    "print(len(diff))\n",
    "diff.head(3)"
   ]
  },
  {
   "cell_type": "code",
   "execution_count": null,
   "metadata": {
    "colab": {
     "base_uri": "https://localhost:8080/",
     "height": 460
    },
    "id": "QmO-WGYfatBA",
    "outputId": "b8d02ed9-7e19-4b36-b0e6-c57df3a75c7a"
   },
   "outputs": [],
   "source": [
    "data_test = data                    # テスト用の変数にdataの中身をコピー\n",
    "print(len(data_test))               # 既存の件数を確認\n",
    "print(len(data_test) == len(data))  # 既存の件数が正しいことを確認\n",
    "print(len(diff))                    # 差分の件数を確認\n",
    "data_test = data_test.append(diff)  # テスト用の変数に差分データを追加\n",
    "print(len(data_test))               # 追加後の件数を確認\n",
    "data_test.tail(3)                   # 追加後のデータの末尾3件を確認"
   ]
  },
  {
   "cell_type": "code",
   "execution_count": null,
   "metadata": {
    "colab": {
     "base_uri": "https://localhost:8080/",
     "height": 1000
    },
    "id": "jews9WyY2pU6",
    "outputId": "4e816d6b-095e-42dc-d745-93879d48780c"
   },
   "outputs": [],
   "source": [
    "for f in diff_files:\n",
    "  diff = pd.read_csv(f, encoding='shift-jis', header=None, dtype=object)\n",
    "  diff.columns = columns\n",
    "  diff = diff.loc[diff['prefectureName'] == '静岡県']\n",
    "  data = data.append(diff)\n",
    "data"
   ]
  },
  {
   "cell_type": "code",
   "execution_count": null,
   "metadata": {
    "colab": {
     "base_uri": "https://localhost:8080/",
     "height": 346
    },
    "id": "1wsUlE5wPpfY",
    "outputId": "4f60c68b-027a-44d5-f892-e73edc035126"
   },
   "outputs": [],
   "source": [
    "data.describe()"
   ]
  },
  {
   "cell_type": "code",
   "execution_count": null,
   "metadata": {
    "colab": {
     "base_uri": "https://localhost:8080/"
    },
    "id": "4Yxyb8yYOVN5",
    "outputId": "a75d3f00-49bb-4138-b97a-8aa9655b9cb8"
   },
   "outputs": [],
   "source": [
    "print(data[data[\"corporateNumber\"].duplicated()])"
   ]
  },
  {
   "cell_type": "code",
   "execution_count": null,
   "metadata": {
    "id": "UyaZcj3WY59P"
   },
   "outputs": [],
   "source": [
    "data.drop_duplicates(subset='corporateNumber', keep='last', inplace=True)"
   ]
  },
  {
   "cell_type": "code",
   "execution_count": null,
   "metadata": {
    "colab": {
     "base_uri": "https://localhost:8080/",
     "height": 346
    },
    "id": "FB0jcpNbh7L7",
    "outputId": "f1de375c-79ed-4d1a-a40e-c8a6a371470f"
   },
   "outputs": [],
   "source": [
    "data.describe()"
   ]
  },
  {
   "cell_type": "code",
   "execution_count": null,
   "metadata": {
    "colab": {
     "base_uri": "https://localhost:8080/"
    },
    "id": "NR6s7J-lPr4L",
    "outputId": "a6f35935-6ab3-422c-b325-700383175436"
   },
   "outputs": [],
   "source": [
    "data.isna().sum()"
   ]
  },
  {
   "cell_type": "markdown",
   "metadata": {
    "id": "EmMEqFfNwdYB"
   },
   "source": [
    "## ノック７：マスタを読み込んで項目を横に繋げよう"
   ]
  },
  {
   "cell_type": "code",
   "execution_count": null,
   "metadata": {
    "colab": {
     "base_uri": "https://localhost:8080/"
    },
    "id": "D8lyUCQ6QtY-",
    "outputId": "b10e5574-5e35-4dff-ba63-3fd05642dfc4"
   },
   "outputs": [],
   "source": [
    "os.listdir('data')"
   ]
  },
  {
   "cell_type": "code",
   "execution_count": null,
   "metadata": {
    "colab": {
     "base_uri": "https://localhost:8080/",
     "height": 363
    },
    "id": "x77F4mLe7i2e",
    "outputId": "d36d16f3-0900-4834-ec9e-ec0311b1776a"
   },
   "outputs": [],
   "source": [
    "mst_process_kbn = pd.read_csv('data/mst_process_kbn.csv', dtype=object)\n",
    "mst_process_kbn"
   ]
  },
  {
   "cell_type": "code",
   "execution_count": null,
   "metadata": {
    "id": "WxiLuvtM7jB5"
   },
   "outputs": [],
   "source": [
    "data = data.merge(mst_process_kbn, on='process', how='left')"
   ]
  },
  {
   "cell_type": "code",
   "execution_count": null,
   "metadata": {
    "colab": {
     "base_uri": "https://localhost:8080/",
     "height": 385
    },
    "id": "PpAJDJwc7sBy",
    "outputId": "64471c66-354f-435c-fe29-bb1a404e869c"
   },
   "outputs": [],
   "source": [
    "print(len(data.columns))\n",
    "data.head(3)"
   ]
  },
  {
   "cell_type": "code",
   "execution_count": null,
   "metadata": {
    "colab": {
     "base_uri": "https://localhost:8080/",
     "height": 112
    },
    "id": "ETz0LwEkiLaN",
    "outputId": "6493e65f-afa4-4e35-8b7d-a58dd5c27146"
   },
   "outputs": [],
   "source": [
    "mst_correct_kbn = pd.read_csv('data/mst_correct_kbn.csv', encoding='shift-jis', dtype=object)\n",
    "mst_correct_kbn"
   ]
  },
  {
   "cell_type": "code",
   "execution_count": null,
   "metadata": {
    "colab": {
     "base_uri": "https://localhost:8080/",
     "height": 385
    },
    "id": "pb30UGboVvLj",
    "outputId": "018890b4-b1fa-4c49-8805-50c231499527"
   },
   "outputs": [],
   "source": [
    "data = data.merge(mst_correct_kbn, on='correct', how='left')\n",
    "print(len(data.columns))\n",
    "data.head(3)"
   ]
  },
  {
   "cell_type": "code",
   "execution_count": null,
   "metadata": {
    "colab": {
     "base_uri": "https://localhost:8080/",
     "height": 363
    },
    "id": "CjgQzboxiLWz",
    "outputId": "df198a97-2ec7-4515-e7ad-754f8c4a73cf"
   },
   "outputs": [],
   "source": [
    "mst_corp_kind = pd.read_csv('data/mst_corp_kind.csv', dtype=object)\n",
    "mst_corp_kind"
   ]
  },
  {
   "cell_type": "code",
   "execution_count": null,
   "metadata": {
    "colab": {
     "base_uri": "https://localhost:8080/",
     "height": 385
    },
    "id": "HqfXFSaoWGTx",
    "outputId": "9d4a43d6-398d-4329-f967-eb8f4f6ca958"
   },
   "outputs": [],
   "source": [
    "data = data.merge(mst_corp_kind, on='kind', how='left')\n",
    "print(len(data.columns))\n",
    "data.head(3)"
   ]
  },
  {
   "cell_type": "code",
   "execution_count": null,
   "metadata": {
    "colab": {
     "base_uri": "https://localhost:8080/",
     "height": 175
    },
    "id": "6CJqDq2iQtf2",
    "outputId": "77c60b22-2efc-4862-d37b-a076c1312451"
   },
   "outputs": [],
   "source": [
    "mst_close_cause = pd.read_csv('data/mst_closeCause.csv', dtype=object)\n",
    "mst_close_cause"
   ]
  },
  {
   "cell_type": "code",
   "execution_count": null,
   "metadata": {
    "colab": {
     "base_uri": "https://localhost:8080/",
     "height": 385
    },
    "id": "gQC3_PosiLTD",
    "outputId": "60c87fde-af67-4f0c-e5de-632f4784bdf1"
   },
   "outputs": [],
   "source": [
    "data = data.merge(mst_close_cause, on='closeCause', how='left')\n",
    "print(len(data.columns))\n",
    "data.head(3)"
   ]
  },
  {
   "cell_type": "code",
   "execution_count": null,
   "metadata": {
    "colab": {
     "base_uri": "https://localhost:8080/",
     "height": 112
    },
    "id": "5fqJ4wDIi6Oe",
    "outputId": "63418a45-7057-4223-909b-0011d1047f70"
   },
   "outputs": [],
   "source": [
    "mst_latest = pd.read_csv('data/mst_latest.csv', dtype=object)\n",
    "mst_latest"
   ]
  },
  {
   "cell_type": "code",
   "execution_count": null,
   "metadata": {
    "colab": {
     "base_uri": "https://localhost:8080/",
     "height": 385
    },
    "id": "dmW_80f__Uqa",
    "outputId": "059bd45e-e2e4-4202-d642-5b704b0d7ab1"
   },
   "outputs": [],
   "source": [
    "data = data.merge(mst_latest, on='latest', how='left')\n",
    "print(len(data.columns))\n",
    "data.head(3)"
   ]
  },
  {
   "cell_type": "code",
   "execution_count": null,
   "metadata": {
    "colab": {
     "base_uri": "https://localhost:8080/",
     "height": 112
    },
    "id": "rqEjlChui6L6",
    "outputId": "d0f9154e-d05d-42d4-eedf-5ea2b73b2666"
   },
   "outputs": [],
   "source": [
    "mst_hihyoji = pd.read_csv('data/mst_hihyoji.csv', dtype=object)\n",
    "mst_hihyoji"
   ]
  },
  {
   "cell_type": "code",
   "execution_count": null,
   "metadata": {
    "colab": {
     "base_uri": "https://localhost:8080/",
     "height": 385
    },
    "id": "KzDF_WOH-3iH",
    "outputId": "badb7eb9-ba84-4501-f47d-3b1bf956033b"
   },
   "outputs": [],
   "source": [
    "data = data.merge(mst_hihyoji, on='hihyoji', how='left')\n",
    "print(len(data.columns))\n",
    "data.head(3)"
   ]
  },
  {
   "cell_type": "markdown",
   "metadata": {
    "id": "9K0jraNW615H"
   },
   "source": [
    "## ノック８：テキストの連結や分割をしよう"
   ]
  },
  {
   "cell_type": "code",
   "execution_count": null,
   "metadata": {
    "colab": {
     "base_uri": "https://localhost:8080/"
    },
    "id": "tAY0PgnG7Two",
    "outputId": "bf062869-6e12-49e8-8a4b-a101502c1016"
   },
   "outputs": [],
   "source": [
    "data[['prefectureName', 'cityName', 'streetNumber']].isna().sum()"
   ]
  },
  {
   "cell_type": "code",
   "execution_count": null,
   "metadata": {
    "colab": {
     "base_uri": "https://localhost:8080/",
     "height": 402
    },
    "id": "L5X2wDCPws7j",
    "outputId": "09ec22ef-4bda-4710-eec2-0b636f5dc616"
   },
   "outputs": [],
   "source": [
    "data['address'] = data['prefectureName'] + data['cityName'] + data['streetNumber']\n",
    "print(len(data.columns))\n",
    "data.head(3)"
   ]
  },
  {
   "cell_type": "code",
   "execution_count": null,
   "metadata": {
    "colab": {
     "base_uri": "https://localhost:8080/",
     "height": 505
    },
    "id": "ExieiuWXxrAX",
    "outputId": "f7291962-42fb-4cff-89e1-52dda6875cd8"
   },
   "outputs": [],
   "source": [
    "data.loc[data['streetNumber'].isna()].head(3)"
   ]
  },
  {
   "cell_type": "code",
   "execution_count": null,
   "metadata": {
    "id": "Rssx-kkDxrEl"
   },
   "outputs": [],
   "source": [
    "data['address'].loc[data['streetNumber'].isna()] = data['prefectureName'] + data['cityName']"
   ]
  },
  {
   "cell_type": "code",
   "execution_count": null,
   "metadata": {
    "colab": {
     "base_uri": "https://localhost:8080/",
     "height": 523
    },
    "id": "V9JeCiW0yaKx",
    "outputId": "c3ebaa09-63bc-42fa-cb17-eda7264b7c78"
   },
   "outputs": [],
   "source": [
    "print(data['address'].isna().sum())\n",
    "data.loc[data['streetNumber'].isna()].head(3)"
   ]
  },
  {
   "cell_type": "code",
   "execution_count": null,
   "metadata": {
    "colab": {
     "base_uri": "https://localhost:8080/",
     "height": 384
    },
    "id": "czPeOvRpC0q-",
    "outputId": "ffd7e311-af55-4d26-e574-1f0774fcecb9"
   },
   "outputs": [],
   "source": [
    "data.head(3)"
   ]
  },
  {
   "cell_type": "code",
   "execution_count": null,
   "metadata": {
    "colab": {
     "base_uri": "https://localhost:8080/",
     "height": 402
    },
    "id": "KbYfrW_vJ3fi",
    "outputId": "a6aaa93d-e6c9-4f81-dd95-805d69f3b7f5"
   },
   "outputs": [],
   "source": [
    "data['postCode_head'] = data['postCode'].str[:3]\n",
    "print(len(data.columns))\n",
    "data.head(3)"
   ]
  },
  {
   "cell_type": "code",
   "execution_count": null,
   "metadata": {
    "colab": {
     "base_uri": "https://localhost:8080/",
     "height": 402
    },
    "id": "B5Hn_XxOJ3ph",
    "outputId": "7824c6e4-0864-4945-c9e5-175cfb58fa97"
   },
   "outputs": [],
   "source": [
    "data['postCode_tail'] = data['postCode'].str[-4:]\n",
    "print(len(data.columns))\n",
    "data.head(3)"
   ]
  },
  {
   "cell_type": "markdown",
   "metadata": {
    "id": "T6n7m5TJ7AkB"
   },
   "source": [
    "## ノック９：日付を加工しよう"
   ]
  },
  {
   "cell_type": "code",
   "execution_count": null,
   "metadata": {
    "colab": {
     "base_uri": "https://localhost:8080/",
     "height": 430
    },
    "id": "Hh4voaK5EWIy",
    "outputId": "19138e56-05a1-4019-fe3f-0ae8eeaf110d"
   },
   "outputs": [],
   "source": [
    "data['closeDate'] - data['assignmentDate']"
   ]
  },
  {
   "cell_type": "code",
   "execution_count": null,
   "metadata": {
    "colab": {
     "base_uri": "https://localhost:8080/"
    },
    "id": "pp4IM35pEWNx",
    "outputId": "45fbd2df-ac61-48d9-a30c-6687cfce77ac"
   },
   "outputs": [],
   "source": [
    "tmp = pd.to_datetime(data['closeDate'])\n",
    "tmp.dtypes"
   ]
  },
  {
   "cell_type": "code",
   "execution_count": null,
   "metadata": {
    "id": "PYcrAHBXEWXy"
   },
   "outputs": [],
   "source": [
    "dt_columns = ['updateDate', 'changeDate', 'closeDate', 'assignmentDate']\n",
    "for col in dt_columns:\n",
    "  data[col] = pd.to_datetime(data[col])"
   ]
  },
  {
   "cell_type": "code",
   "execution_count": null,
   "metadata": {
    "colab": {
     "base_uri": "https://localhost:8080/"
    },
    "id": "SQ5WXWwLKe6G",
    "outputId": "37e4e5a8-6178-43ab-b6e7-0450354c8ba7"
   },
   "outputs": [],
   "source": [
    "data.dtypes"
   ]
  },
  {
   "cell_type": "code",
   "execution_count": null,
   "metadata": {
    "colab": {
     "base_uri": "https://localhost:8080/",
     "height": 402
    },
    "id": "DrSSIdr-EWer",
    "outputId": "359a5785-0cae-412e-f03f-29a8b02919ee"
   },
   "outputs": [],
   "source": [
    "data['corporate_life'] = data['closeDate'] - data['assignmentDate']\n",
    "print(len(data.columns))\n",
    "data.head(3)"
   ]
  },
  {
   "cell_type": "code",
   "execution_count": null,
   "metadata": {
    "colab": {
     "base_uri": "https://localhost:8080/",
     "height": 541
    },
    "id": "NmkV16LBKHYz",
    "outputId": "3426c362-807e-4fb5-fba2-23962dc07740"
   },
   "outputs": [],
   "source": [
    "tmp = data.loc[data['closeDate'].notna()]\n",
    "print(len(tmp))\n",
    "tmp.head(3)"
   ]
  },
  {
   "cell_type": "code",
   "execution_count": null,
   "metadata": {
    "colab": {
     "base_uri": "https://localhost:8080/"
    },
    "id": "HYCFhKdNxE0o",
    "outputId": "647ccf9e-ee4b-4682-b8c1-ca6bc0ce6c3a"
   },
   "outputs": [],
   "source": [
    "len(data.loc[data['closeCause'].notna()]) == len(data.loc[data['closeDate'].notna()])"
   ]
  },
  {
   "cell_type": "code",
   "execution_count": null,
   "metadata": {
    "colab": {
     "base_uri": "https://localhost:8080/",
     "height": 551
    },
    "id": "pxB5wykkKHdL",
    "outputId": "93151036-9169-42a8-b0a2-d8ec694ac5cb"
   },
   "outputs": [],
   "source": [
    "data['update_YM'] = data['updateDate'].dt.to_period('M')\n",
    "print(len(data.columns))\n",
    "data.head()"
   ]
  },
  {
   "cell_type": "code",
   "execution_count": null,
   "metadata": {
    "id": "HkpTWI6VLKzs"
   },
   "outputs": [],
   "source": [
    "dt_prefixes = ['assignment', 'change', 'update', 'close']\n",
    "for pre in dt_prefixes:\n",
    "  data[f'{pre}_YM'] = data[f'{pre}Date'].dt.to_period('M')"
   ]
  },
  {
   "cell_type": "code",
   "execution_count": null,
   "metadata": {
    "colab": {
     "base_uri": "https://localhost:8080/",
     "height": 402
    },
    "id": "NhtPdrAmLqf6",
    "outputId": "7e458f1a-3512-4beb-c96a-47f4ce9d3516"
   },
   "outputs": [],
   "source": [
    "print(len(data.columns))\n",
    "data.head(3)"
   ]
  },
  {
   "cell_type": "code",
   "execution_count": null,
   "metadata": {
    "colab": {
     "base_uri": "https://localhost:8080/"
    },
    "id": "_-nKto7YL7Bm",
    "outputId": "7646eb0b-ba33-456a-ddd9-daae7f83846c"
   },
   "outputs": [],
   "source": [
    "data.dtypes"
   ]
  },
  {
   "cell_type": "markdown",
   "metadata": {
    "id": "XMwFLVzu-CZC"
   },
   "source": [
    "## ノック１０：年度を設定しよう"
   ]
  },
  {
   "cell_type": "code",
   "execution_count": null,
   "metadata": {
    "id": "8Qm0lSGh-eXC"
   },
   "outputs": [],
   "source": [
    "data['update_year'] = pd.DatetimeIndex(data['updateDate']).year         # 更新日付から年を取得\n",
    "data['update_month'] = pd.DatetimeIndex(data['updateDate']).month       # 更新日付から月を取得\n",
    "data['update_fiscal_year'] = pd.DatetimeIndex(data['updateDate']).year  # 更新年度に取得した年を設定\n",
    "data.loc[data['update_month'] < 4, 'update_fiscal_year'] -= 1           # 更新月が3月までは更新年度-1"
   ]
  },
  {
   "cell_type": "code",
   "execution_count": null,
   "metadata": {
    "colab": {
     "base_uri": "https://localhost:8080/",
     "height": 367
    },
    "id": "yd-2BV8CbXqf",
    "outputId": "16fbd345-d03f-47e1-a4ae-b04097bcc219"
   },
   "outputs": [],
   "source": [
    "print(len(data.columns))\n",
    "data.head(3)"
   ]
  },
  {
   "cell_type": "code",
   "execution_count": null,
   "metadata": {
    "colab": {
     "base_uri": "https://localhost:8080/",
     "height": 782
    },
    "id": "DNZpbuhvX2QD",
    "outputId": "81732c07-297d-46e9-9cda-98aad832616f"
   },
   "outputs": [],
   "source": [
    "for i in range(12):\n",
    "  display(data[['update_YM', 'update_fiscal_year']].loc[data['update_month'] == i+1 ][:1])"
   ]
  },
  {
   "cell_type": "markdown",
   "metadata": {
    "id": "QPEBK5A47IFZ"
   },
   "source": [
    "## ノック１１：加工したデータをファイルに出力しよう"
   ]
  },
  {
   "cell_type": "code",
   "execution_count": null,
   "metadata": {
    "id": "DmJe35nRzIYT"
   },
   "outputs": [],
   "source": [
    "output_dir = 'data/output'\n",
    "os.makedirs(output_dir, exist_ok=True)"
   ]
  },
  {
   "cell_type": "code",
   "execution_count": null,
   "metadata": {
    "id": "oFrIz626NtRx"
   },
   "outputs": [],
   "source": [
    "output_file = 'processed_shizuoka.csv'\n",
    "data.to_csv(os.path.join(output_dir, output_file), index=False)"
   ]
  },
  {
   "cell_type": "code",
   "execution_count": null,
   "metadata": {
    "id": "4jBHTfcRNtWK"
   },
   "outputs": [],
   "source": [
    "output_file = output_file.replace('.csv', '.xlsx')\n",
    "data.to_excel(os.path.join(output_dir, output_file), index=False)"
   ]
  },
  {
   "cell_type": "markdown",
   "metadata": {
    "id": "3adikQ_m65BI"
   },
   "source": [
    "## ノック１２：不要な項目の削除と並べ替えをしよう"
   ]
  },
  {
   "cell_type": "code",
   "execution_count": null,
   "metadata": {
    "colab": {
     "base_uri": "https://localhost:8080/"
    },
    "id": "d8kal8_4w0vQ",
    "outputId": "e93a4905-0497-4a15-ad66-913ad3e88cf2"
   },
   "outputs": [],
   "source": [
    "print(len(data.columns))\n",
    "print(data.columns)\n",
    "data.head(3)"
   ]
  },
  {
   "cell_type": "code",
   "execution_count": null,
   "metadata": {
    "id": "WIHn2hG4w0yw"
   },
   "outputs": [],
   "source": [
    "data = data[['cityName', 'corporateNumber', 'name', 'corp_kind_name', 'process', 'process_kbn_name', 'assignmentDate', 'updateDate', 'update_fiscal_year', 'update_YM']]"
   ]
  },
  {
   "cell_type": "code",
   "execution_count": null,
   "metadata": {
    "colab": {
     "base_uri": "https://localhost:8080/"
    },
    "id": "v1sp97Bow041",
    "outputId": "e73d0400-bbef-4744-a11a-4b3c6ade4095"
   },
   "outputs": [],
   "source": [
    "print(len(data.columns))\n",
    "print(data.columns)\n",
    "data.head(3)"
   ]
  },
  {
   "cell_type": "code",
   "execution_count": null,
   "metadata": {
    "colab": {
     "base_uri": "https://localhost:8080/"
    },
    "id": "aXfxDIbJPYcS",
    "outputId": "8aa337b9-e68a-491c-f5f5-28c0e992a150"
   },
   "outputs": [],
   "source": [
    "data = data.drop(columns = 'process')\n",
    "print(data.columns)\n",
    "data.head(3)"
   ]
  },
  {
   "cell_type": "markdown",
   "metadata": {
    "id": "m87Vuvjb69bU"
   },
   "source": [
    "## ノック１３：まとまった単位で集計しよう\n"
   ]
  },
  {
   "cell_type": "code",
   "execution_count": null,
   "metadata": {
    "colab": {
     "base_uri": "https://localhost:8080/"
    },
    "id": "3yC1LA6Gosp0",
    "outputId": "3e649477-ec48-49f7-b7bf-7647cc2cb30e"
   },
   "outputs": [],
   "source": [
    "tmp = data.groupby('corp_kind_name').size()\n",
    "tmp"
   ]
  },
  {
   "cell_type": "code",
   "execution_count": null,
   "metadata": {
    "colab": {
     "base_uri": "https://localhost:8080/"
    },
    "id": "LebTq01-hwjW",
    "outputId": "db7a87de-cbaa-4fcd-e027-4750d7be5ebc"
   },
   "outputs": [],
   "source": [
    "tmp.sort_values(inplace=True, ascending=False)\n",
    "tmp"
   ]
  },
  {
   "cell_type": "code",
   "execution_count": null,
   "metadata": {
    "colab": {
     "base_uri": "https://localhost:8080/"
    },
    "id": "SB7cpmJflhPW",
    "outputId": "8412a86f-42ea-4590-e45a-fc26758eed80"
   },
   "outputs": [],
   "source": [
    "tmp = data.groupby('update_fiscal_year').size()\n",
    "tmp"
   ]
  },
  {
   "cell_type": "code",
   "execution_count": null,
   "metadata": {
    "colab": {
     "base_uri": "https://localhost:8080/"
    },
    "id": "Zk1k3xaQjyX7",
    "outputId": "06278e05-7974-4301-9ce5-8d4bf560fff5"
   },
   "outputs": [],
   "source": [
    "tmp = data.groupby(['update_fiscal_year', 'corp_kind_name']).size()\n",
    "tmp"
   ]
  },
  {
   "cell_type": "code",
   "execution_count": null,
   "metadata": {
    "colab": {
     "base_uri": "https://localhost:8080/"
    },
    "id": "Uc_fFgydqhNj",
    "outputId": "54896856-7bfd-49af-d093-7a7ef6ef9c6a"
   },
   "outputs": [],
   "source": [
    "pt_data = pd.pivot_table(data, index='corp_kind_name', columns='update_fiscal_year', aggfunc='size')\n",
    "pt_data"
   ]
  },
  {
   "cell_type": "markdown",
   "metadata": {
    "id": "ChDnISx2McsC"
   },
   "source": [
    "## ノック１４：市区町村別の法人数を可視化しよう"
   ]
  },
  {
   "cell_type": "code",
   "execution_count": null,
   "metadata": {
    "id": "ltr0lIZ7YnVF"
   },
   "outputs": [],
   "source": [
    "%%bash\n",
    "pip install -q japanize-matplotlib"
   ]
  },
  {
   "cell_type": "code",
   "execution_count": null,
   "metadata": {
    "id": "EIF1Jx8nHlzu"
   },
   "outputs": [],
   "source": [
    "tmp = data.groupby('cityName').size()\n",
    "tmp.head()"
   ]
  },
  {
   "cell_type": "code",
   "execution_count": null,
   "metadata": {
    "id": "otM88RmMYU1t"
   },
   "outputs": [],
   "source": [
    "import matplotlib.pyplot as plt\n",
    "import japanize_matplotlib\n",
    "\n",
    "x = tmp.index\n",
    "y = tmp.values\n",
    "plt.bar(x, y)"
   ]
  },
  {
   "cell_type": "code",
   "execution_count": null,
   "metadata": {
    "id": "JLjaeA5SBYzu"
   },
   "outputs": [],
   "source": [
    "plt.figure(figsize=(20, 10))\n",
    "plt.bar(x, y)"
   ]
  },
  {
   "cell_type": "markdown",
   "metadata": {
    "id": "xZUzoupPKyHu"
   },
   "source": [
    "## ノック１５：グラフの縦横と表示順を変えてみよう"
   ]
  },
  {
   "cell_type": "code",
   "execution_count": null,
   "metadata": {
    "id": "56cZ_GCFLeC-"
   },
   "outputs": [],
   "source": [
    "tmp.sort_values(inplace=True, ascending=True)\n",
    "tmp"
   ]
  },
  {
   "cell_type": "code",
   "execution_count": null,
   "metadata": {
    "id": "1Roi13s5U6Tv"
   },
   "outputs": [],
   "source": [
    "plt.figure(figsize=(10, 15))\n",
    "x = tmp.index\n",
    "y = tmp.values\n",
    "plt.barh(x, y)"
   ]
  },
  {
   "cell_type": "markdown",
   "metadata": {
    "id": "3rjir-OYMuSC"
   },
   "source": [
    "## ノック１６：グラフのタイトルとラベルを設定しよう"
   ]
  },
  {
   "cell_type": "code",
   "execution_count": null,
   "metadata": {
    "id": "3Sn0LaQjXs36"
   },
   "outputs": [],
   "source": [
    "tmp.sort_values(inplace=True, ascending=False)\n",
    "plt.figure(figsize=(20, 10))\n",
    "x = tmp[:10].index\n",
    "y = tmp[:10].values\n",
    "plt.bar(x, y)\n"
   ]
  },
  {
   "cell_type": "code",
   "execution_count": null,
   "metadata": {
    "id": "SCFxrkPIJ89L"
   },
   "outputs": [],
   "source": [
    "plt.figure(figsize=(20, 10))\n",
    "plt.bar(x, y)\n",
    "plt.title('市区町村別の法人数', fontsize=20)\n",
    "plt.xlabel('市区町村名', fontsize=15)\n",
    "plt.ylabel('法人数')\n"
   ]
  },
  {
   "cell_type": "markdown",
   "metadata": {
    "id": "ZVbB0ORNMuce"
   },
   "source": [
    "## ノック１７：グラフの見た目をもっと変えてみよう"
   ]
  },
  {
   "cell_type": "code",
   "execution_count": null,
   "metadata": {
    "id": "Imo1pjuQcDMT"
   },
   "outputs": [],
   "source": [
    "tmp.sort_values(inplace=True, ascending=False)\n",
    "tmp = tmp[:10]\n",
    "x = tmp.index\n",
    "y = tmp.values\n",
    "fig, ax = plt.subplots(figsize=(20, 10))\n",
    "bar_list = ax.bar(x, y, color='lightgray')\n",
    "bar_list[4].set_color('blue')\n",
    "ax.set_title('自治体別法人数における富士市の位置づけ', fontsize=20);\n",
    "ax.set_ylabel('法人数', fontsize=15)\n",
    "ax.text(7.5, 9000, '上位10の自治体を抜粋して表示', fontsize=15)"
   ]
  },
  {
   "cell_type": "markdown",
   "metadata": {
    "id": "MPSnLkD0Mkly"
   },
   "source": [
    "## ノック１８：９０日以内に新規登録された法人数を可視化してみよう"
   ]
  },
  {
   "cell_type": "code",
   "execution_count": null,
   "metadata": {
    "id": "Gm9PR3GwM4F8"
   },
   "outputs": [],
   "source": [
    "base_time = pd.Timestamp.now(tz='Asia/Tokyo')\n",
    "base_time"
   ]
  },
  {
   "cell_type": "code",
   "execution_count": null,
   "metadata": {
    "id": "79WyMnMEVTK4"
   },
   "outputs": [],
   "source": [
    "print(len(data))\n",
    "data.head()"
   ]
  },
  {
   "cell_type": "code",
   "execution_count": null,
   "metadata": {
    "id": "aHPDh73iNATi"
   },
   "outputs": [],
   "source": [
    "data['assignmentDate'] = data['assignmentDate'].dt.tz_localize('Asia/Tokyo')\n",
    "data.head()"
   ]
  },
  {
   "cell_type": "code",
   "execution_count": null,
   "metadata": {
    "id": "pWDrnaBIqck0"
   },
   "outputs": [],
   "source": [
    "delta = pd.Timedelta(90, 'days')\n",
    "tmp = data.loc[(data['process_kbn_name'] == '新規') & (base_time - data['assignmentDate'] <= delta)]\n",
    "print(len(tmp))\n",
    "tmp.head()"
   ]
  },
  {
   "cell_type": "code",
   "execution_count": null,
   "metadata": {
    "id": "FV_zIHl0EGQb"
   },
   "outputs": [],
   "source": [
    "tmp = tmp.groupby('cityName').size()\n",
    "tmp.sort_values(inplace=True, ascending=False)\n",
    "tmp = tmp[:10]\n",
    "x = tmp.index\n",
    "y = tmp.values\n",
    "plt.figure(figsize=(20, 10))\n",
    "plt.bar(x, y)"
   ]
  },
  {
   "cell_type": "code",
   "execution_count": null,
   "metadata": {
    "id": "oIIvA-vHEGTO"
   },
   "outputs": [],
   "source": [
    "base_time = pd.Timestamp('2020-04-16', tz='Asia/Tokyo')\n",
    "tmp = data.loc[(data['process_kbn_name'] == '新規') & (base_time - data['assignmentDate'] <= delta)]\n",
    "print(len(tmp))\n",
    "tmp.head()"
   ]
  },
  {
   "cell_type": "code",
   "execution_count": null,
   "metadata": {
    "id": "fZZlKIRpEGV7"
   },
   "outputs": [],
   "source": [
    "tmp = tmp.groupby(by='cityName').size()\n",
    "tmp.sort_values(inplace=True, ascending=False)\n",
    "tmp = tmp[:10]\n",
    "x = tmp.index\n",
    "y = tmp.values\n",
    "plt.figure(figsize=(20, 10))\n",
    "plt.bar(x, y)"
   ]
  },
  {
   "cell_type": "markdown",
   "metadata": {
    "id": "MitoEhNPM5s1"
   },
   "source": [
    "## ノック１９：年度別の推移を可視化しよう"
   ]
  },
  {
   "cell_type": "code",
   "execution_count": null,
   "metadata": {
    "id": "NBcoQ9bnLaWW"
   },
   "outputs": [],
   "source": [
    "tmp = data.dropna(subset=['cityName'])\n",
    "tmp = tmp.loc[tmp['cityName'].str.match('^.*区$')]\n",
    "print(len(tmp))\n",
    "tmp.head()"
   ]
  },
  {
   "cell_type": "code",
   "execution_count": null,
   "metadata": {
    "id": "YrytswQ5xVhc"
   },
   "outputs": [],
   "source": [
    "tmp = tmp.loc[(tmp['update_fiscal_year'] >= 2016) & (tmp['update_fiscal_year'] < 2021)]\n",
    "print(len(tmp))\n",
    "tmp.head()"
   ]
  },
  {
   "cell_type": "code",
   "execution_count": null,
   "metadata": {
    "id": "LTNolgJoGN3q"
   },
   "outputs": [],
   "source": [
    "tmp = tmp.groupby(['cityName', 'update_fiscal_year']).size()\n",
    "tmp.name = 'count'\n",
    "tmp = tmp.reset_index()\n",
    "print(len(tmp))\n",
    "tmp.head(6)"
   ]
  },
  {
   "cell_type": "code",
   "execution_count": null,
   "metadata": {
    "id": "NMh07RKdxUWQ"
   },
   "outputs": [],
   "source": [
    "import seaborn as sns\n",
    "from matplotlib.ticker import MaxNLocator\n",
    "\n",
    "plt.figure(figsize=(20, 10))\n",
    "plt.gca().xaxis.set_major_locator(MaxNLocator(integer=True))\n",
    "img = sns.lineplot(x=tmp['update_fiscal_year'], y=tmp['count'], hue=tmp['cityName'])"
   ]
  },
  {
   "cell_type": "markdown",
   "metadata": {
    "id": "20F9WmchGlfL"
   },
   "source": [
    "## ノック２０：データとグラフを出力しよう"
   ]
  },
  {
   "cell_type": "code",
   "execution_count": null,
   "metadata": {
    "id": "RKR4X1so6XQW"
   },
   "outputs": [],
   "source": [
    "data_file = 'knock20_graphdata.csv'\n",
    "data.to_csv(os.path.join(output_dir, data_file), index=False)"
   ]
  },
  {
   "cell_type": "code",
   "execution_count": null,
   "metadata": {
    "id": "LXQIkSZY2Zys"
   },
   "outputs": [],
   "source": [
    "graph_file = 'knock20_graph.png'\n",
    "fig = img.get_figure()\n",
    "fig.savefig(os.path.join(output_dir, graph_file))"
   ]
  }
 ],
 "metadata": {
  "colab": {
   "provenance": []
  },
  "kernelspec": {
   "display_name": "Python 3",
   "language": "python",
   "name": "python3"
  },
  "language_info": {
   "codemirror_mode": {
    "name": "ipython",
    "version": 3
   },
   "file_extension": ".py",
   "mimetype": "text/x-python",
   "name": "python",
   "nbconvert_exporter": "python",
   "pygments_lexer": "ipython3",
   "version": "3.6.9"
  }
 },
 "nbformat": 4,
 "nbformat_minor": 0
}
