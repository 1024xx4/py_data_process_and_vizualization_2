{
 "cells": [
  {
   "cell_type": "code",
   "execution_count": null,
   "metadata": {
    "colab": {
     "base_uri": "https://localhost:8080/"
    },
    "executionInfo": {
     "elapsed": 28715,
     "status": "ok",
     "timestamp": 1709041832299,
     "user": {
      "displayName": "伊藤淳二",
      "userId": "06108280857351659017"
     },
     "user_tz": -540
    },
    "id": "GWGqPwoi_j-W",
    "outputId": "f2d4988f-477d-41eb-837b-6bdf26157097"
   },
   "outputs": [],
   "source": [
    "# 下記セルを実行すると、authorization codeの入力を求められます。\n",
    "# 出力されたリンク先をクリックし、Googleアカウントにログインし、\n",
    "# authorization codeをコピーし、貼り付けをおこなってください。\n",
    "from google.colab import drive\n",
    "drive.mount('/content/drive')"
   ]
  },
  {
   "cell_type": "code",
   "execution_count": null,
   "metadata": {
    "executionInfo": {
     "elapsed": 4,
     "status": "ok",
     "timestamp": 1709041832300,
     "user": {
      "displayName": "伊藤淳二",
      "userId": "06108280857351659017"
     },
     "user_tz": -540
    },
    "id": "HrlLUr2Q_kWL"
   },
   "outputs": [],
   "source": [
    "\n",
    "import os\n",
    "project = 'sample_data'\n",
    "chapter = 7\n",
    "os.chdir(f'/content/drive/MyDrive/{project}/chapter-{chapter}/')"
   ]
  },
  {
   "cell_type": "markdown",
   "metadata": {
    "id": "T-BX9hFf_zFy"
   },
   "source": [
    "# chapter 7 地理空間データ加工・可視化10ノック\n"
   ]
  },
  {
   "cell_type": "markdown",
   "metadata": {
    "id": "FSHRVp0LBis4"
   },
   "source": [
    "## ノック81: 地理空間データの形式を理解しよう\n"
   ]
  },
  {
   "cell_type": "code",
   "execution_count": null,
   "metadata": {
    "colab": {
     "base_uri": "https://localhost:8080/",
     "height": 790
    },
    "executionInfo": {
     "elapsed": 144264,
     "status": "ok",
     "timestamp": 1709041985215,
     "user": {
      "displayName": "伊藤淳二",
      "userId": "06108280857351659017"
     },
     "user_tz": -540
    },
    "id": "6TYZmKrh_q0f",
    "outputId": "15500e76-6582-445f-ca88-ad042bd14b8e"
   },
   "outputs": [],
   "source": [
    "import geopandas as gpd\n",
    "gdf_master = gpd.read_file('data/L01-18.shp')\n",
    "gdf_master"
   ]
  },
  {
   "cell_type": "code",
   "execution_count": null,
   "metadata": {
    "colab": {
     "base_uri": "https://localhost:8080/"
    },
    "executionInfo": {
     "elapsed": 5,
     "status": "ok",
     "timestamp": 1709041985216,
     "user": {
      "displayName": "伊藤淳二",
      "userId": "06108280857351659017"
     },
     "user_tz": -540
    },
    "id": "AuggAZtHl6qk",
    "outputId": "034aeb65-aa3c-4f02-c660-2086c2947949"
   },
   "outputs": [],
   "source": [
    "gdf_master['geometry']"
   ]
  },
  {
   "cell_type": "code",
   "execution_count": null,
   "metadata": {
    "colab": {
     "base_uri": "https://localhost:8080/",
     "height": 790
    },
    "executionInfo": {
     "elapsed": 130303,
     "status": "ok",
     "timestamp": 1709042120772,
     "user": {
      "displayName": "伊藤淳二",
      "userId": "06108280857351659017"
     },
     "user_tz": -540
    },
    "id": "mbWqU5O4vOT-",
    "outputId": "a61cc119-7a1a-4dd7-98d5-8666bc514d30"
   },
   "outputs": [],
   "source": [
    "gdf_json = gpd.read_file('data/L01-18.geojson')\n",
    "gdf_json"
   ]
  },
  {
   "cell_type": "markdown",
   "metadata": {
    "id": "TnDpiXMEsOTS"
   },
   "source": [
    "## ノック８２：読み込んだデータを確認しよう"
   ]
  },
  {
   "cell_type": "code",
   "execution_count": null,
   "metadata": {
    "colab": {
     "base_uri": "https://localhost:8080/"
    },
    "executionInfo": {
     "elapsed": 5,
     "status": "ok",
     "timestamp": 1709042120772,
     "user": {
      "displayName": "伊藤淳二",
      "userId": "06108280857351659017"
     },
     "user_tz": -540
    },
    "id": "Bc8pkokib7vy",
    "outputId": "3dc8a1b4-1654-4bc0-83b9-ebe89d1412ff"
   },
   "outputs": [],
   "source": [
    "len(gdf_master)"
   ]
  },
  {
   "cell_type": "code",
   "execution_count": null,
   "metadata": {
    "colab": {
     "base_uri": "https://localhost:8080/"
    },
    "executionInfo": {
     "elapsed": 4,
     "status": "ok",
     "timestamp": 1709042120773,
     "user": {
      "displayName": "伊藤淳二",
      "userId": "06108280857351659017"
     },
     "user_tz": -540
    },
    "id": "Y00L7xLVgC4T",
    "outputId": "3498a8de-4d52-43dc-df46-ff61c2e4c624"
   },
   "outputs": [],
   "source": [
    "gdf_master.columns"
   ]
  },
  {
   "cell_type": "code",
   "execution_count": null,
   "metadata": {
    "colab": {
     "base_uri": "https://localhost:8080/",
     "height": 423
    },
    "executionInfo": {
     "elapsed": 3,
     "status": "ok",
     "timestamp": 1709042120773,
     "user": {
      "displayName": "伊藤淳二",
      "userId": "06108280857351659017"
     },
     "user_tz": -540
    },
    "id": "9DDxI511OGrQ",
    "outputId": "e97e0518-1f37-450c-bcc2-358f958dba5e"
   },
   "outputs": [],
   "source": [
    "gdf = gdf_master[['L01_006', 'L01_023', 'geometry']].rename(columns={'L01_006': 'advertised_price', 'L01_023': 'address'})\n",
    "gdf"
   ]
  },
  {
   "cell_type": "markdown",
   "metadata": {
    "id": "QWNlIOsHseIw"
   },
   "source": [
    "## ノック８３：都道府県名を住所から抽出しよう"
   ]
  },
  {
   "cell_type": "code",
   "execution_count": null,
   "metadata": {
    "colab": {
     "base_uri": "https://localhost:8080/"
    },
    "executionInfo": {
     "elapsed": 535,
     "status": "ok",
     "timestamp": 1709042121305,
     "user": {
      "displayName": "伊藤淳二",
      "userId": "06108280857351659017"
     },
     "user_tz": -540
    },
    "id": "R3nApO84zOLp",
    "outputId": "6b3f1116-7254-4a3a-afa2-f3ef0b33d4a8"
   },
   "outputs": [],
   "source": [
    "import re\n",
    "\n",
    "def extract_prefecture(address):\n",
    "\n",
    "    match = re.search(r'([^\\d]+?[都道府県])', address)\n",
    "    if match:\n",
    "        return match.group(1)\n",
    "    else:\n",
    "        return None\n",
    "\n",
    "gdf['都道府県'] = gdf['address'].apply(extract_prefecture)\n",
    "\n",
    "gdf['都道府県']"
   ]
  },
  {
   "cell_type": "code",
   "execution_count": null,
   "metadata": {
    "colab": {
     "base_uri": "https://localhost:8080/"
    },
    "executionInfo": {
     "elapsed": 5,
     "status": "ok",
     "timestamp": 1709042121305,
     "user": {
      "displayName": "伊藤淳二",
      "userId": "06108280857351659017"
     },
     "user_tz": -540
    },
    "id": "ycNPMnk-1UKf",
    "outputId": "2c1dad79-0086-487e-c44a-4cbffdbc87b6"
   },
   "outputs": [],
   "source": [
    "print(gdf['都道府県'].unique())\n",
    "print(gdf['都道府県'].nunique())"
   ]
  },
  {
   "cell_type": "code",
   "execution_count": null,
   "metadata": {
    "colab": {
     "base_uri": "https://localhost:8080/"
    },
    "executionInfo": {
     "elapsed": 4,
     "status": "ok",
     "timestamp": 1709042121305,
     "user": {
      "displayName": "伊藤淳二",
      "userId": "06108280857351659017"
     },
     "user_tz": -540
    },
    "id": "u_0uedSPATh3",
    "outputId": "503f5f55-4428-4199-fc05-c3f99667c29c"
   },
   "outputs": [],
   "source": [
    "def extract_prefecture(address):\n",
    "\n",
    "    match = re.search('東京都|北海道|(?:京都|大阪)府|.{2,3}県', address)\n",
    "    if match:\n",
    "        return match.group()\n",
    "    else:\n",
    "        return None\n",
    "\n",
    "gdf['都道府県'] = gdf['address'].apply(extract_prefecture)\n",
    "\n",
    "gdf['都道府県']"
   ]
  },
  {
   "cell_type": "code",
   "execution_count": null,
   "metadata": {
    "colab": {
     "base_uri": "https://localhost:8080/"
    },
    "executionInfo": {
     "elapsed": 3,
     "status": "ok",
     "timestamp": 1709042121305,
     "user": {
      "displayName": "伊藤淳二",
      "userId": "06108280857351659017"
     },
     "user_tz": -540
    },
    "id": "tODKZHIUA39f",
    "outputId": "a13e22d2-5753-4f06-a473-13101557d660"
   },
   "outputs": [],
   "source": [
    "print(gdf['都道府県'].unique())\n",
    "print(gdf['都道府県'].nunique())"
   ]
  },
  {
   "cell_type": "markdown",
   "metadata": {
    "id": "kCH3FbAqsosr"
   },
   "source": [
    "## ノック８４：価格の分布を可視化してみよう"
   ]
  },
  {
   "cell_type": "code",
   "execution_count": null,
   "metadata": {
    "colab": {
     "base_uri": "https://localhost:8080/",
     "height": 1000
    },
    "executionInfo": {
     "elapsed": 10200,
     "status": "ok",
     "timestamp": 1709042131503,
     "user": {
      "displayName": "伊藤淳二",
      "userId": "06108280857351659017"
     },
     "user_tz": -540
    },
    "id": "3t-LPS4iDPeY",
    "outputId": "0752a6d0-f07a-4951-9a09-7dafc7b5516e"
   },
   "outputs": [],
   "source": [
    "!pip install japanize-matplotlib\n",
    "import matplotlib.pyplot as plt\n",
    "import japanize_matplotlib\n",
    "\n",
    "gdf['advertised_price'] = gdf['advertised_price'].astype(int)\n",
    "gdf_avg = gdf.groupby('都道府県')['advertised_price'].mean().reset_index()\n",
    "\n",
    "plt.figure(figsize=(10, 9))\n",
    "plt.barh(gdf_avg['都道府県'], gdf_avg['advertised_price'])\n",
    "plt.title('各都道府県の平均公示価格')\n",
    "plt.xlabel('平均公示価格')\n",
    "plt.ylabel('都道府県')\n",
    "plt.show()"
   ]
  },
  {
   "cell_type": "markdown",
   "metadata": {
    "id": "UphAKS4hswfM"
   },
   "source": [
    "## ノック８５：ポイントを表示してみよう"
   ]
  },
  {
   "cell_type": "code",
   "execution_count": null,
   "metadata": {
    "colab": {
     "base_uri": "https://localhost:8080/",
     "height": 447
    },
    "executionInfo": {
     "elapsed": 3581,
     "status": "ok",
     "timestamp": 1709042135078,
     "user": {
      "displayName": "伊藤淳二",
      "userId": "06108280857351659017"
     },
     "user_tz": -540
    },
    "id": "cNFKz2B1UPFO",
    "outputId": "294b7ba1-60f2-4160-b68b-6416d1f92529"
   },
   "outputs": [],
   "source": [
    "gdf.plot(column = 'advertised_price')"
   ]
  },
  {
   "cell_type": "code",
   "execution_count": null,
   "metadata": {
    "colab": {
     "base_uri": "https://localhost:8080/",
     "height": 461
    },
    "executionInfo": {
     "elapsed": 805,
     "status": "ok",
     "timestamp": 1709042135876,
     "user": {
      "displayName": "伊藤淳二",
      "userId": "06108280857351659017"
     },
     "user_tz": -540
    },
    "id": "_DtVwBu5ZCmc",
    "outputId": "fa96b3b5-2111-4493-bb09-063d1e3fb0f6"
   },
   "outputs": [],
   "source": [
    "from matplotlib.colors import Normalize\n",
    "\n",
    "norm = Normalize(vmin=0, vmax=1e6)\n",
    "\n",
    "gdf_over = gdf[gdf['advertised_price'] > 500000]\n",
    "gdf_over.plot(column = 'advertised_price',\n",
    "                      cmap = 'Purples',\n",
    "                      norm = norm,\n",
    "                      legend = True)"
   ]
  },
  {
   "cell_type": "markdown",
   "metadata": {
    "id": "yEQUamHgs1Bn"
   },
   "source": [
    "## ノック８６：地図上にポイントを表示してみよう"
   ]
  },
  {
   "cell_type": "code",
   "execution_count": null,
   "metadata": {
    "colab": {
     "base_uri": "https://localhost:8080/",
     "height": 845
    },
    "executionInfo": {
     "elapsed": 9314,
     "status": "ok",
     "timestamp": 1709042145185,
     "user": {
      "displayName": "伊藤淳二",
      "userId": "06108280857351659017"
     },
     "user_tz": -540
    },
    "id": "gCzDw-xBaXIG",
    "outputId": "487bccec-3911-4e49-cb77-9ead11248069"
   },
   "outputs": [],
   "source": [
    "!pip install japanmap\n",
    "from shapely.geometry import Polygon\n",
    "from japanmap import get_data, pref_points\n",
    "\n",
    "fig, ax = plt.subplots(1,1, figsize=(8, 8))\n",
    "japan_poly = [Polygon(points) for points in pref_points(get_data())]\n",
    "gdf_japan = gpd.GeoDataFrame(crs = 'epsg: 4612', geometry=japan_poly)\n",
    "\n",
    "gdf_japan.plot(color = 'darkgray', ax = ax)\n",
    "\n",
    "gdf_over.plot(column = 'advertised_price',\n",
    "                      cmap = 'Purples',\n",
    "                      norm = norm,\n",
    "                      legend = True,\n",
    "                      ax = ax,\n",
    "                      s = 7)\n",
    "\n",
    "plt.title('各都道府県の平均公示価格')\n",
    "plt.show()"
   ]
  },
  {
   "cell_type": "markdown",
   "metadata": {
    "id": "ofH4ilHytAaS"
   },
   "source": [
    "## ノック８７：インタラクティブな地図を作成してみよう"
   ]
  },
  {
   "cell_type": "code",
   "execution_count": null,
   "metadata": {
    "colab": {
     "base_uri": "https://localhost:8080/",
     "height": 1000
    },
    "executionInfo": {
     "elapsed": 11694,
     "status": "ok",
     "timestamp": 1709042156873,
     "user": {
      "displayName": "伊藤淳二",
      "userId": "06108280857351659017"
     },
     "user_tz": -540
    },
    "id": "IYnQM_yYfnz5",
    "outputId": "a361b221-a0c0-459e-fafe-43984ce28973"
   },
   "outputs": [],
   "source": [
    "import folium\n",
    "\n",
    "f_map = folium.Map(location=(35.6905, 139.6995), zoom_start=15)\n",
    "folium.GeoJson(gdf.to_json()).add_to(f_map)\n",
    "f_map"
   ]
  },
  {
   "cell_type": "markdown",
   "metadata": {
    "id": "74Q2gMJ7tTPf"
   },
   "source": [
    "## ノック８８：作成した地図を保存してみよう"
   ]
  },
  {
   "cell_type": "code",
   "execution_count": null,
   "metadata": {
    "executionInfo": {
     "elapsed": 702,
     "status": "ok",
     "timestamp": 1709042157546,
     "user": {
      "displayName": "伊藤淳二",
      "userId": "06108280857351659017"
     },
     "user_tz": -540
    },
    "id": "9NU7vYYWr40b"
   },
   "outputs": [],
   "source": [
    "f_map.save('data/shinjuku_station_map.html')"
   ]
  },
  {
   "cell_type": "markdown",
   "metadata": {
    "id": "SyNYtFettcMo"
   },
   "source": [
    "## ノック８９：座標変換してみよう"
   ]
  },
  {
   "cell_type": "code",
   "execution_count": null,
   "metadata": {
    "colab": {
     "base_uri": "https://localhost:8080/"
    },
    "executionInfo": {
     "elapsed": 11,
     "status": "ok",
     "timestamp": 1709042157547,
     "user": {
      "displayName": "伊藤淳二",
      "userId": "06108280857351659017"
     },
     "user_tz": -540
    },
    "id": "Ig2iHwB1im4D",
    "outputId": "c18da8e3-ed4f-4a1f-a56b-cdb33b049aa2"
   },
   "outputs": [],
   "source": [
    "gdf.crs"
   ]
  },
  {
   "cell_type": "code",
   "execution_count": null,
   "metadata": {
    "colab": {
     "base_uri": "https://localhost:8080/"
    },
    "executionInfo": {
     "elapsed": 10,
     "status": "ok",
     "timestamp": 1709042157547,
     "user": {
      "displayName": "伊藤淳二",
      "userId": "06108280857351659017"
     },
     "user_tz": -540
    },
    "id": "ZiqHq1f5p84w",
    "outputId": "8be658a5-3ee9-4f57-b893-a3f871bb061c"
   },
   "outputs": [],
   "source": [
    "from osgeo import ogr, osr\n",
    "import shapefile\n",
    "\n",
    "src_srs = osr.SpatialReference()\n",
    "dst_srs = osr.SpatialReference()\n",
    "src_srs.ImportFromEPSG(4612)\n",
    "dst_srs.ImportFromEPSG(3100)\n",
    "transform = osr.CoordinateTransformation(src_srs, dst_srs)\n",
    "\n",
    "src_advertised_price = shapefile.Reader('data/L01-18.shp')\n",
    "shps_advertised_price = src_advertised_price.shapes()\n",
    "\n",
    "utm_list = []\n",
    "for shp in shps_advertised_price :\n",
    "    utm_point = list(map(lambda point: transform.TransformPoint(point[1], point[0])[:2], shp.points))\n",
    "    utm_list.append(utm_point)\n",
    "\n",
    "utm_list"
   ]
  },
  {
   "cell_type": "markdown",
   "metadata": {
    "id": "HEve5tiKtlYV"
   },
   "source": [
    "## ノック９０：座標間の距離を計算しよう"
   ]
  },
  {
   "cell_type": "code",
   "execution_count": null,
   "metadata": {
    "colab": {
     "base_uri": "https://localhost:8080/"
    },
    "executionInfo": {
     "elapsed": 435,
     "status": "ok",
     "timestamp": 1709042157977,
     "user": {
      "displayName": "伊藤淳二",
      "userId": "06108280857351659017"
     },
     "user_tz": -540
    },
    "id": "_5JL5mlXXhQh",
    "outputId": "531f3ea5-1f2f-4e36-f5c1-013ae7e9e6fb"
   },
   "outputs": [],
   "source": [
    "from shapely import Point\n",
    "\n",
    "point = Point(35.6905, 139.6995)\n",
    "point = gpd.GeoDataFrame(geometry=[point], crs=2451)\n",
    "\n",
    "gdf.to_crs(2451).distance(point.geometry[0])"
   ]
  }
 ],
 "metadata": {
  "colab": {
   "provenance": []
  },
  "kernelspec": {
   "display_name": "Python 3",
   "name": "python3"
  },
  "language_info": {
   "name": "python"
  }
 },
 "nbformat": 4,
 "nbformat_minor": 0
}
